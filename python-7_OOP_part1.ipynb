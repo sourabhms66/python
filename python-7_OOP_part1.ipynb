{
 "cells": [
  {
   "cell_type": "markdown",
   "metadata": {},
   "source": [
    "Python says The list is a class"
   ]
  },
  {
   "cell_type": "code",
   "execution_count": 3,
   "metadata": {},
   "outputs": [
    {
     "name": "stdout",
     "output_type": "stream",
     "text": [
      "<class 'list'>\n"
     ]
    }
   ],
   "source": [
    "l = [1,2,3]\n",
    "print(type(l))"
   ]
  },
  {
   "cell_type": "markdown",
   "metadata": {},
   "source": [
    "But the error message say list is a object"
   ]
  },
  {
   "cell_type": "code",
   "execution_count": 4,
   "metadata": {},
   "outputs": [
    {
     "ename": "AttributeError",
     "evalue": "'list' object has no attribute 'upper'",
     "output_type": "error",
     "traceback": [
      "\u001b[0;31m---------------------------------------------------------------------------\u001b[0m",
      "\u001b[0;31mAttributeError\u001b[0m                            Traceback (most recent call last)",
      "Cell \u001b[0;32mIn[4], line 1\u001b[0m\n\u001b[0;32m----> 1\u001b[0m \u001b[43ml\u001b[49m\u001b[38;5;241;43m.\u001b[39;49m\u001b[43mupper\u001b[49m()\n",
      "\u001b[0;31mAttributeError\u001b[0m: 'list' object has no attribute 'upper'"
     ]
    }
   ],
   "source": [
    "l.upper()"
   ]
  },
  {
   "cell_type": "markdown",
   "metadata": {},
   "source": [
    "In python all the data types are classes, but when we create a variable of that datatype it become an object.\n",
    "\n",
    "# Class is a blue print\n",
    "\n",
    "A class is a set of rules and all the function inside that class folows them. Object is an instance of the class "
   ]
  },
  {
   "cell_type": "code",
   "execution_count": 2,
   "metadata": {},
   "outputs": [
    {
     "ename": "AttributeError",
     "evalue": "'str' object has no attribute 'append'",
     "output_type": "error",
     "traceback": [
      "\u001b[0;31m---------------------------------------------------------------------------\u001b[0m",
      "\u001b[0;31mAttributeError\u001b[0m                            Traceback (most recent call last)",
      "Cell \u001b[0;32mIn[2], line 2\u001b[0m\n\u001b[1;32m      1\u001b[0m s \u001b[38;5;241m=\u001b[39m \u001b[38;5;124m'\u001b[39m\u001b[38;5;124mhello\u001b[39m\u001b[38;5;124m'\u001b[39m\n\u001b[0;32m----> 2\u001b[0m \u001b[43ms\u001b[49m\u001b[38;5;241;43m.\u001b[39;49m\u001b[43mappend\u001b[49m(\u001b[38;5;124m'\u001b[39m\u001b[38;5;124ma\u001b[39m\u001b[38;5;124m'\u001b[39m)\n",
      "\u001b[0;31mAttributeError\u001b[0m: 'str' object has no attribute 'append'"
     ]
    }
   ],
   "source": [
    "s = 'hello'\n",
    "s.append('a')"
   ]
  },
  {
   "cell_type": "markdown",
   "metadata": {},
   "source": [
    "# The power of OOP\n",
    "\n",
    "A programer can create his own datatypes using oop, which helps enormously to make real world application\n",
    "\n",
    "Creating an object: syntax -> object_name = classname()"
   ]
  },
  {
   "cell_type": "code",
   "execution_count": 5,
   "metadata": {},
   "outputs": [],
   "source": [
    "# object literal\n",
    "l = [1,2,3]"
   ]
  },
  {
   "cell_type": "code",
   "execution_count": 28,
   "metadata": {},
   "outputs": [],
   "source": [
    "l = list([1,2,3])"
   ]
  },
  {
   "cell_type": "code",
   "execution_count": 7,
   "metadata": {},
   "outputs": [],
   "source": [
    "s = str()"
   ]
  },
  {
   "cell_type": "markdown",
   "metadata": {},
   "source": [
    "We are gonna make an ATM software.\n",
    "\n",
    "Class name always will be in pascal case; example HelloWorld; a class contain data and functions and a constractor; a variable always created inside the constructor."
   ]
  },
  {
   "cell_type": "code",
   "execution_count": 8,
   "metadata": {},
   "outputs": [],
   "source": [
    "class Atm:\n",
    "    def __init__(self):\n",
    "        self.pin = ''\n",
    "        self.balance = 0"
   ]
  },
  {
   "cell_type": "markdown",
   "metadata": {},
   "source": [
    "To make an object of this class"
   ]
  },
  {
   "cell_type": "code",
   "execution_count": 9,
   "metadata": {},
   "outputs": [],
   "source": [
    "obj = Atm()"
   ]
  },
  {
   "cell_type": "markdown",
   "metadata": {},
   "source": [
    "We can see the class name"
   ]
  },
  {
   "cell_type": "code",
   "execution_count": 10,
   "metadata": {},
   "outputs": [
    {
     "name": "stdout",
     "output_type": "stream",
     "text": [
      "<class '__main__.Atm'>\n"
     ]
    }
   ],
   "source": [
    "print(type(obj))"
   ]
  },
  {
   "cell_type": "markdown",
   "metadata": {},
   "source": [
    "if we type obj. and wait we will see the pin and balance because those two are there inside the class to access right now.\n",
    "\n",
    "Creating the functionalities"
   ]
  },
  {
   "cell_type": "code",
   "execution_count": null,
   "metadata": {},
   "outputs": [],
   "source": [
    "class Atm:\n",
    "    def __init__(self):\n",
    "        self.pin = ''\n",
    "        self.balance = 0\n",
    "\n",
    "    def menu(self):\n",
    "        user_input = input(\"\"\"\n",
    "                Hi how can i help you\n",
    "              1. Press 1 to create PIN\n",
    "              2. Press 2 to change PIN\n",
    "              3. Press 3 to check balance\n",
    "              4. Press 4 to withdraw\n",
    "              5. Press 5 to exit\n",
    "\"\"\")"
   ]
  },
  {
   "cell_type": "markdown",
   "metadata": {},
   "source": [
    "The constructor is called a super function because it has special functionality like the variables or the logic inside a constructor can be executed without calling the function when an object is created of this class. For our case as soon as an object is created of Atm class, pin and balance will be set to their values that set inside the constructor."
   ]
  },
  {
   "cell_type": "code",
   "execution_count": 1,
   "metadata": {},
   "outputs": [],
   "source": [
    "class Atm:\n",
    "    def __init__(self):\n",
    "        self.pin = ''\n",
    "        self.balance = 0\n",
    "        print(\"Constructor has been executed.\")\n",
    "\n",
    "    def menu(self):\n",
    "        user_input = input(\"\"\"\n",
    "                Hi how can i help you\n",
    "              1. Press 1 to create PIN\n",
    "              2. Press 2 to change PIN\n",
    "              3. Press 3 to check balance\n",
    "              4. Press 4 to withdraw\n",
    "              5. Press 5 to exit\n",
    "\"\"\")"
   ]
  },
  {
   "cell_type": "code",
   "execution_count": 2,
   "metadata": {},
   "outputs": [
    {
     "name": "stdout",
     "output_type": "stream",
     "text": [
      "Constructor has been executed.\n"
     ]
    }
   ],
   "source": [
    "obj = Atm()"
   ]
  },
  {
   "cell_type": "markdown",
   "metadata": {},
   "source": [
    "So we will use this behavior of the constructor very smartly, we are call the menu function from the consrtuctor to display menu options"
   ]
  },
  {
   "cell_type": "code",
   "execution_count": 3,
   "metadata": {},
   "outputs": [],
   "source": [
    "class Atm:\n",
    "    def __init__(self):\n",
    "        self.pin = ''\n",
    "        self.balance = 0\n",
    "        self.menu()\n",
    "\n",
    "    def menu(self):\n",
    "        user_input = input(\"\"\"\n",
    "                Hi how can i help you\n",
    "              1. Press 1 to create PIN\n",
    "              2. Press 2 to change PIN\n",
    "              3. Press 3 to check balance\n",
    "              4. Press 4 to withdraw\n",
    "              5. Press 5 to exit\n",
    "\"\"\")"
   ]
  },
  {
   "cell_type": "code",
   "execution_count": 4,
   "metadata": {},
   "outputs": [],
   "source": [
    "obj = Atm()"
   ]
  },
  {
   "cell_type": "markdown",
   "metadata": {},
   "source": [
    "Creating the skeleton of the code"
   ]
  },
  {
   "cell_type": "code",
   "execution_count": null,
   "metadata": {},
   "outputs": [],
   "source": [
    "class Atm:\n",
    "    def __init__(self):\n",
    "        self.pin = ''\n",
    "        self.balance = 0\n",
    "        self.menu()\n",
    "\n",
    "    def menu(self):\n",
    "        user_input = int(input(\"\"\"\n",
    "                Hi how can i help you\n",
    "              1. Press 1 to create PIN\n",
    "              2. Press 2 to change PIN\n",
    "              3. Press 3 to check balance\n",
    "              4. Press 4 to withdraw\n",
    "              5. Press 5 to exit\n",
    "\"\"\"))\n",
    "        if user_input == 1:\n",
    "            # create pin\n",
    "        elif user_input == 2:\n",
    "            # change pin\n",
    "        elif user_input == 3:\n",
    "            # check_balance\n",
    "        elif user_input == 4:\n",
    "        else:\n",
    "            #exit\n"
   ]
  },
  {
   "cell_type": "markdown",
   "metadata": {},
   "source": [
    "Let's create the create_pin function"
   ]
  },
  {
   "cell_type": "code",
   "execution_count": 5,
   "metadata": {},
   "outputs": [],
   "source": [
    "class Atm:\n",
    "    def __init__(self):\n",
    "        self.pin = ''\n",
    "        self.balance = 0\n",
    "        self.menu()\n",
    "\n",
    "    def menu(self):\n",
    "        user_input = int(input(\"\"\"\n",
    "                Hi how can i help you\n",
    "              1. Press 1 to create PIN\n",
    "              2. Press 2 to change PIN\n",
    "              3. Press 3 to check balance\n",
    "              4. Press 4 to withdraw\n",
    "              5. Press 5 to exit\n",
    "\"\"\"))\n",
    "        if user_input == 1:\n",
    "            self.create_pin()\n",
    "        elif user_input == 2:\n",
    "            # change pin\n",
    "            pass\n",
    "        elif user_input == 3:\n",
    "            # check_balance\n",
    "            pass\n",
    "        elif user_input == 4:\n",
    "            pass\n",
    "        else:\n",
    "            #exit\n",
    "            pass\n",
    "\n",
    "    def create_pin(self):\n",
    "        user_pin = int(input(\"Enter your PIN\"))\n",
    "        self.pin = user_pin\n",
    "        print(\"PIN created successfully.\")\n",
    "        user_balance = int(input(\"Enter you balance\")) # as we don't have banking server attached here\n",
    "        self.balance = user_balance\n",
    "        print(\"Your balance has been updated\")"
   ]
  },
  {
   "cell_type": "markdown",
   "metadata": {},
   "source": [
    "Lets run and test until now"
   ]
  },
  {
   "cell_type": "code",
   "execution_count": 6,
   "metadata": {},
   "outputs": [
    {
     "name": "stdout",
     "output_type": "stream",
     "text": [
      "PIN created successfully.\n",
      "Your balance has been updated\n"
     ]
    }
   ],
   "source": [
    "abj = Atm()"
   ]
  },
  {
   "cell_type": "markdown",
   "metadata": {},
   "source": [
    "It's working fine, let's the change_pin function"
   ]
  },
  {
   "cell_type": "code",
   "execution_count": 13,
   "metadata": {},
   "outputs": [],
   "source": [
    "class Atm:\n",
    "    def __init__(self):\n",
    "        self.pin = ''\n",
    "        self.balance = 0\n",
    "        self.menu()\n",
    "\n",
    "    def menu(self):\n",
    "        user_input = int(input(\"\"\"\n",
    "                Hi how can i help you\n",
    "              1. Press 1 to create PIN\n",
    "              2. Press 2 to change PIN\n",
    "              3. Press 3 to check balance\n",
    "              4. Press 4 to withdraw\n",
    "              5. Press 5 to exit\n",
    "\"\"\"))\n",
    "        if user_input == 1:\n",
    "            self.create_pin()\n",
    "        elif user_input == 2:\n",
    "            self.change_pin()\n",
    "        elif user_input == 3:\n",
    "            # check_balance\n",
    "            pass\n",
    "        elif user_input == 4:\n",
    "            pass\n",
    "        else:\n",
    "            #exit\n",
    "            pass\n",
    "\n",
    "    def create_pin(self):\n",
    "        user_pin = int(input(\"Enter your PIN\"))\n",
    "        self.pin = user_pin\n",
    "        print(\"PIN created successfully.\")\n",
    "        user_balance = int(input(\"Enter you balance\")) # as we don't have banking server attached here\n",
    "        self.balance = user_balance\n",
    "        print(\"Your balance has been updated\")\n",
    "        self.menu()\n",
    "\n",
    "    def change_pin(self):\n",
    "        old_pin = int(input(\"Enter your PIN\"))\n",
    "        if old_pin==self.pin:\n",
    "            new_pin = int(input(\"Enter your new PIN\"))\n",
    "            self.pin = new_pin\n",
    "            print(\"PIN updated successfully.\")\n",
    "            self.menu()\n",
    "        else:\n",
    "            print(\"You have entered wrong PIN, try again\")\n",
    "            self.menu()"
   ]
  },
  {
   "cell_type": "code",
   "execution_count": 14,
   "metadata": {},
   "outputs": [
    {
     "name": "stdout",
     "output_type": "stream",
     "text": [
      "PIN created successfully.\n",
      "Your balance has been updated\n",
      "PIN updated successfully.\n"
     ]
    }
   ],
   "source": [
    "obj = Atm()"
   ]
  },
  {
   "cell_type": "markdown",
   "metadata": {},
   "source": [
    "It's working fine, let's the check_balance function"
   ]
  },
  {
   "cell_type": "code",
   "execution_count": 17,
   "metadata": {},
   "outputs": [],
   "source": [
    "class Atm:\n",
    "    def __init__(self):\n",
    "        self.pin = ''\n",
    "        self.balance = 0\n",
    "        self.menu()\n",
    "\n",
    "    def menu(self):\n",
    "        user_input = int(input(\"\"\"\n",
    "                Hi how can i help you\n",
    "              1. Press 1 to create PIN\n",
    "              2. Press 2 to change PIN\n",
    "              3. Press 3 to check balance\n",
    "              4. Press 4 to withdraw\n",
    "              5. Press 5 to exit\n",
    "\"\"\"))\n",
    "        if user_input == 1:\n",
    "            self.create_pin()\n",
    "        elif user_input == 2:\n",
    "            self.change_pin()\n",
    "        elif user_input == 3:\n",
    "            self.check_balance()\n",
    "        elif user_input == 4:\n",
    "            pass\n",
    "        else:\n",
    "            #exit\n",
    "            pass\n",
    "\n",
    "    def create_pin(self):\n",
    "        user_pin = int(input(\"Enter your PIN\"))\n",
    "        self.pin = user_pin\n",
    "        print(\"PIN created successfully.\")\n",
    "        user_balance = int(input(\"Enter you balance\")) # as we don't have banking server attached here\n",
    "        self.balance = user_balance\n",
    "        print(\"Your balance has been updated\")\n",
    "        self.menu()\n",
    "\n",
    "    def change_pin(self):\n",
    "        old_pin = int(input(\"Enter your PIN\"))\n",
    "        if old_pin==self.pin:\n",
    "            new_pin = int(input(\"Enter your new PIN\"))\n",
    "            self.pin = new_pin\n",
    "            print(\"PIN updated successfully.\")\n",
    "            self.menu()\n",
    "        else:\n",
    "            print(\"You have entered wrong PIN, try again\")\n",
    "            self.menu()\n",
    "\n",
    "    def check_balance(self):\n",
    "        check_pin = int(input(\"Enter your PIN\"))\n",
    "        if check_pin==self.pin:\n",
    "            print(\"Your balance is:\",self.balance)\n",
    "            self.menu()\n",
    "        else:\n",
    "            print(\"You have entered wrong PIN, try again\")\n",
    "            self.menu()"
   ]
  },
  {
   "cell_type": "code",
   "execution_count": 18,
   "metadata": {},
   "outputs": [
    {
     "name": "stdout",
     "output_type": "stream",
     "text": [
      "PIN created successfully.\n",
      "Your balance has been updated\n",
      "Your balance is: 5000\n"
     ]
    }
   ],
   "source": [
    "obj = Atm()"
   ]
  },
  {
   "cell_type": "markdown",
   "metadata": {},
   "source": [
    "Lets add withdraw"
   ]
  },
  {
   "cell_type": "code",
   "execution_count": 23,
   "metadata": {},
   "outputs": [],
   "source": [
    "class Atm:\n",
    "    def __init__(self):\n",
    "        self.pin = ''\n",
    "        self.balance = 0\n",
    "        self.menu()\n",
    "\n",
    "    def menu(self):\n",
    "        user_input = int(input(\"\"\"\n",
    "                Hi how can i help you\n",
    "              1. Press 1 to create PIN\n",
    "              2. Press 2 to change PIN\n",
    "              3. Press 3 to check balance\n",
    "              4. Press 4 to withdraw\n",
    "              5. Press 5 to exit\n",
    "\"\"\"))\n",
    "        if user_input == 1:\n",
    "            self.create_pin()\n",
    "        elif user_input == 2:\n",
    "            self.change_pin()\n",
    "        elif user_input == 3:\n",
    "            self.check_balance()\n",
    "        elif user_input == 4:\n",
    "            self.balance_withdraw()\n",
    "        else:\n",
    "            #exit\n",
    "            pass\n",
    "\n",
    "    def create_pin(self):\n",
    "        user_pin = int(input(\"Enter your PIN\"))\n",
    "        self.pin = user_pin\n",
    "        print(\"PIN created successfully.\")\n",
    "        user_balance = int(input(\"Enter you balance\")) # as we don't have banking server attached here\n",
    "        self.balance = user_balance\n",
    "        print(\"Your balance has been updated\")\n",
    "        self.menu()\n",
    "\n",
    "    def change_pin(self):\n",
    "        old_pin = int(input(\"Enter your PIN\"))\n",
    "        if old_pin==self.pin:\n",
    "            new_pin = int(input(\"Enter your new PIN\"))\n",
    "            self.pin = new_pin\n",
    "            print(\"PIN updated successfully.\")\n",
    "            self.menu()\n",
    "        else:\n",
    "            print(\"You have entered wrong PIN, try again\")\n",
    "            self.menu()\n",
    "\n",
    "    def check_balance(self):\n",
    "        check_pin = int(input(\"Enter your PIN\"))\n",
    "        if check_pin==self.pin:\n",
    "            print(\"Your balance is:\",self.balance)\n",
    "            self.menu()\n",
    "        else:\n",
    "            print(\"You have entered wrong PIN, try again\")\n",
    "            self.menu()\n",
    "    \n",
    "    def balance_withdraw(self):\n",
    "        withdraw_pin = int(input(\"Enter your PIN\"))\n",
    "        if withdraw_pin==self.pin:\n",
    "            amount = int(input(\"Enter the amount:\"))\n",
    "            if amount<=self.balance:\n",
    "                print(\"Dispancing cash now....\")\n",
    "                print(\"Collect your money\")\n",
    "                self.balance = self.balance - amount\n",
    "                print(\"Your available balance is:\",self.balance)\n",
    "            else:\n",
    "                print(\"Insufficient funds!\")\n",
    "        else:\n",
    "            print(\"You have entered wrong PIN, try again\")\n",
    "        self.menu()"
   ]
  },
  {
   "cell_type": "code",
   "execution_count": 24,
   "metadata": {},
   "outputs": [
    {
     "name": "stdout",
     "output_type": "stream",
     "text": [
      "PIN created successfully.\n",
      "Your balance has been updated\n",
      "Dispancing cash now....\n",
      "Collect your money\n",
      "Your available balance is: 450\n"
     ]
    }
   ],
   "source": [
    "obj = Atm()"
   ]
  },
  {
   "cell_type": "markdown",
   "metadata": {},
   "source": [
    "# Method vs Function\n",
    "\n",
    "When a function is created inside a class is called a method. Functions are independent outside of a class.\n",
    "\n",
    "# Magic Methods\n",
    "\n",
    "In Python, magic methods (or dunder methods) are special methods with double underscores on both sides, such as __init__, __str__, __add__, etc. These methods are called automatically by the Python interpreter in response to certain events or operations. They provide a way for objects to define how they behave in various situations and are an integral part of Python's object-oriented programming.\n",
    "\n",
    "# Why do we need a constructor?\n",
    "\n",
    "Overall, having a constructor in a class provides a convenient and organized way to set up the initial state of objects and enforce certain conditions during object creation. This can include setting up internet connections, opening files, or connecting to a database, and we don't wanna give up these control to the user to get these process done. We wanna hide those logic from the user so when the user use the application the constructor executed automatically behind the scene and the application is ready to use.\n",
    "\n",
    "# Why do we need a self?\n",
    "\n",
    "As we have mention all the methods that are located inside a class including the constructor is only and only accessible by an object belongs to that class not even by another methods in the class, but what if one method inside class need to communicate with the other one? self is that key that makes that connection between them including constructor, that is why when we need to call the menu from the constructor we didn't just do menu() we used self.menu()\n",
    "\n",
    "If we print the memory address of self"
   ]
  },
  {
   "cell_type": "code",
   "execution_count": 29,
   "metadata": {},
   "outputs": [],
   "source": [
    "class Atm:\n",
    "    def __init__(self):\n",
    "        print(id(self))\n",
    "        self.pin = ''\n",
    "        self.balance = 0\n",
    "        #self.menu()\n",
    "\n",
    "    def menu(self):\n",
    "        user_input = int(input(\"\"\"\n",
    "                Hi how can i help you\n",
    "              1. Press 1 to create PIN\n",
    "              2. Press 2 to change PIN\n",
    "              3. Press 3 to check balance\n",
    "              4. Press 4 to withdraw\n",
    "              5. Press 5 to exit\n",
    "\"\"\"))\n",
    "        if user_input == 1:\n",
    "            self.create_pin()\n",
    "        elif user_input == 2:\n",
    "            self.change_pin()\n",
    "        elif user_input == 3:\n",
    "            self.check_balance()\n",
    "        elif user_input == 4:\n",
    "            self.balance_withdraw()\n",
    "        else:\n",
    "            #exit\n",
    "            pass\n",
    "\n",
    "    def create_pin(self):\n",
    "        user_pin = int(input(\"Enter your PIN\"))\n",
    "        self.pin = user_pin\n",
    "        print(\"PIN created successfully.\")\n",
    "        user_balance = int(input(\"Enter you balance\")) # as we don't have banking server attached here\n",
    "        self.balance = user_balance\n",
    "        print(\"Your balance has been updated\")\n",
    "        self.menu()\n",
    "\n",
    "    def change_pin(self):\n",
    "        old_pin = int(input(\"Enter your PIN\"))\n",
    "        if old_pin==self.pin:\n",
    "            new_pin = int(input(\"Enter your new PIN\"))\n",
    "            self.pin = new_pin\n",
    "            print(\"PIN updated successfully.\")\n",
    "            self.menu()\n",
    "        else:\n",
    "            print(\"You have entered wrong PIN, try again\")\n",
    "            self.menu()\n",
    "\n",
    "    def check_balance(self):\n",
    "        check_pin = int(input(\"Enter your PIN\"))\n",
    "        if check_pin==self.pin:\n",
    "            print(\"Your balance is:\",self.balance)\n",
    "            self.menu()\n",
    "        else:\n",
    "            print(\"You have entered wrong PIN, try again\")\n",
    "            self.menu()\n",
    "    \n",
    "    def balance_withdraw(self):\n",
    "        withdraw_pin = int(input(\"Enter your PIN\"))\n",
    "        if withdraw_pin==self.pin:\n",
    "            amount = int(input(\"Enter the amount:\"))\n",
    "            if amount<=self.balance:\n",
    "                print(\"Dispancing cash now....\")\n",
    "                print(\"Collect your money\")\n",
    "                self.balance = self.balance - amount\n",
    "                print(\"Your available balance is:\",self.balance)\n",
    "            else:\n",
    "                print(\"Insufficient funds!\")\n",
    "        else:\n",
    "            print(\"You have entered wrong PIN, try again\")\n",
    "        self.menu()"
   ]
  },
  {
   "cell_type": "code",
   "execution_count": 30,
   "metadata": {},
   "outputs": [
    {
     "name": "stdout",
     "output_type": "stream",
     "text": [
      "4710328144\n"
     ]
    }
   ],
   "source": [
    "obj = Atm()"
   ]
  },
  {
   "cell_type": "markdown",
   "metadata": {},
   "source": [
    "And if we print the id of the object, they are same. So it can be conclude that the object is working as self here. 'self' is just a word, it can be any word"
   ]
  },
  {
   "cell_type": "code",
   "execution_count": 31,
   "metadata": {},
   "outputs": [
    {
     "name": "stdout",
     "output_type": "stream",
     "text": [
      "4710328144\n"
     ]
    }
   ],
   "source": [
    "print(id(obj))"
   ]
  },
  {
   "cell_type": "markdown",
   "metadata": {},
   "source": [
    "# Creating our own datatype: Fraction"
   ]
  },
  {
   "cell_type": "code",
   "execution_count": 7,
   "metadata": {},
   "outputs": [
    {
     "data": {
      "text/plain": [
       "0.375"
      ]
     },
     "execution_count": 7,
     "metadata": {},
     "output_type": "execute_result"
    }
   ],
   "source": [
    "3/4*1/2"
   ]
  },
  {
   "cell_type": "markdown",
   "metadata": {},
   "source": [
    "As we see the operatin above returns a decimal number but what if we want the result in fraction\n",
    "\n",
    "Let's creat a fraction class"
   ]
  },
  {
   "cell_type": "code",
   "execution_count": 3,
   "metadata": {},
   "outputs": [],
   "source": [
    "class Fraction:\n",
    "\n",
    "    # patameterized constractor\n",
    "    def __init__(self,x,y):\n",
    "        self.num = x\n",
    "        self.den = y\n",
    "        "
   ]
  },
  {
   "cell_type": "code",
   "execution_count": 4,
   "metadata": {},
   "outputs": [],
   "source": [
    "frac = Fraction(3,4)"
   ]
  },
  {
   "cell_type": "markdown",
   "metadata": {},
   "source": [
    "Now if we try to print the object; it's gonna print a memory location because python doesn't know how the object looks like."
   ]
  },
  {
   "cell_type": "code",
   "execution_count": 5,
   "metadata": {},
   "outputs": [
    {
     "name": "stdout",
     "output_type": "stream",
     "text": [
      "<__main__.Fraction object at 0x10871ff90>\n"
     ]
    }
   ],
   "source": [
    "print(frac)"
   ]
  },
  {
   "cell_type": "markdown",
   "metadata": {},
   "source": [
    "So it's the programer responsibility to instruct python how their object looks like.\n",
    "\n",
    "So we have to insert seconed magic method __str__(): Its magic or super power is when we try to print an object python is goona get inside the the class and look for this perticular __str__(): magic method.\n",
    "\n",
    "In Python, the __str__ method is a special method that is used to define the string representation of an object when str() or print() is called on the object. The __str__ method is automatically called by Python, and it takes only one argument, which is self, representing the instance for which the string representation is being generated."
   ]
  },
  {
   "cell_type": "code",
   "execution_count": 9,
   "metadata": {},
   "outputs": [],
   "source": [
    "class Fraction:\n",
    "\n",
    "    # patameterized constractor\n",
    "    def __init__(self,x,y):\n",
    "        self.num = x\n",
    "        self.den = y\n",
    "        \n",
    "    def __str__(self):\n",
    "        return 'Printing objects'"
   ]
  },
  {
   "cell_type": "code",
   "execution_count": 10,
   "metadata": {},
   "outputs": [],
   "source": [
    "frac = Fraction(3,4)"
   ]
  },
  {
   "cell_type": "markdown",
   "metadata": {},
   "source": [
    "Now if we try to print the object"
   ]
  },
  {
   "cell_type": "code",
   "execution_count": 11,
   "metadata": {},
   "outputs": [
    {
     "name": "stdout",
     "output_type": "stream",
     "text": [
      "Printing objects\n"
     ]
    }
   ],
   "source": [
    "print(frac)"
   ]
  },
  {
   "cell_type": "markdown",
   "metadata": {},
   "source": [
    "Now if we try to flech the actual data for fraction datatype"
   ]
  },
  {
   "cell_type": "code",
   "execution_count": 12,
   "metadata": {},
   "outputs": [],
   "source": [
    "class Fraction:\n",
    "\n",
    "    # patameterized constractor\n",
    "    def __init__(self,x,y):\n",
    "        self.num = x\n",
    "        self.den = y\n",
    "        \n",
    "    def __str__(self):\n",
    "        return '{}/{}'.format(self.num,self.den)"
   ]
  },
  {
   "cell_type": "code",
   "execution_count": 15,
   "metadata": {},
   "outputs": [],
   "source": [
    "frac = Fraction(3,4)\n",
    "frac2 = Fraction(4,5)"
   ]
  },
  {
   "cell_type": "code",
   "execution_count": 16,
   "metadata": {},
   "outputs": [
    {
     "name": "stdout",
     "output_type": "stream",
     "text": [
      "3/4\n",
      "4/5\n"
     ]
    }
   ],
   "source": [
    "print(frac)\n",
    "print(frac2)"
   ]
  },
  {
   "cell_type": "markdown",
   "metadata": {},
   "source": [
    "Now if we try to do addition operation between those two fractions we gonna get an error because we didn't wrote the addition logic yet"
   ]
  },
  {
   "cell_type": "code",
   "execution_count": 17,
   "metadata": {},
   "outputs": [
    {
     "ename": "TypeError",
     "evalue": "unsupported operand type(s) for +: 'Fraction' and 'Fraction'",
     "output_type": "error",
     "traceback": [
      "\u001b[0;31m---------------------------------------------------------------------------\u001b[0m",
      "\u001b[0;31mTypeError\u001b[0m                                 Traceback (most recent call last)",
      "Cell \u001b[0;32mIn[17], line 1\u001b[0m\n\u001b[0;32m----> 1\u001b[0m \u001b[38;5;28mprint\u001b[39m(\u001b[43mfrac\u001b[49m\u001b[38;5;241;43m+\u001b[39;49m\u001b[43mfrac2\u001b[49m)\n",
      "\u001b[0;31mTypeError\u001b[0m: unsupported operand type(s) for +: 'Fraction' and 'Fraction'"
     ]
    }
   ],
   "source": [
    "print(frac+frac2)"
   ]
  },
  {
   "cell_type": "markdown",
   "metadata": {},
   "source": [
    "Here comes the third magic method __add__(): it triggers automatically when we use a '+' operand between the objects belongs to the same class.\n",
    "\n",
    "When you define __add__, it's meant to handle the addition operation between two instances of the class. The convention is to use self to represent the instance on which the method is called and other to represent the other instance involved in the operation. This allows you to access the attributes of both instances and perform the necessary calculations."
   ]
  },
  {
   "cell_type": "code",
   "execution_count": 22,
   "metadata": {},
   "outputs": [],
   "source": [
    "class Fraction:\n",
    "\n",
    "    # patameterized constractor\n",
    "    def __init__(self,x,y):\n",
    "        self.num = x\n",
    "        self.den = y\n",
    "        \n",
    "    def __str__(self):\n",
    "        return '{}/{}'.format(self.num,self.den)\n",
    "    \n",
    "    def __add__(self,other):\n",
    "        return(\"Addition happens here\")"
   ]
  },
  {
   "cell_type": "code",
   "execution_count": 23,
   "metadata": {},
   "outputs": [],
   "source": [
    "frac = Fraction(3,4)\n",
    "frac2 = Fraction(4,5)"
   ]
  },
  {
   "cell_type": "code",
   "execution_count": 24,
   "metadata": {},
   "outputs": [
    {
     "name": "stdout",
     "output_type": "stream",
     "text": [
      "Addition happens here\n"
     ]
    }
   ],
   "source": [
    "print(frac + frac2)"
   ]
  },
  {
   "cell_type": "markdown",
   "metadata": {},
   "source": [
    "Let's add the logic for addition"
   ]
  },
  {
   "cell_type": "code",
   "execution_count": 28,
   "metadata": {},
   "outputs": [],
   "source": [
    "class Fraction:\n",
    "\n",
    "    # patameterized constractor\n",
    "    def __init__(self,x,y):\n",
    "        self.num = x\n",
    "        self.den = y\n",
    "        \n",
    "    def __str__(self):\n",
    "        return '{}/{}'.format(self.num,self.den)\n",
    "    \n",
    "    def __add__(self,other):\n",
    "        new_num = self.num*other.den + other.num*self.den\n",
    "        new_den = self.den*other.den\n",
    "        return '{}/{}'.format(new_num,new_den)"
   ]
  },
  {
   "cell_type": "code",
   "execution_count": 29,
   "metadata": {},
   "outputs": [],
   "source": [
    "frac = Fraction(3,4)\n",
    "frac2 = Fraction(4,5)"
   ]
  },
  {
   "cell_type": "code",
   "execution_count": 30,
   "metadata": {},
   "outputs": [
    {
     "name": "stdout",
     "output_type": "stream",
     "text": [
      "31/20\n"
     ]
    }
   ],
   "source": [
    "print(frac + frac2)"
   ]
  },
  {
   "cell_type": "markdown",
   "metadata": {},
   "source": [
    "Let's add the logic for addition. Trigger when pyhton see a '-' between its object. __sub__():"
   ]
  },
  {
   "cell_type": "code",
   "execution_count": 31,
   "metadata": {},
   "outputs": [],
   "source": [
    "class Fraction:\n",
    "\n",
    "    # patameterized constractor\n",
    "    def __init__(self,x,y):\n",
    "        self.num = x\n",
    "        self.den = y\n",
    "        \n",
    "    def __str__(self):\n",
    "        return '{}/{}'.format(self.num,self.den)\n",
    "    \n",
    "    def __add__(self,other):\n",
    "        new_num = self.num*other.den + other.num*self.den\n",
    "        new_den = self.den*other.den\n",
    "        return '{}/{}'.format(new_num,new_den)\n",
    "    \n",
    "    def __sub__(self,other):\n",
    "        new_num = self.num*other.den - other.num*self.den\n",
    "        new_den = self.den*other.den\n",
    "        return '{}/{}'.format(new_num,new_den)"
   ]
  },
  {
   "cell_type": "code",
   "execution_count": 32,
   "metadata": {},
   "outputs": [],
   "source": [
    "frac = Fraction(3,4)\n",
    "frac2 = Fraction(4,5)"
   ]
  },
  {
   "cell_type": "code",
   "execution_count": 33,
   "metadata": {},
   "outputs": [
    {
     "name": "stdout",
     "output_type": "stream",
     "text": [
      "-1/20\n"
     ]
    }
   ],
   "source": [
    "print(frac - frac2)"
   ]
  },
  {
   "cell_type": "markdown",
   "metadata": {},
   "source": [
    "Similarly for multiplication __mul__():"
   ]
  },
  {
   "cell_type": "code",
   "execution_count": 34,
   "metadata": {},
   "outputs": [],
   "source": [
    "class Fraction:\n",
    "\n",
    "    # patameterized constractor\n",
    "    def __init__(self,x,y):\n",
    "        self.num = x\n",
    "        self.den = y\n",
    "        \n",
    "    def __str__(self):\n",
    "        return '{}/{}'.format(self.num,self.den)\n",
    "    \n",
    "    def __add__(self,other):\n",
    "        new_num = self.num*other.den + other.num*self.den\n",
    "        new_den = self.den*other.den\n",
    "        return '{}/{}'.format(new_num,new_den)\n",
    "    \n",
    "    def __sub__(self,other):\n",
    "        new_num = self.num*other.den - other.num*self.den\n",
    "        new_den = self.den*other.den\n",
    "        return '{}/{}'.format(new_num,new_den)\n",
    "    \n",
    "    def __mul__(self,other):\n",
    "        new_num = self.num*other.num\n",
    "        new_den = self.den*other.den\n",
    "        return '{}/{}'.format(new_num,new_den)"
   ]
  },
  {
   "cell_type": "code",
   "execution_count": 35,
   "metadata": {},
   "outputs": [],
   "source": [
    "frac = Fraction(3,4)\n",
    "frac2 = Fraction(4,5)"
   ]
  },
  {
   "cell_type": "code",
   "execution_count": 36,
   "metadata": {},
   "outputs": [
    {
     "name": "stdout",
     "output_type": "stream",
     "text": [
      "12/20\n"
     ]
    }
   ],
   "source": [
    "print(frac * frac2)"
   ]
  },
  {
   "cell_type": "markdown",
   "metadata": {},
   "source": [
    "For division __truediv__():"
   ]
  },
  {
   "cell_type": "code",
   "execution_count": 37,
   "metadata": {},
   "outputs": [],
   "source": [
    "class Fraction:\n",
    "\n",
    "    # patameterized constractor\n",
    "    def __init__(self,x,y):\n",
    "        self.num = x\n",
    "        self.den = y\n",
    "        \n",
    "    def __str__(self):\n",
    "        return '{}/{}'.format(self.num,self.den)\n",
    "    \n",
    "    def __add__(self,other):\n",
    "        new_num = self.num*other.den + other.num*self.den\n",
    "        new_den = self.den*other.den\n",
    "        return '{}/{}'.format(new_num,new_den)\n",
    "    \n",
    "    def __sub__(self,other):\n",
    "        new_num = self.num*other.den - other.num*self.den\n",
    "        new_den = self.den*other.den\n",
    "        return '{}/{}'.format(new_num,new_den)\n",
    "    \n",
    "    def __mul__(self,other):\n",
    "        new_num = self.num*other.num\n",
    "        new_den = self.den*other.den\n",
    "        return '{}/{}'.format(new_num,new_den)\n",
    "    \n",
    "    def __truediv__(self,other):\n",
    "        new_num = self.num*other.den\n",
    "        new_den = self.den*other.num\n",
    "        return '{}/{}'.format(new_num,new_den)"
   ]
  },
  {
   "cell_type": "code",
   "execution_count": 38,
   "metadata": {},
   "outputs": [],
   "source": [
    "frac = Fraction(3,4)\n",
    "frac2 = Fraction(4,5)"
   ]
  },
  {
   "cell_type": "code",
   "execution_count": 40,
   "metadata": {},
   "outputs": [
    {
     "name": "stdout",
     "output_type": "stream",
     "text": [
      "31/20\n",
      "-1/20\n",
      "12/20\n",
      "15/16\n"
     ]
    }
   ],
   "source": [
    "print(frac + frac2)\n",
    "print(frac - frac2)\n",
    "print(frac * frac2)\n",
    "print(frac / frac2)"
   ]
  },
  {
   "cell_type": "markdown",
   "metadata": {},
   "source": [
    "Let's add a method to convert in decimal."
   ]
  },
  {
   "cell_type": "code",
   "execution_count": 41,
   "metadata": {},
   "outputs": [],
   "source": [
    "class Fraction:\n",
    "\n",
    "    # patameterized constractor\n",
    "    def __init__(self,x,y):\n",
    "        self.num = x\n",
    "        self.den = y\n",
    "        \n",
    "    def __str__(self):\n",
    "        return '{}/{}'.format(self.num,self.den)\n",
    "    \n",
    "    def __add__(self,other):\n",
    "        new_num = self.num*other.den + other.num*self.den\n",
    "        new_den = self.den*other.den\n",
    "        return '{}/{}'.format(new_num,new_den)\n",
    "    \n",
    "    def __sub__(self,other):\n",
    "        new_num = self.num*other.den - other.num*self.den\n",
    "        new_den = self.den*other.den\n",
    "        return '{}/{}'.format(new_num,new_den)\n",
    "    \n",
    "    def __mul__(self,other):\n",
    "        new_num = self.num*other.num\n",
    "        new_den = self.den*other.den\n",
    "        return '{}/{}'.format(new_num,new_den)\n",
    "    \n",
    "    def __truediv__(self,other):\n",
    "        new_num = self.num*other.den\n",
    "        new_den = self.den*other.num\n",
    "        return '{}/{}'.format(new_num,new_den)\n",
    "    \n",
    "    def convert_to_decimal(self):\n",
    "        return self.num/self.den"
   ]
  },
  {
   "cell_type": "code",
   "execution_count": 43,
   "metadata": {},
   "outputs": [],
   "source": [
    "frac = Fraction(3,4)"
   ]
  },
  {
   "cell_type": "code",
   "execution_count": 44,
   "metadata": {},
   "outputs": [
    {
     "data": {
      "text/plain": [
       "0.75"
      ]
     },
     "execution_count": 44,
     "metadata": {},
     "output_type": "execute_result"
    }
   ],
   "source": [
    "frac.convert_to_decimal()"
   ]
  },
  {
   "cell_type": "markdown",
   "metadata": {},
   "source": [
    "# Note\n",
    "\n",
    "This is the power of OOP we can create our own datatypes. Using OOP we can create datatypes of geometry coordinate geometry or libraries like panda or numpy"
   ]
  },
  {
   "cell_type": "code",
   "execution_count": null,
   "metadata": {},
   "outputs": [],
   "source": []
  }
 ],
 "metadata": {
  "kernelspec": {
   "display_name": "Python 3",
   "language": "python",
   "name": "python3"
  },
  "language_info": {
   "codemirror_mode": {
    "name": "ipython",
    "version": 3
   },
   "file_extension": ".py",
   "mimetype": "text/x-python",
   "name": "python",
   "nbconvert_exporter": "python",
   "pygments_lexer": "ipython3",
   "version": "3.11.5"
  }
 },
 "nbformat": 4,
 "nbformat_minor": 2
}
