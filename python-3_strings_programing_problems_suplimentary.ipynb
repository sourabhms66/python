{
 "cells": [
  {
   "cell_type": "markdown",
   "metadata": {},
   "source": [
    "1: Find the length of a given string without using the len() function"
   ]
  },
  {
   "cell_type": "code",
   "execution_count": 2,
   "metadata": {},
   "outputs": [
    {
     "name": "stdout",
     "output_type": "stream",
     "text": [
      "the length of the given string is 12\n"
     ]
    }
   ],
   "source": [
    "s = \"given string\"\n",
    "counter = 0\n",
    "for i in s:\n",
    "    counter += 1\n",
    "print(\"the length of the given string is\",counter)"
   ]
  },
  {
   "cell_type": "markdown",
   "metadata": {},
   "source": [
    "2: Extract username from a given email. \n",
    " Example if the email is nitish24singh@gmail.com \n",
    " then the username should be nitish24singh\n"
   ]
  },
  {
   "cell_type": "code",
   "execution_count": 9,
   "metadata": {},
   "outputs": [
    {
     "name": "stdout",
     "output_type": "stream",
     "text": [
      "the username of the given email is: alice\n",
      "the username of the given email is: alice\n"
     ]
    }
   ],
   "source": [
    "email = \"alice@email.com\"\n",
    "username = email.split(\"@\")\n",
    "print(\"the username of the given email is:\",username[0])\n",
    "\n",
    "# nitish bhai ka\n",
    "\n",
    "position = email.index(\"@\")\n",
    "print(\"the username of the given email is:\",email[0:position])"
   ]
  },
  {
   "cell_type": "markdown",
   "metadata": {},
   "source": [
    "3: Count the frequency of a particular character in a provided string. \n",
    " Example 'hello how are you' is the string, the frequency of h in this string is 2."
   ]
  },
  {
   "cell_type": "code",
   "execution_count": 14,
   "metadata": {},
   "outputs": [
    {
     "name": "stdout",
     "output_type": "stream",
     "text": [
      "the freequency of letter o in the given string is: 2\n",
      "the freequency of letter l in the given string is: 3\n"
     ]
    }
   ],
   "source": [
    "s = \"hello world\"\n",
    "counter = 0\n",
    "for i in s:\n",
    "    if i == \"o\":\n",
    "        counter +=1\n",
    "print(\"the freequency of letter o in the given string is:\",counter)\n",
    "print(\"the freequency of letter l in the given string is:\",s.count(\"l\"))"
   ]
  },
  {
   "cell_type": "markdown",
   "metadata": {},
   "source": [
    "4: Write a program which can remove a particular character from a string."
   ]
  },
  {
   "cell_type": "code",
   "execution_count": 1,
   "metadata": {},
   "outputs": [
    {
     "name": "stdout",
     "output_type": "stream",
     "text": [
      "If we remove letter w from the given string, it would look like this hello orld\n",
      "heo word\n",
      "heo word\n"
     ]
    }
   ],
   "source": [
    "s = \"hello world\"\n",
    "print(\"If we remove letter w from the given string, it would look like this\", s[0:6]+s[7:])\n",
    "\n",
    "# 2nd approach\n",
    "\n",
    "s_new = \"\"\n",
    "for i in s:\n",
    "    if i !=\"l\":\n",
    "        s_new = s_new + \"\".join(i)\n",
    "print(s_new)\n",
    "\n",
    "# nitish bhai\n",
    "\n",
    "s_new1 = \"\"\n",
    "for i in s:\n",
    "    if i !=\"l\":\n",
    "        s_new1 += i\n",
    "print(s_new1)\n",
    "\n"
   ]
  },
  {
   "cell_type": "markdown",
   "metadata": {},
   "source": [
    "5: Write a program that can check whether a given string is palindrome or not.\n",
    "\n",
    "For example:\n",
    "\n",
    "abba\n",
    "\n",
    "malayalam"
   ]
  },
  {
   "cell_type": "code",
   "execution_count": 3,
   "metadata": {},
   "outputs": [
    {
     "name": "stdout",
     "output_type": "stream",
     "text": [
      "The given string is Palindrome\n"
     ]
    }
   ],
   "source": [
    "s = input(\"Enter a string: \")\n",
    "s_r = s[::-1]\n",
    "\n",
    "if s == s_r:\n",
    "    print(\"The given string is Palindrome\")\n",
    "else:\n",
    "    print(\"The given string is not Palindrome\")"
   ]
  },
  {
   "cell_type": "code",
   "execution_count": 7,
   "metadata": {},
   "outputs": [
    {
     "name": "stdout",
     "output_type": "stream",
     "text": [
      "Not a palindrom\n"
     ]
    }
   ],
   "source": [
    "s = input(\"Enter a string: \")\n",
    "for i in range(0,len(s)//2):\n",
    "    if s[i]!=s[len(s)-i-1]:\n",
    "        print(\"Not a palindrom\")\n",
    "        break\n",
    "else:\n",
    "    print(\"Palindrom\")"
   ]
  },
  {
   "cell_type": "markdown",
   "metadata": {},
   "source": [
    "Nitish bhai ka"
   ]
  },
  {
   "cell_type": "code",
   "execution_count": 8,
   "metadata": {},
   "outputs": [
    {
     "name": "stdout",
     "output_type": "stream",
     "text": [
      "Palindrom\n"
     ]
    }
   ],
   "source": [
    "s = input(\"Enter a string: \")\n",
    "flag = True\n",
    "for i in range(0,len(s)//2):\n",
    "    if s[i]!=s[len(s)-i-1]:\n",
    "        flag = False\n",
    "        print(\"Not a palindrom\")\n",
    "        break\n",
    "if flag:\n",
    "    print(\"Palindrom\")"
   ]
  },
  {
   "cell_type": "markdown",
   "metadata": {},
   "source": [
    "6: Write a program to count the number of words in a string without split()"
   ]
  },
  {
   "cell_type": "code",
   "execution_count": 9,
   "metadata": {},
   "outputs": [
    {
     "name": "stdout",
     "output_type": "stream",
     "text": [
      "Total number of words in the given string is:  2\n"
     ]
    }
   ],
   "source": [
    "s = \"hello world\"\n",
    "counter = 0\n",
    "for i in s:\n",
    "    if i==\" \":\n",
    "        counter += 1\n",
    "counter += 1\n",
    "print(\"Total number of words in the given string is: \", counter)"
   ]
  },
  {
   "cell_type": "markdown",
   "metadata": {},
   "source": [
    "7: Write a python program to convert a string to title case without using the title()"
   ]
  },
  {
   "cell_type": "code",
   "execution_count": null,
   "metadata": {},
   "outputs": [],
   "source": []
  },
  {
   "cell_type": "markdown",
   "metadata": {},
   "source": [
    "# Practice"
   ]
  },
  {
   "cell_type": "markdown",
   "metadata": {},
   "source": [
    "## Count the frequency of a perticular character in a provided string"
   ]
  },
  {
   "cell_type": "code",
   "execution_count": 1,
   "metadata": {},
   "outputs": [
    {
     "name": "stdout",
     "output_type": "stream",
     "text": [
      "toatal number of 'i' is:  7\n"
     ]
    }
   ],
   "source": [
    "s = \"Hi there how is it going, can't complain it's a beautiful day\"\n",
    "counter = 0\n",
    "for i in s:\n",
    "    if i =='i':\n",
    "        counter +=1\n",
    "print(\"toatal number of 'i' is: \",counter)"
   ]
  },
  {
   "cell_type": "code",
   "execution_count": 2,
   "metadata": {},
   "outputs": [
    {
     "data": {
      "text/plain": [
       "7"
      ]
     },
     "execution_count": 2,
     "metadata": {},
     "output_type": "execute_result"
    }
   ],
   "source": [
    "s.count('i')"
   ]
  },
  {
   "cell_type": "code",
   "execution_count": 4,
   "metadata": {},
   "outputs": [
    {
     "data": {
      "text/plain": [
       "'wecome'"
      ]
     },
     "execution_count": 4,
     "metadata": {},
     "output_type": "execute_result"
    }
   ],
   "source": [
    "s = 'welcome'\n",
    "s.replace('l','')"
   ]
  },
  {
   "cell_type": "code",
   "execution_count": null,
   "metadata": {},
   "outputs": [],
   "source": []
  }
 ],
 "metadata": {
  "kernelspec": {
   "display_name": "Python 3",
   "language": "python",
   "name": "python3"
  },
  "language_info": {
   "codemirror_mode": {
    "name": "ipython",
    "version": 3
   },
   "file_extension": ".py",
   "mimetype": "text/x-python",
   "name": "python",
   "nbconvert_exporter": "python",
   "pygments_lexer": "ipython3",
   "version": "3.undefined.undefined"
  }
 },
 "nbformat": 4,
 "nbformat_minor": 2
}
