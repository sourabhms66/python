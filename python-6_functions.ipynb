{
 "cells": [
  {
   "cell_type": "markdown",
   "metadata": {},
   "source": [
    "Creating a function"
   ]
  },
  {
   "cell_type": "code",
   "execution_count": 7,
   "metadata": {},
   "outputs": [
    {
     "name": "stdout",
     "output_type": "stream",
     "text": [
      "7 is odd\n"
     ]
    }
   ],
   "source": [
    "# mine\n",
    "def is_even(i):\n",
    "    if i%2==0:\n",
    "        print(\"{} is even\".format(i))\n",
    "    else:\n",
    "        print(\"{} is odd\".format(i))\n",
    "\n",
    "is_even(7)"
   ]
  },
  {
   "cell_type": "code",
   "execution_count": 12,
   "metadata": {},
   "outputs": [],
   "source": [
    "# bhai ka\n",
    "def is_even(num):\n",
    "    \"\"\"\n",
    "    The function returns if a given number is even or odd\n",
    "    Input: Any valid integer\n",
    "    Output: even or odd\n",
    "    Created on: date\n",
    "    \"\"\"\n",
    "    if num%2==0:\n",
    "        return 'even'\n",
    "    else:\n",
    "        return 'odd'"
   ]
  },
  {
   "cell_type": "code",
   "execution_count": 13,
   "metadata": {},
   "outputs": [
    {
     "name": "stdout",
     "output_type": "stream",
     "text": [
      "odd\n",
      "even\n",
      "odd\n",
      "even\n",
      "odd\n",
      "even\n",
      "odd\n",
      "even\n",
      "odd\n",
      "even\n"
     ]
    }
   ],
   "source": [
    "for i in range(1,11):\n",
    "    x = is_even(i)\n",
    "    print(x)"
   ]
  },
  {
   "cell_type": "markdown",
   "metadata": {},
   "source": [
    "But this code is gonna rise an error if a string is given"
   ]
  },
  {
   "cell_type": "code",
   "execution_count": 14,
   "metadata": {},
   "outputs": [
    {
     "ename": "TypeError",
     "evalue": "not all arguments converted during string formatting",
     "output_type": "error",
     "traceback": [
      "\u001b[0;31m---------------------------------------------------------------------------\u001b[0m",
      "\u001b[0;31mTypeError\u001b[0m                                 Traceback (most recent call last)",
      "Cell \u001b[0;32mIn[14], line 1\u001b[0m\n\u001b[0;32m----> 1\u001b[0m \u001b[43mis_even\u001b[49m\u001b[43m(\u001b[49m\u001b[38;5;124;43m\"\u001b[39;49m\u001b[38;5;124;43mhello\u001b[39;49m\u001b[38;5;124;43m\"\u001b[39;49m\u001b[43m)\u001b[49m\n",
      "Cell \u001b[0;32mIn[12], line 9\u001b[0m, in \u001b[0;36mis_even\u001b[0;34m(num)\u001b[0m\n\u001b[1;32m      2\u001b[0m \u001b[38;5;28;01mdef\u001b[39;00m \u001b[38;5;21mis_even\u001b[39m(num):\n\u001b[1;32m      3\u001b[0m \u001b[38;5;250m    \u001b[39m\u001b[38;5;124;03m\"\"\"\u001b[39;00m\n\u001b[1;32m      4\u001b[0m \u001b[38;5;124;03m    The function returns if a given number is even or odd\u001b[39;00m\n\u001b[1;32m      5\u001b[0m \u001b[38;5;124;03m    Input: Any valid integer\u001b[39;00m\n\u001b[1;32m      6\u001b[0m \u001b[38;5;124;03m    Output: even or odd\u001b[39;00m\n\u001b[1;32m      7\u001b[0m \u001b[38;5;124;03m    Created on: date\u001b[39;00m\n\u001b[1;32m      8\u001b[0m \u001b[38;5;124;03m    \"\"\"\u001b[39;00m\n\u001b[0;32m----> 9\u001b[0m     \u001b[38;5;28;01mif\u001b[39;00m \u001b[43mnum\u001b[49m\u001b[38;5;241;43m%\u001b[39;49m\u001b[38;5;241;43m2\u001b[39;49m\u001b[38;5;241m==\u001b[39m\u001b[38;5;241m0\u001b[39m:\n\u001b[1;32m     10\u001b[0m         \u001b[38;5;28;01mreturn\u001b[39;00m \u001b[38;5;124m'\u001b[39m\u001b[38;5;124meven\u001b[39m\u001b[38;5;124m'\u001b[39m\n\u001b[1;32m     11\u001b[0m     \u001b[38;5;28;01melse\u001b[39;00m:\n",
      "\u001b[0;31mTypeError\u001b[0m: not all arguments converted during string formatting"
     ]
    }
   ],
   "source": [
    "is_even(\"hello\")"
   ]
  },
  {
   "cell_type": "markdown",
   "metadata": {},
   "source": [
    "When write a function always make sure it can handle a worst case scinerio"
   ]
  },
  {
   "cell_type": "code",
   "execution_count": 3,
   "metadata": {},
   "outputs": [],
   "source": [
    "def is_even(num):\n",
    "    \"\"\"\n",
    "    The function returns if a given number is even or odd\n",
    "    Input: Any valid integer\n",
    "    Output: even or odd\n",
    "    Created on: date\n",
    "    \"\"\"\n",
    "    if type(num) == int:\n",
    "        if num%2==0:\n",
    "            return 'even'\n",
    "        else:\n",
    "            return 'odd'\n",
    "    else:\n",
    "        print(\"The given input is not a valid integer!\")"
   ]
  },
  {
   "cell_type": "code",
   "execution_count": 19,
   "metadata": {},
   "outputs": [
    {
     "name": "stdout",
     "output_type": "stream",
     "text": [
      "The given input is not a valid integer!\n"
     ]
    }
   ],
   "source": [
    "is_even(\"hello\")"
   ]
  },
  {
   "cell_type": "code",
   "execution_count": 20,
   "metadata": {},
   "outputs": [
    {
     "data": {
      "text/plain": [
       "'odd'"
      ]
     },
     "execution_count": 20,
     "metadata": {},
     "output_type": "execute_result"
    }
   ],
   "source": [
    "is_even(15)"
   ]
  },
  {
   "cell_type": "markdown",
   "metadata": {},
   "source": [
    "To access the documentation of a function:"
   ]
  },
  {
   "cell_type": "code",
   "execution_count": 5,
   "metadata": {},
   "outputs": [
    {
     "data": {
      "text/plain": [
       "'\\n    The function returns if a given number is even or odd\\n    Input: Any valid integer\\n    Output: even or odd\\n    Created on: date\\n    '"
      ]
     },
     "execution_count": 5,
     "metadata": {},
     "output_type": "execute_result"
    }
   ],
   "source": [
    "is_even.__doc__"
   ]
  },
  {
   "cell_type": "code",
   "execution_count": 6,
   "metadata": {},
   "outputs": [
    {
     "name": "stdout",
     "output_type": "stream",
     "text": [
      "\n",
      "    The function returns if a given number is even or odd\n",
      "    Input: Any valid integer\n",
      "    Output: even or odd\n",
      "    Created on: date\n",
      "    \n"
     ]
    }
   ],
   "source": [
    "print(is_even.__doc__)"
   ]
  },
  {
   "cell_type": "markdown",
   "metadata": {},
   "source": [
    "This code will help us to see the documentation of any function including inbuild function, for example to access the documentation of print function."
   ]
  },
  {
   "cell_type": "code",
   "execution_count": 7,
   "metadata": {},
   "outputs": [
    {
     "name": "stdout",
     "output_type": "stream",
     "text": [
      "Prints the values to a stream, or to sys.stdout by default.\n",
      "\n",
      "  sep\n",
      "    string inserted between values, default a space.\n",
      "  end\n",
      "    string appended after the last value, default a newline.\n",
      "  file\n",
      "    a file-like object (stream); defaults to the current sys.stdout.\n",
      "  flush\n",
      "    whether to forcibly flush the stream.\n"
     ]
    }
   ],
   "source": [
    "print(print.__doc__)"
   ]
  },
  {
   "cell_type": "markdown",
   "metadata": {},
   "source": [
    "Note: def is_even(num): here 'num' is a parameter, and the value it received that is argument like 'x' in is_even(x)\n",
    "\n",
    "# Types of arguments\n",
    "\n",
    "Default arguments\n",
    "\n",
    "Positional arguments\n",
    "\n",
    "Keyword arguments"
   ]
  },
  {
   "cell_type": "code",
   "execution_count": 21,
   "metadata": {},
   "outputs": [],
   "source": [
    "def power(a,b):\n",
    "    return a**b"
   ]
  },
  {
   "cell_type": "markdown",
   "metadata": {},
   "source": [
    "This function takes 2 parameters as input"
   ]
  },
  {
   "cell_type": "code",
   "execution_count": 22,
   "metadata": {},
   "outputs": [
    {
     "data": {
      "text/plain": [
       "8"
      ]
     },
     "execution_count": 22,
     "metadata": {},
     "output_type": "execute_result"
    }
   ],
   "source": [
    "power(2,3)"
   ]
  },
  {
   "cell_type": "markdown",
   "metadata": {},
   "source": [
    "But what happens when one of the arguments is missing or both of the arguments is missing, it's gonna creat an error"
   ]
  },
  {
   "cell_type": "code",
   "execution_count": 23,
   "metadata": {},
   "outputs": [
    {
     "ename": "TypeError",
     "evalue": "power() missing 1 required positional argument: 'b'",
     "output_type": "error",
     "traceback": [
      "\u001b[0;31m---------------------------------------------------------------------------\u001b[0m",
      "\u001b[0;31mTypeError\u001b[0m                                 Traceback (most recent call last)",
      "Cell \u001b[0;32mIn[23], line 1\u001b[0m\n\u001b[0;32m----> 1\u001b[0m \u001b[43mpower\u001b[49m\u001b[43m(\u001b[49m\u001b[38;5;241;43m2\u001b[39;49m\u001b[43m)\u001b[49m\n",
      "\u001b[0;31mTypeError\u001b[0m: power() missing 1 required positional argument: 'b'"
     ]
    }
   ],
   "source": [
    "power(2)"
   ]
  },
  {
   "cell_type": "code",
   "execution_count": 24,
   "metadata": {},
   "outputs": [
    {
     "ename": "TypeError",
     "evalue": "power() missing 2 required positional arguments: 'a' and 'b'",
     "output_type": "error",
     "traceback": [
      "\u001b[0;31m---------------------------------------------------------------------------\u001b[0m",
      "\u001b[0;31mTypeError\u001b[0m                                 Traceback (most recent call last)",
      "Cell \u001b[0;32mIn[24], line 1\u001b[0m\n\u001b[0;32m----> 1\u001b[0m \u001b[43mpower\u001b[49m\u001b[43m(\u001b[49m\u001b[43m)\u001b[49m\n",
      "\u001b[0;31mTypeError\u001b[0m: power() missing 2 required positional arguments: 'a' and 'b'"
     ]
    }
   ],
   "source": [
    "power()"
   ]
  },
  {
   "cell_type": "markdown",
   "metadata": {},
   "source": [
    "To handel this type of errors we can use a default arguments"
   ]
  },
  {
   "cell_type": "code",
   "execution_count": 29,
   "metadata": {},
   "outputs": [],
   "source": [
    "def power(a=1,b=1):\n",
    "    return a**b"
   ]
  },
  {
   "cell_type": "markdown",
   "metadata": {},
   "source": [
    "It means this function is gonna take 1 as input for both the parameters if no arguments are given or one of the argument is missing, if the function received both the arguments then it's gonna use the given values instead of default values."
   ]
  },
  {
   "cell_type": "code",
   "execution_count": 30,
   "metadata": {},
   "outputs": [
    {
     "data": {
      "text/plain": [
       "2"
      ]
     },
     "execution_count": 30,
     "metadata": {},
     "output_type": "execute_result"
    }
   ],
   "source": [
    "power(2)"
   ]
  },
  {
   "cell_type": "code",
   "execution_count": 31,
   "metadata": {},
   "outputs": [
    {
     "data": {
      "text/plain": [
       "1"
      ]
     },
     "execution_count": 31,
     "metadata": {},
     "output_type": "execute_result"
    }
   ],
   "source": [
    "power()"
   ]
  },
  {
   "cell_type": "code",
   "execution_count": 32,
   "metadata": {},
   "outputs": [
    {
     "data": {
      "text/plain": [
       "8"
      ]
     },
     "execution_count": 32,
     "metadata": {},
     "output_type": "execute_result"
    }
   ],
   "source": [
    "power(2,3)"
   ]
  },
  {
   "cell_type": "markdown",
   "metadata": {},
   "source": [
    "Positional argumernts: The order of the given arguments is received by the parameter this order is called positional arguments like 2 is gonna stored in a, 3 is gonna stored in b\n",
    "\n",
    "Keyword arguments: In Python functions allow you to pass values to a function using the names of the parameters. Instead of relying on the order of arguments, you can explicitly specify which parameter each argument corresponds to by using the parameter names."
   ]
  },
  {
   "cell_type": "code",
   "execution_count": 36,
   "metadata": {},
   "outputs": [
    {
     "data": {
      "text/plain": [
       "8"
      ]
     },
     "execution_count": 36,
     "metadata": {},
     "output_type": "execute_result"
    }
   ],
   "source": [
    "power(b=3,a=2)"
   ]
  },
  {
   "cell_type": "markdown",
   "metadata": {},
   "source": [
    "But if not mentioning the name for of the parameter that parameter has to be at first position"
   ]
  },
  {
   "cell_type": "code",
   "execution_count": 37,
   "metadata": {},
   "outputs": [
    {
     "ename": "SyntaxError",
     "evalue": "positional argument follows keyword argument (3282975453.py, line 1)",
     "output_type": "error",
     "traceback": [
      "\u001b[0;36m  Cell \u001b[0;32mIn[37], line 1\u001b[0;36m\u001b[0m\n\u001b[0;31m    power(b=3,2)\u001b[0m\n\u001b[0m               ^\u001b[0m\n\u001b[0;31mSyntaxError\u001b[0m\u001b[0;31m:\u001b[0m positional argument follows keyword argument\n"
     ]
    }
   ],
   "source": [
    "power(b=3,2)"
   ]
  },
  {
   "cell_type": "code",
   "execution_count": 39,
   "metadata": {},
   "outputs": [
    {
     "ename": "SyntaxError",
     "evalue": "positional argument follows keyword argument (4068281283.py, line 1)",
     "output_type": "error",
     "traceback": [
      "\u001b[0;36m  Cell \u001b[0;32mIn[39], line 1\u001b[0;36m\u001b[0m\n\u001b[0;31m    power(a=2,3)\u001b[0m\n\u001b[0m               ^\u001b[0m\n\u001b[0;31mSyntaxError\u001b[0m\u001b[0;31m:\u001b[0m positional argument follows keyword argument\n"
     ]
    }
   ],
   "source": [
    "power(a=2,3)"
   ]
  },
  {
   "cell_type": "code",
   "execution_count": 40,
   "metadata": {},
   "outputs": [
    {
     "data": {
      "text/plain": [
       "8"
      ]
     },
     "execution_count": 40,
     "metadata": {},
     "output_type": "execute_result"
    }
   ],
   "source": [
    "power(2,b=3)"
   ]
  },
  {
   "cell_type": "markdown",
   "metadata": {},
   "source": [
    "# *args and **kwargs\n",
    "\n",
    "*args and **kwargs are special python keywords that are used to pass the variable length of arguments to a function\n",
    "\n",
    "*args allows us to pass a variable number of non-keyword arguments to a function, 'args' can be any name variable can be any number\n",
    "\n",
    "for example if we wanna calculate the product of numerous numbers."
   ]
  },
  {
   "cell_type": "code",
   "execution_count": 43,
   "metadata": {},
   "outputs": [],
   "source": [
    "def multiply(*args):\n",
    "    product = 1\n",
    "    for i in  args:\n",
    "        product = product * i\n",
    "    return product"
   ]
  },
  {
   "cell_type": "code",
   "execution_count": 44,
   "metadata": {},
   "outputs": [
    {
     "data": {
      "text/plain": [
       "24"
      ]
     },
     "execution_count": 44,
     "metadata": {},
     "output_type": "execute_result"
    }
   ],
   "source": [
    "multiply(1,2,3,4)"
   ]
  },
  {
   "cell_type": "code",
   "execution_count": 45,
   "metadata": {},
   "outputs": [
    {
     "data": {
      "text/plain": [
       "5040"
      ]
     },
     "execution_count": 45,
     "metadata": {},
     "output_type": "execute_result"
    }
   ],
   "source": [
    "multiply(1,2,3,4,5,6,7)"
   ]
  },
  {
   "cell_type": "markdown",
   "metadata": {},
   "source": [
    "*agrs store the arguments in tuples internally"
   ]
  },
  {
   "cell_type": "code",
   "execution_count": 1,
   "metadata": {},
   "outputs": [],
   "source": [
    "def multiply(*args):\n",
    "    product = 1\n",
    "    for i in  args:\n",
    "        product = product * i\n",
    "    print(args)\n",
    "    return product"
   ]
  },
  {
   "cell_type": "code",
   "execution_count": 2,
   "metadata": {},
   "outputs": [
    {
     "name": "stdout",
     "output_type": "stream",
     "text": [
      "(5, 3, 7, 8, 2, 9, 4, 6, 8)\n"
     ]
    },
    {
     "data": {
      "text/plain": [
       "2903040"
      ]
     },
     "execution_count": 2,
     "metadata": {},
     "output_type": "execute_result"
    }
   ],
   "source": [
    "multiply(5,3,7,8,2,9,4,6,8)"
   ]
  },
  {
   "cell_type": "markdown",
   "metadata": {},
   "source": [
    "### **kwargs allows us to pass a variable number of keyword arguments to a function, 'kwargs' can be any name variable can be any number. keyword arguments means that they contain a key-value pair, like a python dictionary, we can use any word instead of kwargs, as soon as python see ** it thinks it expecting a list and procced accordingly"
   ]
  },
  {
   "cell_type": "code",
   "execution_count": 13,
   "metadata": {},
   "outputs": [],
   "source": [
    "def display(**kwargs):\n",
    "    for key,value in kwargs.items():\n",
    "        print(key,\":\", value)"
   ]
  },
  {
   "cell_type": "code",
   "execution_count": 14,
   "metadata": {},
   "outputs": [
    {
     "name": "stdout",
     "output_type": "stream",
     "text": [
      "california : sacramento\n",
      "washington : seatle\n",
      "arizona : phinix\n"
     ]
    }
   ],
   "source": [
    "display(california='sacramento', washington='seatle',arizona='phinix')"
   ]
  },
  {
   "cell_type": "markdown",
   "metadata": {},
   "source": [
    "Note: if multiple types of arguments are being passed to the function the order matters the order should be like noral -> *args -> **kwargs if not error will occure. 'args' and 'kwargs' can be any words."
   ]
  },
  {
   "cell_type": "code",
   "execution_count": 16,
   "metadata": {},
   "outputs": [],
   "source": [
    "def multi(arg1, *args, kwarg1=\"default\", **kwargs):\n",
    "    print(f\"arg1: {arg1}\")\n",
    "    print(f\"args: {args}\")\n",
    "    print(f\"kwarg1: {kwarg1}\")\n",
    "    print(f\"kwargs: {kwargs}\")"
   ]
  },
  {
   "cell_type": "code",
   "execution_count": 17,
   "metadata": {},
   "outputs": [
    {
     "name": "stdout",
     "output_type": "stream",
     "text": [
      "arg1: 1\n",
      "args: (2, 3)\n",
      "kwarg1: custom\n",
      "kwargs: {'name': 'Alice', 'age': 30}\n"
     ]
    }
   ],
   "source": [
    "multi(1, 2, 3, kwarg1=\"custom\", name=\"Alice\", age=30)"
   ]
  },
  {
   "cell_type": "markdown",
   "metadata": {},
   "source": [
    "# How functions are executed in memory?\n",
    "\n",
    "From calling the function to executing the function for visual see in pythontutor\n",
    "\n",
    "# Without return statement\n",
    "\n",
    "In Python, when a function does not explicitly return a value, it implicitly returns None.\n",
    "\n",
    "For example: The list.append() method in Python modifies the list in place by adding the specified element to the end of the list. This method does not return a new list; instead, it returns None by default."
   ]
  },
  {
   "cell_type": "code",
   "execution_count": 21,
   "metadata": {},
   "outputs": [
    {
     "name": "stdout",
     "output_type": "stream",
     "text": [
      "None\n"
     ]
    }
   ],
   "source": [
    "l =[1,2]\n",
    "print(l.append(4))"
   ]
  },
  {
   "cell_type": "code",
   "execution_count": 20,
   "metadata": {},
   "outputs": [
    {
     "name": "stdout",
     "output_type": "stream",
     "text": [
      "None\n",
      "[1, 2, 4]\n"
     ]
    }
   ],
   "source": [
    "l =[1,2]\n",
    "print(l.append(4))\n",
    "print(l)"
   ]
  },
  {
   "cell_type": "markdown",
   "metadata": {},
   "source": [
    "# Variable Scope\n",
    "\n",
    "globul variable vs local variable:\n",
    "\n",
    "variables that are inside in a function are calledlocal variables, but variable that are in the main are called globul variables: you can access a global variable inside a function, but a local variable can't be accessed from main.\n",
    "\n",
    "Like in this code when python can't find a variable x in function g(y) when executing print(x) it's goona jump to main and look for x, as x = 5 in main, inside g(y) print(x) is gonna print 5 and print(x+1) is gonna print 6, and print(x) in main will print 5"
   ]
  },
  {
   "cell_type": "code",
   "execution_count": 22,
   "metadata": {},
   "outputs": [
    {
     "name": "stdout",
     "output_type": "stream",
     "text": [
      "5\n",
      "6\n",
      "5\n"
     ]
    }
   ],
   "source": [
    "def g(y):\n",
    "    print(x)\n",
    "    print(x+1)\n",
    "\n",
    "x = 5\n",
    "g(x)\n",
    "print(x)"
   ]
  },
  {
   "cell_type": "markdown",
   "metadata": {},
   "source": [
    "Example 2: As inside g(y) x = 1, python gonna consider this x as local variable and print(x) inside the function g(y) will print 2. This variable is Not related to the variable in main x even though they have same name, as a function runs independently in memory. But in main print(x) is gonna print 5 as there is a global variable x and its value is 5"
   ]
  },
  {
   "cell_type": "code",
   "execution_count": 23,
   "metadata": {},
   "outputs": [
    {
     "name": "stdout",
     "output_type": "stream",
     "text": [
      "2\n",
      "5\n"
     ]
    }
   ],
   "source": [
    "def g(y):\n",
    "    x = 1\n",
    "    x += 1\n",
    "    print(x)\n",
    "\n",
    "x = 5\n",
    "g(x)\n",
    "print(x)"
   ]
  },
  {
   "cell_type": "markdown",
   "metadata": {},
   "source": [
    "Example 3: In the function h(y) as soon as python see x and it's not defined in side the function it's gonna jump to the main get the value of x but when x += 1 code execute error occured because from inside a function python can use a global variable but can't make changes "
   ]
  },
  {
   "cell_type": "code",
   "execution_count": 24,
   "metadata": {},
   "outputs": [
    {
     "ename": "UnboundLocalError",
     "evalue": "cannot access local variable 'x' where it is not associated with a value",
     "output_type": "error",
     "traceback": [
      "\u001b[0;31m---------------------------------------------------------------------------\u001b[0m",
      "\u001b[0;31mUnboundLocalError\u001b[0m                         Traceback (most recent call last)",
      "Cell \u001b[0;32mIn[24], line 4\u001b[0m\n\u001b[1;32m      2\u001b[0m     x \u001b[38;5;241m+\u001b[39m\u001b[38;5;241m=\u001b[39m \u001b[38;5;241m1\u001b[39m\n\u001b[1;32m      3\u001b[0m x \u001b[38;5;241m=\u001b[39m \u001b[38;5;241m5\u001b[39m\n\u001b[0;32m----> 4\u001b[0m \u001b[43mh\u001b[49m\u001b[43m(\u001b[49m\u001b[43mx\u001b[49m\u001b[43m)\u001b[49m\n\u001b[1;32m      5\u001b[0m \u001b[38;5;28mprint\u001b[39m(x)\n",
      "Cell \u001b[0;32mIn[24], line 2\u001b[0m, in \u001b[0;36mh\u001b[0;34m(y)\u001b[0m\n\u001b[1;32m      1\u001b[0m \u001b[38;5;28;01mdef\u001b[39;00m \u001b[38;5;21mh\u001b[39m(y):\n\u001b[0;32m----> 2\u001b[0m     \u001b[43mx\u001b[49m \u001b[38;5;241m+\u001b[39m\u001b[38;5;241m=\u001b[39m \u001b[38;5;241m1\u001b[39m\n",
      "\u001b[0;31mUnboundLocalError\u001b[0m: cannot access local variable 'x' where it is not associated with a value"
     ]
    }
   ],
   "source": [
    "def h(y):\n",
    "    x += 1\n",
    "x = 5\n",
    "h(x)\n",
    "print(x)"
   ]
  },
  {
   "cell_type": "markdown",
   "metadata": {},
   "source": [
    "But python let us make changes in global variable by using global keyword like this. But this is not a good practice as it make changes in global variable as well."
   ]
  },
  {
   "cell_type": "code",
   "execution_count": 25,
   "metadata": {},
   "outputs": [
    {
     "name": "stdout",
     "output_type": "stream",
     "text": [
      "6\n"
     ]
    }
   ],
   "source": [
    "def h(y):\n",
    "    global x\n",
    "    x += 1\n",
    "\n",
    "x = 5\n",
    "h(x)\n",
    "print(x)\n"
   ]
  },
  {
   "cell_type": "markdown",
   "metadata": {},
   "source": [
    "Example 4:"
   ]
  },
  {
   "cell_type": "code",
   "execution_count": 1,
   "metadata": {},
   "outputs": [
    {
     "name": "stdout",
     "output_type": "stream",
     "text": [
      "in f(x): x= 4\n",
      "in main program scope: z = 4\n",
      "in main program scope: x = 3\n"
     ]
    }
   ],
   "source": [
    "def f(x):\n",
    "    x = x+1\n",
    "    print('in f(x): x=',x)\n",
    "    return x\n",
    "\n",
    "x = 3\n",
    "z = f(x)\n",
    "print('in main program scope: z =',z)\n",
    "print('in main program scope: x =',x)"
   ]
  },
  {
   "cell_type": "markdown",
   "metadata": {},
   "source": [
    "# Nested Function"
   ]
  },
  {
   "cell_type": "code",
   "execution_count": 6,
   "metadata": {},
   "outputs": [],
   "source": [
    "def outer():\n",
    "    def inner():\n",
    "        print(\"function inner\")\n",
    "    inner()\n",
    "    print(\"function outer\")"
   ]
  },
  {
   "cell_type": "code",
   "execution_count": 7,
   "metadata": {},
   "outputs": [
    {
     "name": "stdout",
     "output_type": "stream",
     "text": [
      "function inner\n",
      "function outer\n"
     ]
    }
   ],
   "source": [
    "outer()"
   ]
  },
  {
   "cell_type": "markdown",
   "metadata": {},
   "source": [
    "Can't access inner function from main function, it's only callable by outer function, this is very important concept to hide some logic in code"
   ]
  },
  {
   "cell_type": "code",
   "execution_count": 8,
   "metadata": {},
   "outputs": [
    {
     "ename": "TypeError",
     "evalue": "f() missing 1 required positional argument: 'x'",
     "output_type": "error",
     "traceback": [
      "\u001b[0;31m---------------------------------------------------------------------------\u001b[0m",
      "\u001b[0;31mTypeError\u001b[0m                                 Traceback (most recent call last)",
      "Cell \u001b[0;32mIn[8], line 1\u001b[0m\n\u001b[0;32m----> 1\u001b[0m \u001b[43mf\u001b[49m\u001b[43m(\u001b[49m\u001b[43m)\u001b[49m\n",
      "\u001b[0;31mTypeError\u001b[0m: f() missing 1 required positional argument: 'x'"
     ]
    }
   ],
   "source": [
    "f()"
   ]
  },
  {
   "cell_type": "markdown",
   "metadata": {},
   "source": [
    "scinario 2:"
   ]
  },
  {
   "cell_type": "code",
   "execution_count": 9,
   "metadata": {},
   "outputs": [],
   "source": [
    "def outer():\n",
    "    def inner():\n",
    "        print(\"function inner\")\n",
    "        outer()\n",
    "    inner()\n",
    "    print(\"function outer\")"
   ]
  },
  {
   "cell_type": "code",
   "execution_count": 10,
   "metadata": {},
   "outputs": [
    {
     "name": "stdout",
     "output_type": "stream",
     "text": [
      "function inner\n",
      "function inner\n",
      "function inner\n",
      "function inner\n",
      "function inner\n",
      "function inner\n",
      "function inner\n",
      "function inner\n",
      "function inner\n",
      "function inner\n",
      "function inner\n",
      "function inner\n",
      "function inner\n",
      "function inner\n",
      "function inner\n",
      "function inner\n",
      "function inner\n",
      "function inner\n",
      "function inner\n",
      "function inner\n",
      "function inner\n",
      "function inner\n",
      "function inner\n",
      "function inner\n",
      "function inner\n",
      "function inner\n",
      "function inner\n",
      "function inner\n",
      "function inner\n",
      "function inner\n",
      "function inner\n",
      "function inner\n",
      "function inner\n",
      "function inner\n",
      "function inner\n",
      "function inner\n",
      "function inner\n",
      "function inner\n",
      "function inner\n",
      "function inner\n",
      "function inner\n",
      "function inner\n",
      "function inner\n",
      "function inner\n",
      "function inner\n",
      "function inner\n",
      "function inner\n",
      "function inner\n",
      "function inner\n",
      "function inner\n",
      "function inner\n",
      "function inner\n",
      "function inner\n",
      "function inner\n",
      "function inner\n",
      "function inner\n",
      "function inner\n",
      "function inner\n",
      "function inner\n",
      "function inner\n",
      "function inner\n",
      "function inner\n",
      "function inner\n",
      "function inner\n",
      "function inner\n",
      "function inner\n",
      "function inner\n",
      "function inner\n",
      "function inner\n",
      "function inner\n",
      "function inner\n",
      "function inner\n",
      "function inner\n",
      "function inner\n",
      "function inner\n",
      "function inner\n",
      "function inner\n",
      "function inner\n",
      "function inner\n",
      "function inner\n",
      "function inner\n",
      "function inner\n",
      "function inner\n",
      "function inner\n",
      "function inner\n",
      "function inner\n",
      "function inner\n",
      "function inner\n",
      "function inner\n",
      "function inner\n",
      "function inner\n",
      "function inner\n",
      "function inner\n",
      "function inner\n",
      "function inner\n",
      "function inner\n",
      "function inner\n",
      "function inner\n",
      "function inner\n",
      "function inner\n",
      "function inner\n",
      "function inner\n",
      "function inner\n",
      "function inner\n",
      "function inner\n",
      "function inner\n",
      "function inner\n",
      "function inner\n",
      "function inner\n",
      "function inner\n",
      "function inner\n",
      "function inner\n",
      "function inner\n",
      "function inner\n",
      "function inner\n",
      "function inner\n",
      "function inner\n",
      "function inner\n",
      "function inner\n",
      "function inner\n",
      "function inner\n",
      "function inner\n",
      "function inner\n",
      "function inner\n",
      "function inner\n",
      "function inner\n",
      "function inner\n",
      "function inner\n",
      "function inner\n",
      "function inner\n",
      "function inner\n",
      "function inner\n",
      "function inner\n",
      "function inner\n",
      "function inner\n",
      "function inner\n",
      "function inner\n",
      "function inner\n",
      "function inner\n",
      "function inner\n",
      "function inner\n",
      "function inner\n",
      "function inner\n",
      "function inner\n",
      "function inner\n",
      "function inner\n",
      "function inner\n",
      "function inner\n",
      "function inner\n",
      "function inner\n",
      "function inner\n",
      "function inner\n",
      "function inner\n",
      "function inner\n",
      "function inner\n",
      "function inner\n",
      "function inner\n",
      "function inner\n",
      "function inner\n",
      "function inner\n",
      "function inner\n",
      "function inner\n",
      "function inner\n",
      "function inner\n",
      "function inner\n",
      "function inner\n",
      "function inner\n",
      "function inner\n",
      "function inner\n",
      "function inner\n",
      "function inner\n",
      "function inner\n",
      "function inner\n",
      "function inner\n",
      "function inner\n",
      "function inner\n",
      "function inner\n",
      "function inner\n",
      "function inner\n",
      "function inner\n",
      "function inner\n",
      "function inner\n",
      "function inner\n",
      "function inner\n",
      "function inner\n",
      "function inner\n",
      "function inner\n",
      "function inner\n",
      "function inner\n",
      "function inner\n",
      "function inner\n",
      "function inner\n",
      "function inner\n",
      "function inner\n",
      "function inner\n",
      "function inner\n",
      "function inner\n",
      "function inner\n",
      "function inner\n",
      "function inner\n",
      "function inner\n",
      "function inner\n",
      "function inner\n",
      "function inner\n",
      "function inner\n",
      "function inner\n",
      "function inner\n",
      "function inner\n",
      "function inner\n",
      "function inner\n",
      "function inner\n",
      "function inner\n",
      "function inner\n",
      "function inner\n",
      "function inner\n",
      "function inner\n",
      "function inner\n",
      "function inner\n",
      "function inner\n",
      "function inner\n",
      "function inner\n",
      "function inner\n",
      "function inner\n",
      "function inner\n",
      "function inner\n",
      "function inner\n",
      "function inner\n",
      "function inner\n",
      "function inner\n",
      "function inner\n",
      "function inner\n",
      "function inner\n",
      "function inner\n",
      "function inner\n",
      "function inner\n",
      "function inner\n",
      "function inner\n",
      "function inner\n",
      "function inner\n",
      "function inner\n",
      "function inner\n",
      "function inner\n",
      "function inner\n",
      "function inner\n",
      "function inner\n",
      "function inner\n",
      "function inner\n",
      "function inner\n",
      "function inner\n",
      "function inner\n",
      "function inner\n",
      "function inner\n",
      "function inner\n",
      "function inner\n",
      "function inner\n",
      "function inner\n",
      "function inner\n",
      "function inner\n",
      "function inner\n",
      "function inner\n",
      "function inner\n",
      "function inner\n",
      "function inner\n",
      "function inner\n",
      "function inner\n",
      "function inner\n",
      "function inner\n",
      "function inner\n",
      "function inner\n",
      "function inner\n",
      "function inner\n",
      "function inner\n",
      "function inner\n",
      "function inner\n",
      "function inner\n",
      "function inner\n",
      "function inner\n",
      "function inner\n",
      "function inner\n",
      "function inner\n",
      "function inner\n",
      "function inner\n",
      "function inner\n",
      "function inner\n",
      "function inner\n",
      "function inner\n",
      "function inner\n",
      "function inner\n",
      "function inner\n",
      "function inner\n",
      "function inner\n",
      "function inner\n",
      "function inner\n",
      "function inner\n",
      "function inner\n",
      "function inner\n",
      "function inner\n",
      "function inner\n",
      "function inner\n",
      "function inner\n",
      "function inner\n",
      "function inner\n",
      "function inner\n",
      "function inner\n",
      "function inner\n",
      "function inner\n",
      "function inner\n",
      "function inner\n",
      "function inner\n",
      "function inner\n",
      "function inner\n",
      "function inner\n",
      "function inner\n",
      "function inner\n",
      "function inner\n",
      "function inner\n",
      "function inner\n",
      "function inner\n",
      "function inner\n",
      "function inner\n",
      "function inner\n",
      "function inner\n",
      "function inner\n",
      "function inner\n",
      "function inner\n",
      "function inner\n",
      "function inner\n",
      "function inner\n",
      "function inner\n",
      "function inner\n",
      "function inner\n",
      "function inner\n",
      "function inner\n",
      "function inner\n",
      "function inner\n",
      "function inner\n",
      "function inner\n",
      "function inner\n",
      "function inner\n",
      "function inner\n",
      "function inner\n",
      "function inner\n",
      "function inner\n",
      "function inner\n",
      "function inner\n",
      "function inner\n",
      "function inner\n",
      "function inner\n",
      "function inner\n",
      "function inner\n",
      "function inner\n",
      "function inner\n",
      "function inner\n",
      "function inner\n",
      "function inner\n",
      "function inner\n",
      "function inner\n",
      "function inner\n",
      "function inner\n",
      "function inner\n",
      "function inner\n",
      "function inner\n",
      "function inner\n",
      "function inner\n",
      "function inner\n",
      "function inner\n",
      "function inner\n",
      "function inner\n",
      "function inner\n",
      "function inner\n",
      "function inner\n",
      "function inner\n",
      "function inner\n",
      "function inner\n",
      "function inner\n",
      "function inner\n",
      "function inner\n",
      "function inner\n",
      "function inner\n",
      "function inner\n",
      "function inner\n",
      "function inner\n",
      "function inner\n",
      "function inner\n",
      "function inner\n",
      "function inner\n",
      "function inner\n",
      "function inner\n",
      "function inner\n",
      "function inner\n",
      "function inner\n",
      "function inner\n",
      "function inner\n",
      "function inner\n",
      "function inner\n",
      "function inner\n",
      "function inner\n",
      "function inner\n",
      "function inner\n",
      "function inner\n",
      "function inner\n",
      "function inner\n",
      "function inner\n",
      "function inner\n",
      "function inner\n",
      "function inner\n",
      "function inner\n",
      "function inner\n",
      "function inner\n",
      "function inner\n",
      "function inner\n",
      "function inner\n",
      "function inner\n",
      "function inner\n",
      "function inner\n",
      "function inner\n",
      "function inner\n",
      "function inner\n",
      "function inner\n",
      "function inner\n",
      "function inner\n",
      "function inner\n",
      "function inner\n",
      "function inner\n",
      "function inner\n",
      "function inner\n",
      "function inner\n",
      "function inner\n",
      "function inner\n",
      "function inner\n",
      "function inner\n",
      "function inner\n",
      "function inner\n",
      "function inner\n",
      "function inner\n",
      "function inner\n",
      "function inner\n",
      "function inner\n",
      "function inner\n",
      "function inner\n",
      "function inner\n",
      "function inner\n",
      "function inner\n",
      "function inner\n",
      "function inner\n",
      "function inner\n",
      "function inner\n",
      "function inner\n",
      "function inner\n",
      "function inner\n",
      "function inner\n",
      "function inner\n",
      "function inner\n",
      "function inner\n",
      "function inner\n",
      "function inner\n",
      "function inner\n",
      "function inner\n",
      "function inner\n",
      "function inner\n",
      "function inner\n",
      "function inner\n",
      "function inner\n",
      "function inner\n",
      "function inner\n",
      "function inner\n",
      "function inner\n",
      "function inner\n",
      "function inner\n",
      "function inner\n",
      "function inner\n",
      "function inner\n",
      "function inner\n",
      "function inner\n",
      "function inner\n",
      "function inner\n",
      "function inner\n",
      "function inner\n",
      "function inner\n",
      "function inner\n",
      "function inner\n",
      "function inner\n",
      "function inner\n",
      "function inner\n",
      "function inner\n",
      "function inner\n",
      "function inner\n",
      "function inner\n",
      "function inner\n",
      "function inner\n",
      "function inner\n",
      "function inner\n",
      "function inner\n",
      "function inner\n",
      "function inner\n",
      "function inner\n",
      "function inner\n",
      "function inner\n",
      "function inner\n",
      "function inner\n",
      "function inner\n",
      "function inner\n",
      "function inner\n",
      "function inner\n",
      "function inner\n",
      "function inner\n",
      "function inner\n",
      "function inner\n",
      "function inner\n",
      "function inner\n",
      "function inner\n",
      "function inner\n",
      "function inner\n",
      "function inner\n",
      "function inner\n",
      "function inner\n",
      "function inner\n",
      "function inner\n",
      "function inner\n",
      "function inner\n",
      "function inner\n",
      "function inner\n",
      "function inner\n",
      "function inner\n",
      "function inner\n",
      "function inner\n",
      "function inner\n",
      "function inner\n",
      "function inner\n",
      "function inner\n",
      "function inner\n",
      "function inner\n",
      "function inner\n",
      "function inner\n",
      "function inner\n",
      "function inner\n",
      "function inner\n",
      "function inner\n",
      "function inner\n",
      "function inner\n",
      "function inner\n",
      "function inner\n",
      "function inner\n",
      "function inner\n",
      "function inner\n",
      "function inner\n",
      "function inner\n",
      "function inner\n",
      "function inner\n",
      "function inner\n",
      "function inner\n",
      "function inner\n",
      "function inner\n",
      "function inner\n",
      "function inner\n",
      "function inner\n",
      "function inner\n",
      "function inner\n",
      "function inner\n",
      "function inner\n",
      "function inner\n",
      "function inner\n",
      "function inner\n",
      "function inner\n",
      "function inner\n",
      "function inner\n",
      "function inner\n",
      "function inner\n",
      "function inner\n",
      "function inner\n",
      "function inner\n",
      "function inner\n",
      "function inner\n",
      "function inner\n",
      "function inner\n",
      "function inner\n",
      "function inner\n",
      "function inner\n",
      "function inner\n",
      "function inner\n",
      "function inner\n",
      "function inner\n",
      "function inner\n",
      "function inner\n",
      "function inner\n",
      "function inner\n",
      "function inner\n",
      "function inner\n",
      "function inner\n",
      "function inner\n",
      "function inner\n",
      "function inner\n",
      "function inner\n",
      "function inner\n",
      "function inner\n",
      "function inner\n",
      "function inner\n",
      "function inner\n",
      "function inner\n",
      "function inner\n",
      "function inner\n",
      "function inner\n",
      "function inner\n",
      "function inner\n",
      "function inner\n",
      "function inner\n",
      "function inner\n",
      "function inner\n",
      "function inner\n",
      "function inner\n",
      "function inner\n",
      "function inner\n",
      "function inner\n",
      "function inner\n",
      "function inner\n",
      "function inner\n",
      "function inner\n",
      "function inner\n",
      "function inner\n",
      "function inner\n",
      "function inner\n",
      "function inner\n",
      "function inner\n",
      "function inner\n",
      "function inner\n",
      "function inner\n",
      "function inner\n",
      "function inner\n",
      "function inner\n",
      "function inner\n",
      "function inner\n",
      "function inner\n",
      "function inner\n",
      "function inner\n",
      "function inner\n",
      "function inner\n",
      "function inner\n",
      "function inner\n",
      "function inner\n",
      "function inner\n",
      "function inner\n",
      "function inner\n",
      "function inner\n",
      "function inner\n",
      "function inner\n",
      "function inner\n",
      "function inner\n",
      "function inner\n",
      "function inner\n",
      "function inner\n",
      "function inner\n",
      "function inner\n",
      "function inner\n",
      "function inner\n",
      "function inner\n",
      "function inner\n",
      "function inner\n",
      "function inner\n",
      "function inner\n",
      "function inner\n",
      "function inner\n",
      "function inner\n",
      "function inner\n",
      "function inner\n",
      "function inner\n",
      "function inner\n",
      "function inner\n",
      "function inner\n",
      "function inner\n",
      "function inner\n",
      "function inner\n",
      "function inner\n",
      "function inner\n",
      "function inner\n",
      "function inner\n",
      "function inner\n",
      "function inner\n",
      "function inner\n",
      "function inner\n",
      "function inner\n",
      "function inner\n",
      "function inner\n",
      "function inner\n",
      "function inner\n",
      "function inner\n",
      "function inner\n",
      "function inner\n",
      "function inner\n",
      "function inner\n",
      "function inner\n",
      "function inner\n",
      "function inner\n",
      "function inner\n",
      "function inner\n",
      "function inner\n",
      "function inner\n",
      "function inner\n",
      "function inner\n",
      "function inner\n",
      "function inner\n",
      "function inner\n",
      "function inner\n",
      "function inner\n",
      "function inner\n",
      "function inner\n",
      "function inner\n",
      "function inner\n",
      "function inner\n",
      "function inner\n",
      "function inner\n",
      "function inner\n",
      "function inner\n",
      "function inner\n",
      "function inner\n",
      "function inner\n",
      "function inner\n",
      "function inner\n",
      "function inner\n",
      "function inner\n",
      "function inner\n",
      "function inner\n",
      "function inner\n",
      "function inner\n",
      "function inner\n",
      "function inner\n",
      "function inner\n",
      "function inner\n",
      "function inner\n",
      "function inner\n",
      "function inner\n",
      "function inner\n",
      "function inner\n",
      "function inner\n",
      "function inner\n",
      "function inner\n",
      "function inner\n",
      "function inner\n",
      "function inner\n",
      "function inner\n",
      "function inner\n",
      "function inner\n",
      "function inner\n",
      "function inner\n",
      "function inner\n",
      "function inner\n",
      "function inner\n",
      "function inner\n",
      "function inner\n",
      "function inner\n",
      "function inner\n",
      "function inner\n",
      "function inner\n",
      "function inner\n",
      "function inner\n",
      "function inner\n",
      "function inner\n",
      "function inner\n",
      "function inner\n",
      "function inner\n",
      "function inner\n",
      "function inner\n",
      "function inner\n",
      "function inner\n",
      "function inner\n",
      "function inner\n",
      "function inner\n",
      "function inner\n",
      "function inner\n",
      "function inner\n",
      "function inner\n",
      "function inner\n",
      "function inner\n",
      "function inner\n",
      "function inner\n",
      "function inner\n",
      "function inner\n",
      "function inner\n",
      "function inner\n",
      "function inner\n",
      "function inner\n",
      "function inner\n",
      "function inner\n",
      "function inner\n",
      "function inner\n",
      "function inner\n",
      "function inner\n",
      "function inner\n",
      "function inner\n",
      "function inner\n",
      "function inner\n",
      "function inner\n",
      "function inner\n",
      "function inner\n",
      "function inner\n",
      "function inner\n",
      "function inner\n",
      "function inner\n",
      "function inner\n",
      "function inner\n",
      "function inner\n",
      "function inner\n",
      "function inner\n",
      "function inner\n",
      "function inner\n",
      "function inner\n",
      "function inner\n",
      "function inner\n",
      "function inner\n",
      "function inner\n",
      "function inner\n",
      "function inner\n",
      "function inner\n",
      "function inner\n",
      "function inner\n",
      "function inner\n",
      "function inner\n",
      "function inner\n",
      "function inner\n",
      "function inner\n",
      "function inner\n",
      "function inner\n",
      "function inner\n",
      "function inner\n",
      "function inner\n",
      "function inner\n",
      "function inner\n",
      "function inner\n",
      "function inner\n",
      "function inner\n",
      "function inner\n",
      "function inner\n",
      "function inner\n",
      "function inner\n",
      "function inner\n",
      "function inner\n",
      "function inner\n",
      "function inner\n",
      "function inner\n",
      "function inner\n",
      "function inner\n",
      "function inner\n",
      "function inner\n",
      "function inner\n",
      "function inner\n",
      "function inner\n",
      "function inner\n",
      "function inner\n",
      "function inner\n",
      "function inner\n",
      "function inner\n",
      "function inner\n",
      "function inner\n",
      "function inner\n",
      "function inner\n",
      "function inner\n",
      "function inner\n",
      "function inner\n",
      "function inner\n",
      "function inner\n",
      "function inner\n",
      "function inner\n",
      "function inner\n",
      "function inner\n",
      "function inner\n",
      "function inner\n",
      "function inner\n",
      "function inner\n",
      "function inner\n",
      "function inner\n",
      "function inner\n",
      "function inner\n",
      "function inner\n",
      "function inner\n",
      "function inner\n",
      "function inner\n",
      "function inner\n",
      "function inner\n",
      "function inner\n",
      "function inner\n",
      "function inner\n",
      "function inner\n",
      "function inner\n",
      "function inner\n",
      "function inner\n",
      "function inner\n",
      "function inner\n",
      "function inner\n",
      "function inner\n",
      "function inner\n",
      "function inner\n",
      "function inner\n",
      "function inner\n",
      "function inner\n",
      "function inner\n",
      "function inner\n",
      "function inner\n",
      "function inner\n",
      "function inner\n",
      "function inner\n",
      "function inner\n",
      "function inner\n",
      "function inner\n",
      "function inner\n",
      "function inner\n",
      "function inner\n",
      "function inner\n",
      "function inner\n",
      "function inner\n",
      "function inner\n",
      "function inner\n",
      "function inner\n",
      "function inner\n",
      "function inner\n",
      "function inner\n",
      "function inner\n",
      "function inner\n",
      "function inner\n",
      "function inner\n",
      "function inner\n",
      "function inner\n",
      "function inner\n",
      "function inner\n",
      "function inner\n",
      "function inner\n",
      "function inner\n",
      "function inner\n",
      "function inner\n",
      "function inner\n",
      "function inner\n",
      "function inner\n",
      "function inner\n",
      "function inner\n",
      "function inner\n",
      "function inner\n",
      "function inner\n",
      "function inner\n",
      "function inner\n",
      "function inner\n",
      "function inner\n",
      "function inner\n",
      "function inner\n",
      "function inner\n",
      "function inner\n",
      "function inner\n",
      "function inner\n",
      "function inner\n",
      "function inner\n",
      "function inner\n",
      "function inner\n",
      "function inner\n",
      "function inner\n",
      "function inner\n",
      "function inner\n",
      "function inner\n",
      "function inner\n",
      "function inner\n",
      "function inner\n",
      "function inner\n",
      "function inner\n",
      "function inner\n",
      "function inner\n",
      "function inner\n",
      "function inner\n",
      "function inner\n",
      "function inner\n",
      "function inner\n",
      "function inner\n",
      "function inner\n",
      "function inner\n",
      "function inner\n",
      "function inner\n",
      "function inner\n",
      "function inner\n",
      "function inner\n",
      "function inner\n",
      "function inner\n",
      "function inner\n",
      "function inner\n",
      "function inner\n",
      "function inner\n",
      "function inner\n",
      "function inner\n",
      "function inner\n",
      "function inner\n",
      "function inner\n",
      "function inner\n",
      "function inner\n",
      "function inner\n",
      "function inner\n",
      "function inner\n",
      "function inner\n",
      "function inner\n",
      "function inner\n",
      "function inner\n",
      "function inner\n",
      "function inner\n",
      "function inner\n",
      "function inner\n",
      "function inner\n",
      "function inner\n",
      "function inner\n",
      "function inner\n",
      "function inner\n",
      "function inner\n",
      "function inner\n",
      "function inner\n",
      "function inner\n",
      "function inner\n",
      "function inner\n",
      "function inner\n",
      "function inner\n",
      "function inner\n",
      "function inner\n",
      "function inner\n",
      "function inner\n",
      "function inner\n",
      "function inner\n",
      "function inner\n",
      "function inner\n",
      "function inner\n",
      "function inner\n",
      "function inner\n",
      "function inner\n",
      "function inner\n",
      "function inner\n",
      "function inner\n",
      "function inner\n",
      "function inner\n",
      "function inner\n",
      "function inner\n",
      "function inner\n",
      "function inner\n",
      "function inner\n",
      "function inner\n",
      "function inner\n",
      "function inner\n",
      "function inner\n",
      "function inner\n",
      "function inner\n",
      "function inner\n",
      "function inner\n",
      "function inner\n",
      "function inner\n",
      "function inner\n",
      "function inner\n",
      "function inner\n",
      "function inner\n",
      "function inner\n",
      "function inner\n",
      "function inner\n",
      "function inner\n",
      "function inner\n",
      "function inner\n",
      "function inner\n",
      "function inner\n",
      "function inner\n",
      "function inner\n",
      "function inner\n",
      "function inner\n",
      "function inner\n",
      "function inner\n",
      "function inner\n",
      "function inner\n",
      "function inner\n",
      "function inner\n",
      "function inner\n",
      "function inner\n",
      "function inner\n",
      "function inner\n",
      "function inner\n",
      "function inner\n",
      "function inner\n",
      "function inner\n",
      "function inner\n",
      "function inner\n",
      "function inner\n",
      "function inner\n",
      "function inner\n",
      "function inner\n",
      "function inner\n",
      "function inner\n",
      "function inner\n",
      "function inner\n",
      "function inner\n",
      "function inner\n",
      "function inner\n",
      "function inner\n",
      "function inner\n",
      "function inner\n",
      "function inner\n",
      "function inner\n",
      "function inner\n",
      "function inner\n",
      "function inner\n",
      "function inner\n",
      "function inner\n",
      "function inner\n",
      "function inner\n",
      "function inner\n",
      "function inner\n",
      "function inner\n",
      "function inner\n",
      "function inner\n",
      "function inner\n",
      "function inner\n",
      "function inner\n",
      "function inner\n",
      "function inner\n",
      "function inner\n",
      "function inner\n",
      "function inner\n",
      "function inner\n",
      "function inner\n",
      "function inner\n",
      "function inner\n",
      "function inner\n",
      "function inner\n",
      "function inner\n",
      "function inner\n",
      "function inner\n",
      "function inner\n",
      "function inner\n",
      "function inner\n",
      "function inner\n",
      "function inner\n",
      "function inner\n",
      "function inner\n",
      "function inner\n",
      "function inner\n",
      "function inner\n",
      "function inner\n",
      "function inner\n",
      "function inner\n",
      "function inner\n",
      "function inner\n",
      "function inner\n",
      "function inner\n",
      "function inner\n",
      "function inner\n",
      "function inner\n",
      "function inner\n",
      "function inner\n",
      "function inner\n",
      "function inner\n",
      "function inner\n",
      "function inner\n",
      "function inner\n",
      "function inner\n",
      "function inner\n",
      "function inner\n",
      "function inner\n",
      "function inner\n",
      "function inner\n",
      "function inner\n",
      "function inner\n",
      "function inner\n",
      "function inner\n",
      "function inner\n",
      "function inner\n",
      "function inner\n",
      "function inner\n",
      "function inner\n",
      "function inner\n",
      "function inner\n",
      "function inner\n",
      "function inner\n",
      "function inner\n",
      "function inner\n",
      "function inner\n",
      "function inner\n",
      "function inner\n",
      "function inner\n",
      "function inner\n",
      "function inner\n",
      "function inner\n",
      "function inner\n",
      "function inner\n",
      "function inner\n",
      "function inner\n",
      "function inner\n",
      "function inner\n",
      "function inner\n",
      "function inner\n",
      "function inner\n",
      "function inner\n",
      "function inner\n",
      "function inner\n",
      "function inner\n",
      "function inner\n",
      "function inner\n",
      "function inner\n",
      "function inner\n",
      "function inner\n",
      "function inner\n",
      "function inner\n",
      "function inner\n",
      "function inner\n",
      "function inner\n",
      "function inner\n",
      "function inner\n",
      "function inner\n",
      "function inner\n",
      "function inner\n",
      "function inner\n",
      "function inner\n",
      "function inner\n",
      "function inner\n",
      "function inner\n",
      "function inner\n",
      "function inner\n",
      "function inner\n",
      "function inner\n",
      "function inner\n",
      "function inner\n",
      "function inner\n",
      "function inner\n",
      "function inner\n",
      "function inner\n",
      "function inner\n",
      "function inner\n",
      "function inner\n",
      "function inner\n",
      "function inner\n",
      "function inner\n",
      "function inner\n",
      "function inner\n",
      "function inner\n",
      "function inner\n",
      "function inner\n",
      "function inner\n",
      "function inner\n",
      "function inner\n",
      "function inner\n",
      "function inner\n",
      "function inner\n",
      "function inner\n",
      "function inner\n",
      "function inner\n",
      "function inner\n",
      "function inner\n",
      "function inner\n",
      "function inner\n",
      "function inner\n",
      "function inner\n",
      "function inner\n",
      "function inner\n",
      "function inner\n",
      "function inner\n",
      "function inner\n",
      "function inner\n",
      "function inner\n",
      "function inner\n",
      "function inner\n",
      "function inner\n",
      "function inner\n",
      "function inner\n",
      "function inner\n",
      "function inner\n",
      "function inner\n",
      "function inner\n",
      "function inner\n",
      "function inner\n",
      "function inner\n",
      "function inner\n",
      "function inner\n",
      "function inner\n",
      "function inner\n",
      "function inner\n",
      "function inner\n",
      "function inner\n",
      "function inner\n",
      "function inner\n",
      "function inner\n",
      "function inner\n",
      "function inner\n",
      "function inner\n",
      "function inner\n",
      "function inner\n",
      "function inner\n",
      "function inner\n",
      "function inner\n",
      "function inner\n",
      "function inner\n",
      "function inner\n",
      "function inner\n",
      "function inner\n",
      "function inner\n",
      "function inner\n",
      "function inner\n",
      "function inner\n",
      "function inner\n",
      "function inner\n",
      "function inner\n",
      "function inner\n",
      "function inner\n",
      "function inner\n",
      "function inner\n",
      "function inner\n",
      "function inner\n",
      "function inner\n",
      "function inner\n",
      "function inner\n",
      "function inner\n",
      "function inner\n",
      "function inner\n",
      "function inner\n",
      "function inner\n",
      "function inner\n",
      "function inner\n",
      "function inner\n",
      "function inner\n",
      "function inner\n",
      "function inner\n",
      "function inner\n",
      "function inner\n",
      "function inner\n",
      "function inner\n",
      "function inner\n",
      "function inner\n",
      "function inner\n",
      "function inner\n",
      "function inner\n",
      "function inner\n",
      "function inner\n",
      "function inner\n",
      "function inner\n",
      "function inner\n",
      "function inner\n",
      "function inner\n",
      "function inner\n",
      "function inner\n",
      "function inner\n",
      "function inner\n",
      "function inner\n",
      "function inner\n",
      "function inner\n",
      "function inner\n",
      "function inner\n",
      "function inner\n",
      "function inner\n",
      "function inner\n",
      "function inner\n",
      "function inner\n",
      "function inner\n",
      "function inner\n",
      "function inner\n",
      "function inner\n",
      "function inner\n",
      "function inner\n",
      "function inner\n",
      "function inner\n",
      "function inner\n",
      "function inner\n",
      "function inner\n",
      "function inner\n",
      "function inner\n",
      "function inner\n",
      "function inner\n",
      "function inner\n",
      "function inner\n",
      "function inner\n",
      "function inner\n",
      "function inner\n",
      "function inner\n",
      "function inner\n",
      "function inner\n",
      "function inner\n",
      "function inner\n",
      "function inner\n",
      "function inner\n",
      "function inner\n",
      "function inner\n",
      "function inner\n",
      "function inner\n",
      "function inner\n",
      "function inner\n",
      "function inner\n",
      "function inner\n",
      "function inner\n",
      "function inner\n",
      "function inner\n",
      "function inner\n",
      "function inner\n",
      "function inner\n",
      "function inner\n",
      "function inner\n",
      "function inner\n",
      "function inner\n",
      "function inner\n",
      "function inner\n",
      "function inner\n",
      "function inner\n",
      "function inner\n",
      "function inner\n",
      "function inner\n",
      "function inner\n",
      "function inner\n",
      "function inner\n",
      "function inner\n",
      "function inner\n",
      "function inner\n",
      "function inner\n",
      "function inner\n",
      "function inner\n",
      "function inner\n",
      "function inner\n",
      "function inner\n",
      "function inner\n",
      "function inner\n",
      "function inner\n",
      "function inner\n",
      "function inner\n",
      "function inner\n",
      "function inner\n",
      "function inner\n",
      "function inner\n",
      "function inner\n",
      "function inner\n",
      "function inner\n",
      "function inner\n",
      "function inner\n",
      "function inner\n",
      "function inner\n",
      "function inner\n",
      "function inner\n",
      "function inner\n",
      "function inner\n",
      "function inner\n",
      "function inner\n",
      "function inner\n",
      "function inner\n",
      "function inner\n",
      "function inner\n",
      "function inner\n",
      "function inner\n",
      "function inner\n",
      "function inner\n",
      "function inner\n",
      "function inner\n",
      "function inner\n",
      "function inner\n",
      "function inner\n",
      "function inner\n",
      "function inner\n",
      "function inner\n",
      "function inner\n",
      "function inner\n",
      "function inner\n",
      "function inner\n",
      "function inner\n",
      "function inner\n",
      "function inner\n",
      "function inner\n",
      "function inner\n",
      "function inner\n",
      "function inner\n",
      "function inner\n",
      "function inner\n",
      "function inner\n",
      "function inner\n",
      "function inner\n",
      "function inner\n",
      "function inner\n",
      "function inner\n",
      "function inner\n",
      "function inner\n",
      "function inner\n",
      "function inner\n",
      "function inner\n",
      "function inner\n",
      "function inner\n",
      "function inner\n",
      "function inner\n",
      "function inner\n",
      "function inner\n",
      "function inner\n",
      "function inner\n",
      "function inner\n",
      "function inner\n",
      "function inner\n",
      "function inner\n",
      "function inner\n",
      "function inner\n",
      "function inner\n",
      "function inner\n"
     ]
    },
    {
     "ename": "RecursionError",
     "evalue": "maximum recursion depth exceeded while calling a Python object",
     "output_type": "error",
     "traceback": [
      "\u001b[0;31m---------------------------------------------------------------------------\u001b[0m",
      "\u001b[0;31mRecursionError\u001b[0m                            Traceback (most recent call last)",
      "Cell \u001b[0;32mIn[10], line 1\u001b[0m\n\u001b[0;32m----> 1\u001b[0m \u001b[43mouter\u001b[49m\u001b[43m(\u001b[49m\u001b[43m)\u001b[49m\n",
      "Cell \u001b[0;32mIn[9], line 5\u001b[0m, in \u001b[0;36mouter\u001b[0;34m()\u001b[0m\n\u001b[1;32m      3\u001b[0m     \u001b[38;5;28mprint\u001b[39m(\u001b[38;5;124m\"\u001b[39m\u001b[38;5;124mfunction inner\u001b[39m\u001b[38;5;124m\"\u001b[39m)\n\u001b[1;32m      4\u001b[0m     outer()\n\u001b[0;32m----> 5\u001b[0m \u001b[43minner\u001b[49m\u001b[43m(\u001b[49m\u001b[43m)\u001b[49m\n\u001b[1;32m      6\u001b[0m \u001b[38;5;28mprint\u001b[39m(\u001b[38;5;124m\"\u001b[39m\u001b[38;5;124mfunction outer\u001b[39m\u001b[38;5;124m\"\u001b[39m)\n",
      "Cell \u001b[0;32mIn[9], line 4\u001b[0m, in \u001b[0;36mouter.<locals>.inner\u001b[0;34m()\u001b[0m\n\u001b[1;32m      2\u001b[0m \u001b[38;5;28;01mdef\u001b[39;00m \u001b[38;5;21minner\u001b[39m():\n\u001b[1;32m      3\u001b[0m     \u001b[38;5;28mprint\u001b[39m(\u001b[38;5;124m\"\u001b[39m\u001b[38;5;124mfunction inner\u001b[39m\u001b[38;5;124m\"\u001b[39m)\n\u001b[0;32m----> 4\u001b[0m     \u001b[43mouter\u001b[49m\u001b[43m(\u001b[49m\u001b[43m)\u001b[49m\n",
      "Cell \u001b[0;32mIn[9], line 5\u001b[0m, in \u001b[0;36mouter\u001b[0;34m()\u001b[0m\n\u001b[1;32m      3\u001b[0m     \u001b[38;5;28mprint\u001b[39m(\u001b[38;5;124m\"\u001b[39m\u001b[38;5;124mfunction inner\u001b[39m\u001b[38;5;124m\"\u001b[39m)\n\u001b[1;32m      4\u001b[0m     outer()\n\u001b[0;32m----> 5\u001b[0m \u001b[43minner\u001b[49m\u001b[43m(\u001b[49m\u001b[43m)\u001b[49m\n\u001b[1;32m      6\u001b[0m \u001b[38;5;28mprint\u001b[39m(\u001b[38;5;124m\"\u001b[39m\u001b[38;5;124mfunction outer\u001b[39m\u001b[38;5;124m\"\u001b[39m)\n",
      "Cell \u001b[0;32mIn[9], line 4\u001b[0m, in \u001b[0;36mouter.<locals>.inner\u001b[0;34m()\u001b[0m\n\u001b[1;32m      2\u001b[0m \u001b[38;5;28;01mdef\u001b[39;00m \u001b[38;5;21minner\u001b[39m():\n\u001b[1;32m      3\u001b[0m     \u001b[38;5;28mprint\u001b[39m(\u001b[38;5;124m\"\u001b[39m\u001b[38;5;124mfunction inner\u001b[39m\u001b[38;5;124m\"\u001b[39m)\n\u001b[0;32m----> 4\u001b[0m     \u001b[43mouter\u001b[49m\u001b[43m(\u001b[49m\u001b[43m)\u001b[49m\n",
      "    \u001b[0;31m[... skipping similar frames: outer at line 5 (1483 times), outer.<locals>.inner at line 4 (1482 times)]\u001b[0m\n",
      "Cell \u001b[0;32mIn[9], line 4\u001b[0m, in \u001b[0;36mouter.<locals>.inner\u001b[0;34m()\u001b[0m\n\u001b[1;32m      2\u001b[0m \u001b[38;5;28;01mdef\u001b[39;00m \u001b[38;5;21minner\u001b[39m():\n\u001b[1;32m      3\u001b[0m     \u001b[38;5;28mprint\u001b[39m(\u001b[38;5;124m\"\u001b[39m\u001b[38;5;124mfunction inner\u001b[39m\u001b[38;5;124m\"\u001b[39m)\n\u001b[0;32m----> 4\u001b[0m     \u001b[43mouter\u001b[49m\u001b[43m(\u001b[49m\u001b[43m)\u001b[49m\n",
      "Cell \u001b[0;32mIn[9], line 5\u001b[0m, in \u001b[0;36mouter\u001b[0;34m()\u001b[0m\n\u001b[1;32m      3\u001b[0m     \u001b[38;5;28mprint\u001b[39m(\u001b[38;5;124m\"\u001b[39m\u001b[38;5;124mfunction inner\u001b[39m\u001b[38;5;124m\"\u001b[39m)\n\u001b[1;32m      4\u001b[0m     outer()\n\u001b[0;32m----> 5\u001b[0m \u001b[43minner\u001b[49m\u001b[43m(\u001b[49m\u001b[43m)\u001b[49m\n\u001b[1;32m      6\u001b[0m \u001b[38;5;28mprint\u001b[39m(\u001b[38;5;124m\"\u001b[39m\u001b[38;5;124mfunction outer\u001b[39m\u001b[38;5;124m\"\u001b[39m)\n",
      "Cell \u001b[0;32mIn[9], line 3\u001b[0m, in \u001b[0;36mouter.<locals>.inner\u001b[0;34m()\u001b[0m\n\u001b[1;32m      2\u001b[0m \u001b[38;5;28;01mdef\u001b[39;00m \u001b[38;5;21minner\u001b[39m():\n\u001b[0;32m----> 3\u001b[0m     \u001b[38;5;28mprint\u001b[39m(\u001b[38;5;124m\"\u001b[39m\u001b[38;5;124mfunction inner\u001b[39m\u001b[38;5;124m\"\u001b[39m)\n\u001b[1;32m      4\u001b[0m     outer()\n",
      "File \u001b[0;32m~/Library/Python/3.11/lib/python/site-packages/ipykernel/iostream.py:649\u001b[0m, in \u001b[0;36mOutStream.write\u001b[0;34m(self, string)\u001b[0m\n\u001b[1;32m    646\u001b[0m     msg \u001b[38;5;241m=\u001b[39m \u001b[38;5;124m\"\u001b[39m\u001b[38;5;124mI/O operation on closed file\u001b[39m\u001b[38;5;124m\"\u001b[39m\n\u001b[1;32m    647\u001b[0m     \u001b[38;5;28;01mraise\u001b[39;00m \u001b[38;5;167;01mValueError\u001b[39;00m(msg)\n\u001b[0;32m--> 649\u001b[0m is_child \u001b[38;5;241m=\u001b[39m \u001b[38;5;129;01mnot\u001b[39;00m \u001b[38;5;28;43mself\u001b[39;49m\u001b[38;5;241;43m.\u001b[39;49m\u001b[43m_is_master_process\u001b[49m\u001b[43m(\u001b[49m\u001b[43m)\u001b[49m\n\u001b[1;32m    650\u001b[0m \u001b[38;5;66;03m# only touch the buffer in the IO thread to avoid races\u001b[39;00m\n\u001b[1;32m    651\u001b[0m \u001b[38;5;28;01mwith\u001b[39;00m \u001b[38;5;28mself\u001b[39m\u001b[38;5;241m.\u001b[39m_buffer_lock:\n",
      "File \u001b[0;32m~/Library/Python/3.11/lib/python/site-packages/ipykernel/iostream.py:520\u001b[0m, in \u001b[0;36mOutStream._is_master_process\u001b[0;34m(self)\u001b[0m\n\u001b[1;32m    519\u001b[0m \u001b[38;5;28;01mdef\u001b[39;00m \u001b[38;5;21m_is_master_process\u001b[39m(\u001b[38;5;28mself\u001b[39m):\n\u001b[0;32m--> 520\u001b[0m     \u001b[38;5;28;01mreturn\u001b[39;00m \u001b[43mos\u001b[49m\u001b[38;5;241;43m.\u001b[39;49m\u001b[43mgetpid\u001b[49m\u001b[43m(\u001b[49m\u001b[43m)\u001b[49m \u001b[38;5;241m==\u001b[39m \u001b[38;5;28mself\u001b[39m\u001b[38;5;241m.\u001b[39m_master_pid\n",
      "\u001b[0;31mRecursionError\u001b[0m: maximum recursion depth exceeded while calling a Python object"
     ]
    }
   ],
   "source": [
    "outer()"
   ]
  },
  {
   "cell_type": "markdown",
   "metadata": {},
   "source": [
    "Example: x is present in all three of the function including main, but x work independently"
   ]
  },
  {
   "cell_type": "code",
   "execution_count": 11,
   "metadata": {},
   "outputs": [
    {
     "name": "stdout",
     "output_type": "stream",
     "text": [
      "in g(x): x= 4\n"
     ]
    }
   ],
   "source": [
    "def g(x):\n",
    "    def h():\n",
    "        x = 'abc'\n",
    "    x += 1\n",
    "    print('in g(x): x=',x)\n",
    "    h()\n",
    "    return x\n",
    "\n",
    "x = 3\n",
    "z = g(x)"
   ]
  },
  {
   "cell_type": "markdown",
   "metadata": {},
   "source": [
    "Example 2:"
   ]
  },
  {
   "cell_type": "code",
   "execution_count": 12,
   "metadata": {},
   "outputs": [
    {
     "name": "stdout",
     "output_type": "stream",
     "text": [
      "in g(x): x= 4\n",
      "in h(x): x= 5\n",
      "in main program scope: z = 4\n",
      "in main program scope: x = 3\n"
     ]
    }
   ],
   "source": [
    "def g(x):\n",
    "    def h(x):\n",
    "        x += 1\n",
    "        print('in h(x): x=',x)\n",
    "    x += 1\n",
    "    print('in g(x): x=',x)\n",
    "    h(x)\n",
    "    return x\n",
    "\n",
    "x = 3\n",
    "z = g(x)\n",
    "print('in main program scope: z =',z)\n",
    "print('in main program scope: x =',x)"
   ]
  },
  {
   "cell_type": "markdown",
   "metadata": {},
   "source": [
    "# Functions are first class citizens\n",
    "\n",
    "In a given programming language design, a first-class citizen is an entity which supports all the operations generally available to other entities. These operations typically include being passed as an argument, returned from a function, and assigned to a variable.\n",
    "\n",
    "In Python, functions are considered first-class citizens. This means that functions in Python have the same rights and abilities as other objects, such as integers, strings, and lists. Here are some reasons why functions are first-class citizens in Python:\n",
    "\n",
    "Functions can be assigned to variables. You can create a function and assign it to a variable, just like any other object.\n",
    "\n",
    "Functions can be passed as arguments to other functions. You can use functions as arguments to create higher-order functions.\n",
    "\n",
    "Functions can be returned as values from other functions. You can have functions that generate and return other functions.\n",
    "\n",
    "Functions can be stored in data structures. You can store functions in lists, dictionaries, or other data structures.\n"
   ]
  },
  {
   "cell_type": "code",
   "execution_count": 1,
   "metadata": {},
   "outputs": [],
   "source": [
    "def square(num):\n",
    "    return num**2"
   ]
  },
  {
   "cell_type": "markdown",
   "metadata": {},
   "source": [
    "We can print the type and id of a function like other datatypes. So Function in python is a data type"
   ]
  },
  {
   "cell_type": "code",
   "execution_count": 2,
   "metadata": {},
   "outputs": [
    {
     "name": "stdout",
     "output_type": "stream",
     "text": [
      "<class 'function'>\n",
      "4423834400\n"
     ]
    }
   ],
   "source": [
    "print(type(square))\n",
    "print(id(square))"
   ]
  },
  {
   "cell_type": "markdown",
   "metadata": {},
   "source": [
    "We can also reassign a function to a variable"
   ]
  },
  {
   "cell_type": "code",
   "execution_count": 3,
   "metadata": {},
   "outputs": [],
   "source": [
    "def square(num):\n",
    "    return num**2"
   ]
  },
  {
   "cell_type": "code",
   "execution_count": 5,
   "metadata": {},
   "outputs": [
    {
     "data": {
      "text/plain": [
       "4423842240"
      ]
     },
     "execution_count": 5,
     "metadata": {},
     "output_type": "execute_result"
    }
   ],
   "source": [
    "x = square # without passing an arguments\n",
    "id(x)"
   ]
  },
  {
   "cell_type": "markdown",
   "metadata": {},
   "source": [
    "So it behave as integer or string like other datatypes"
   ]
  },
  {
   "cell_type": "code",
   "execution_count": 6,
   "metadata": {},
   "outputs": [
    {
     "data": {
      "text/plain": [
       "9"
      ]
     },
     "execution_count": 6,
     "metadata": {},
     "output_type": "execute_result"
    }
   ],
   "source": [
    "x(3)"
   ]
  },
  {
   "cell_type": "markdown",
   "metadata": {},
   "source": [
    "We can also delete a function"
   ]
  },
  {
   "cell_type": "code",
   "execution_count": 7,
   "metadata": {},
   "outputs": [],
   "source": [
    "def square(num):\n",
    "    return num**2"
   ]
  },
  {
   "cell_type": "code",
   "execution_count": 8,
   "metadata": {},
   "outputs": [],
   "source": [
    "del square"
   ]
  },
  {
   "cell_type": "code",
   "execution_count": 9,
   "metadata": {},
   "outputs": [
    {
     "ename": "NameError",
     "evalue": "name 'square' is not defined",
     "output_type": "error",
     "traceback": [
      "\u001b[0;31m---------------------------------------------------------------------------\u001b[0m",
      "\u001b[0;31mNameError\u001b[0m                                 Traceback (most recent call last)",
      "Cell \u001b[0;32mIn[9], line 1\u001b[0m\n\u001b[0;32m----> 1\u001b[0m \u001b[43msquare\u001b[49m(\u001b[38;5;241m3\u001b[39m)\n",
      "\u001b[0;31mNameError\u001b[0m: name 'square' is not defined"
     ]
    }
   ],
   "source": [
    "square(3)"
   ]
  },
  {
   "cell_type": "markdown",
   "metadata": {},
   "source": [
    "We can also store a function in a list"
   ]
  },
  {
   "cell_type": "code",
   "execution_count": 10,
   "metadata": {},
   "outputs": [],
   "source": [
    "def square(num):\n",
    "    return num**2"
   ]
  },
  {
   "cell_type": "code",
   "execution_count": 11,
   "metadata": {},
   "outputs": [],
   "source": [
    "l = [1,2,3,4,square]"
   ]
  },
  {
   "cell_type": "code",
   "execution_count": 12,
   "metadata": {},
   "outputs": [
    {
     "name": "stdout",
     "output_type": "stream",
     "text": [
      "[1, 2, 3, 4, <function square at 0x107b6e020>]\n"
     ]
    }
   ],
   "source": [
    "print(l)"
   ]
  },
  {
   "cell_type": "markdown",
   "metadata": {},
   "source": [
    "We can also pass arguments using list indexing"
   ]
  },
  {
   "cell_type": "code",
   "execution_count": 13,
   "metadata": {},
   "outputs": [
    {
     "data": {
      "text/plain": [
       "9"
      ]
     },
     "execution_count": 13,
     "metadata": {},
     "output_type": "execute_result"
    }
   ],
   "source": [
    "l[-1](3)"
   ]
  },
  {
   "cell_type": "markdown",
   "metadata": {},
   "source": [
    "Function is an immutable data type; we can find this easily if we try storing it in a set"
   ]
  },
  {
   "cell_type": "code",
   "execution_count": 14,
   "metadata": {},
   "outputs": [],
   "source": [
    "s = {square}"
   ]
  },
  {
   "cell_type": "code",
   "execution_count": 15,
   "metadata": {},
   "outputs": [
    {
     "name": "stdout",
     "output_type": "stream",
     "text": [
      "{<function square at 0x107b6e020>}\n"
     ]
    }
   ],
   "source": [
    "print(s)"
   ]
  },
  {
   "cell_type": "markdown",
   "metadata": {},
   "source": [
    "# Returning a function from a function: \n",
    "\n",
    "Here we can call a nested function from main this is because the outer function returning a reference of the inner function"
   ]
  },
  {
   "cell_type": "code",
   "execution_count": 16,
   "metadata": {},
   "outputs": [
    {
     "name": "stdout",
     "output_type": "stream",
     "text": [
      "7\n"
     ]
    }
   ],
   "source": [
    "def f():\n",
    "    def x(a,b):\n",
    "        return a+b\n",
    "    return x\n",
    "\n",
    "val = f()(3,4)\n",
    "print(val)"
   ]
  },
  {
   "cell_type": "markdown",
   "metadata": {},
   "source": [
    "# Pass a function into a function as an argument"
   ]
  },
  {
   "cell_type": "code",
   "execution_count": 17,
   "metadata": {},
   "outputs": [],
   "source": [
    "def func_a():\n",
    "    print(\"inside function a\")\n",
    "\n",
    "def func_b():\n",
    "    print(\"inside function b\")"
   ]
  },
  {
   "cell_type": "markdown",
   "metadata": {},
   "source": [
    "It's gonna give us an error as func_b() doesn't take any arguments but we are trying to pass an argument in it."
   ]
  },
  {
   "cell_type": "code",
   "execution_count": 18,
   "metadata": {},
   "outputs": [
    {
     "ename": "TypeError",
     "evalue": "func_b() takes 0 positional arguments but 1 was given",
     "output_type": "error",
     "traceback": [
      "\u001b[0;31m---------------------------------------------------------------------------\u001b[0m",
      "\u001b[0;31mTypeError\u001b[0m                                 Traceback (most recent call last)",
      "Cell \u001b[0;32mIn[18], line 1\u001b[0m\n\u001b[0;32m----> 1\u001b[0m \u001b[43mfunc_b\u001b[49m\u001b[43m(\u001b[49m\u001b[43mfunc_a\u001b[49m\u001b[43m)\u001b[49m\n",
      "\u001b[0;31mTypeError\u001b[0m: func_b() takes 0 positional arguments but 1 was given"
     ]
    }
   ],
   "source": [
    "func_b(func_a)"
   ]
  },
  {
   "cell_type": "code",
   "execution_count": 19,
   "metadata": {},
   "outputs": [],
   "source": [
    "def func_a():\n",
    "    print(\"inside function a\")\n",
    "\n",
    "def func_b(z):\n",
    "    print(\"inside function b\")"
   ]
  },
  {
   "cell_type": "markdown",
   "metadata": {},
   "source": [
    "But here func_b takes one argument but it doesn't return anything so even though func_a is passed as an argument in func_b, only the logic in func_b will execute that's the print statement in func_b"
   ]
  },
  {
   "cell_type": "code",
   "execution_count": 20,
   "metadata": {},
   "outputs": [
    {
     "name": "stdout",
     "output_type": "stream",
     "text": [
      "inside function b\n"
     ]
    }
   ],
   "source": [
    "func_b(func_a)"
   ]
  },
  {
   "cell_type": "code",
   "execution_count": 21,
   "metadata": {},
   "outputs": [],
   "source": [
    "def func_a():\n",
    "    print(\"inside function a\")\n",
    "\n",
    "def func_b(z):\n",
    "    print(\"inside function b\")\n",
    "    return z()"
   ]
  },
  {
   "cell_type": "markdown",
   "metadata": {},
   "source": [
    "Here first the logic in func_b, the print statement will execute first, then next line is returning z() which is a function in our case it is func_a, as soon as pythonpython see z() python is gonna jump to func_a and execute the print statement in it."
   ]
  },
  {
   "cell_type": "code",
   "execution_count": 22,
   "metadata": {},
   "outputs": [
    {
     "name": "stdout",
     "output_type": "stream",
     "text": [
      "inside function b\n",
      "inside function a\n"
     ]
    }
   ],
   "source": [
    "func_b(func_a)"
   ]
  },
  {
   "cell_type": "markdown",
   "metadata": {},
   "source": [
    "# Benefits of using a function\n",
    "\n",
    "Code modularity: function devides the code into different modules that make it easier to work with\n",
    "\n",
    "Code redability\n",
    "\n",
    "Code reusability\n",
    "\n",
    "# Lambda Function\n",
    "\n",
    "In Python, a lambda function is a small, anonymous function defined using the lambda keyword. Lambda functions are also known as anonymous functions or lambda expressions. They are a concise way to create small, one-time-use functions without having to formally define a full function using the def keyword.\n",
    "\n",
    "The basic syntax of a lambda function is as follows:\n",
    "\n",
    "## Syntax: lambda arguments: expression\n",
    "\n",
    "lambda: The keyword used to define a lambda function.\n",
    "\n",
    "arguments: The input parameters of the function.\n",
    "\n",
    "expression: The single expression that the function evaluates and returns.\n",
    "\n",
    "Lambda function can take any number of arguments but it can have only one expression\n"
   ]
  },
  {
   "cell_type": "code",
   "execution_count": 23,
   "metadata": {},
   "outputs": [
    {
     "data": {
      "text/plain": [
       "<function __main__.<lambda>(a, b)>"
      ]
     },
     "execution_count": 23,
     "metadata": {},
     "output_type": "execute_result"
    }
   ],
   "source": [
    "lambda a,b: a+b"
   ]
  },
  {
   "cell_type": "markdown",
   "metadata": {},
   "source": [
    "creating a lambda function to calculate square of an integer"
   ]
  },
  {
   "cell_type": "code",
   "execution_count": 24,
   "metadata": {},
   "outputs": [
    {
     "data": {
      "text/plain": [
       "<function __main__.<lambda>(x)>"
      ]
     },
     "execution_count": 24,
     "metadata": {},
     "output_type": "execute_result"
    }
   ],
   "source": [
    "lambda x:x**2"
   ]
  },
  {
   "cell_type": "markdown",
   "metadata": {},
   "source": [
    "store this into a variable"
   ]
  },
  {
   "cell_type": "code",
   "execution_count": 25,
   "metadata": {},
   "outputs": [],
   "source": [
    "var = lambda x:x**2"
   ]
  },
  {
   "cell_type": "code",
   "execution_count": 26,
   "metadata": {},
   "outputs": [
    {
     "data": {
      "text/plain": [
       "4"
      ]
     },
     "execution_count": 26,
     "metadata": {},
     "output_type": "execute_result"
    }
   ],
   "source": [
    "var(2)"
   ]
  },
  {
   "cell_type": "code",
   "execution_count": 27,
   "metadata": {},
   "outputs": [
    {
     "name": "stdout",
     "output_type": "stream",
     "text": [
      "9\n"
     ]
    }
   ],
   "source": [
    "print(var(3))"
   ]
  },
  {
   "cell_type": "markdown",
   "metadata": {},
   "source": [
    "With 2 arguments"
   ]
  },
  {
   "cell_type": "code",
   "execution_count": 28,
   "metadata": {},
   "outputs": [
    {
     "data": {
      "text/plain": [
       "10"
      ]
     },
     "execution_count": 28,
     "metadata": {},
     "output_type": "execute_result"
    }
   ],
   "source": [
    "var = lambda x,y:x+y\n",
    "var(5,5)"
   ]
  },
  {
   "cell_type": "markdown",
   "metadata": {},
   "source": [
    "# Difference between lambda and a regular function\n",
    "\n",
    "lambda has no name\n",
    "\n",
    "written in one line\n",
    "\n",
    "Not reusable\n",
    "\n",
    "They are used with high order function\n",
    "\n",
    "Example of a lambda function to check if a letter is present in a string."
   ]
  },
  {
   "cell_type": "code",
   "execution_count": 34,
   "metadata": {},
   "outputs": [
    {
     "name": "stdout",
     "output_type": "stream",
     "text": [
      "False\n"
     ]
    }
   ],
   "source": [
    "a = lambda s: 'a' in s\n",
    "print(a('hello'))"
   ]
  },
  {
   "cell_type": "markdown",
   "metadata": {},
   "source": [
    "Example: odd or even"
   ]
  },
  {
   "cell_type": "code",
   "execution_count": 35,
   "metadata": {},
   "outputs": [
    {
     "data": {
      "text/plain": [
       "<function __main__.<lambda>(s)>"
      ]
     },
     "execution_count": 35,
     "metadata": {},
     "output_type": "execute_result"
    }
   ],
   "source": [
    "lambda s: 'even' if s%2==0 else 'odd'"
   ]
  },
  {
   "cell_type": "code",
   "execution_count": 36,
   "metadata": {},
   "outputs": [],
   "source": [
    "num = lambda s: 'even' if s%2==0 else 'odd'"
   ]
  },
  {
   "cell_type": "code",
   "execution_count": 37,
   "metadata": {},
   "outputs": [
    {
     "data": {
      "text/plain": [
       "'odd'"
      ]
     },
     "execution_count": 37,
     "metadata": {},
     "output_type": "execute_result"
    }
   ],
   "source": [
    "num(9)"
   ]
  },
  {
   "cell_type": "markdown",
   "metadata": {},
   "source": [
    "# Higher order function\n",
    "\n",
    "A higher-order function is a function that takes one or more functions as arguments or returns a function as its result. In other words, it treats functions as first-class citizens, allowing them to be used as values."
   ]
  },
  {
   "cell_type": "code",
   "execution_count": 48,
   "metadata": {},
   "outputs": [
    {
     "data": {
      "text/plain": [
       "[1, 4, 9, 16, 25]"
      ]
     },
     "execution_count": 48,
     "metadata": {},
     "output_type": "execute_result"
    }
   ],
   "source": [
    "# this is not a higher order function\n",
    "def square(num):\n",
    "    return num**2\n",
    "\n",
    "def transform(l):\n",
    "    output = []\n",
    "    for i in l:\n",
    "        output.append(square(i))\n",
    "    return output\n",
    "\n",
    "l = [1,2,3,4,5]\n",
    "transform(l)"
   ]
  },
  {
   "cell_type": "markdown",
   "metadata": {},
   "source": [
    "This is an example of HOF transform takes square function as an argument so transform function is a HOF"
   ]
  },
  {
   "cell_type": "code",
   "execution_count": 1,
   "metadata": {},
   "outputs": [],
   "source": [
    "def square(num):\n",
    "    return num**2"
   ]
  },
  {
   "cell_type": "code",
   "execution_count": 5,
   "metadata": {},
   "outputs": [],
   "source": [
    "def transform(f,l):\n",
    "    output = []\n",
    "    for i in l:\n",
    "        output.append(f(i))\n",
    "    print(output)"
   ]
  },
  {
   "cell_type": "code",
   "execution_count": 6,
   "metadata": {},
   "outputs": [
    {
     "name": "stdout",
     "output_type": "stream",
     "text": [
      "[1, 4, 9, 16, 25]\n"
     ]
    }
   ],
   "source": [
    "l = [1,2,3,4,5]\n",
    "transform(square,l)"
   ]
  },
  {
   "cell_type": "markdown",
   "metadata": {},
   "source": [
    "Similarly if we have to create  cubes we have to make another cube function"
   ]
  },
  {
   "cell_type": "code",
   "execution_count": 7,
   "metadata": {},
   "outputs": [
    {
     "name": "stdout",
     "output_type": "stream",
     "text": [
      "[1, 8, 27, 64, 125]\n"
     ]
    }
   ],
   "source": [
    "def square(num):\n",
    "    return num**2\n",
    "\n",
    "def cube(num):\n",
    "    return num**3\n",
    "\n",
    "def transform(f,l):\n",
    "    output = []\n",
    "    for i in l:\n",
    "        output.append(f(i))\n",
    "    print(output)\n",
    "\n",
    "l = [1,2,3,4,5]\n",
    "transform(cube,l)"
   ]
  },
  {
   "cell_type": "markdown",
   "metadata": {},
   "source": [
    "So insted of creating a whole function we can creat a lambda function that does the job"
   ]
  },
  {
   "cell_type": "code",
   "execution_count": 8,
   "metadata": {},
   "outputs": [
    {
     "name": "stdout",
     "output_type": "stream",
     "text": [
      "[1, 4, 9, 16, 25]\n"
     ]
    }
   ],
   "source": [
    "def square(num):\n",
    "    return num**2\n",
    "\n",
    "def cube(num):\n",
    "    return num**3\n",
    "\n",
    "def transform(f,l):\n",
    "    output = []\n",
    "    for i in l:\n",
    "        output.append(f(i))\n",
    "    print(output)\n",
    "\n",
    "l = [1,2,3,4,5]\n",
    "transform(lambda x: x**2,l)"
   ]
  },
  {
   "cell_type": "code",
   "execution_count": 9,
   "metadata": {},
   "outputs": [
    {
     "name": "stdout",
     "output_type": "stream",
     "text": [
      "[1, 16, 81, 256, 625]\n"
     ]
    }
   ],
   "source": [
    "def square(num):\n",
    "    return num**2\n",
    "\n",
    "def cube(num):\n",
    "    return num**3\n",
    "\n",
    "def transform(f,l):\n",
    "    output = []\n",
    "    for i in l:\n",
    "        output.append(f(i))\n",
    "    print(output)\n",
    "\n",
    "l = [1,2,3,4,5]\n",
    "transform(lambda x: x**4,l)"
   ]
  },
  {
   "cell_type": "markdown",
   "metadata": {},
   "source": [
    "# Map function\n",
    "\n",
    "In Python, the map() function is a built-in function that applies a specified function to all the items in an iterable (e.g., a list, tuple, or string) and returns an iterator that produces the results. The map() function takes two arguments: the function to apply and the iterable to apply it to.\n",
    "\n",
    "Syntax: map(fun, iter)\n",
    "\n",
    "Parameters:\n",
    "\n",
    "fun: It is a function to which map passes each element of given iterable.\n",
    "\n",
    "iter: It is iterable which is to be mapped."
   ]
  },
  {
   "cell_type": "code",
   "execution_count": 32,
   "metadata": {},
   "outputs": [
    {
     "name": "stdout",
     "output_type": "stream",
     "text": [
      "[1, 4, 9, 16, 25]\n"
     ]
    }
   ],
   "source": [
    "# Define a function to square a number\n",
    "def square(x):\n",
    "    return x**2\n",
    "\n",
    "# Create a list of numbers\n",
    "numbers = [1, 2, 3, 4, 5]\n",
    "\n",
    "# Use map() to apply the square function to each element in the list\n",
    "squared_numbers = map(square, numbers)\n",
    "\n",
    "# Convert the result to a list (since map returns an iterator)\n",
    "result_list = list(squared_numbers)\n",
    "\n",
    "print(result_list)"
   ]
  },
  {
   "cell_type": "markdown",
   "metadata": {},
   "source": [
    "Map with lambda expression"
   ]
  },
  {
   "cell_type": "code",
   "execution_count": 11,
   "metadata": {},
   "outputs": [
    {
     "data": {
      "text/plain": [
       "<map at 0x103faae30>"
      ]
     },
     "execution_count": 11,
     "metadata": {},
     "output_type": "execute_result"
    }
   ],
   "source": [
    "map(lambda x: x**2,[1,2,3,4,5])"
   ]
  },
  {
   "cell_type": "code",
   "execution_count": 12,
   "metadata": {},
   "outputs": [
    {
     "data": {
      "text/plain": [
       "[1, 4, 9, 16, 25]"
      ]
     },
     "execution_count": 12,
     "metadata": {},
     "output_type": "execute_result"
    }
   ],
   "source": [
    "list(map(lambda x: x**2,[1,2,3,4,5]))"
   ]
  },
  {
   "cell_type": "markdown",
   "metadata": {},
   "source": [
    "Example: odd even labelling"
   ]
  },
  {
   "cell_type": "code",
   "execution_count": 16,
   "metadata": {},
   "outputs": [
    {
     "data": {
      "text/plain": [
       "['odd', 'even', 'odd', 'even', 'odd']"
      ]
     },
     "execution_count": 16,
     "metadata": {},
     "output_type": "execute_result"
    }
   ],
   "source": [
    "list(map(lambda x: 'even' if x%2==0 else 'odd',[1,2,3,4,5]))"
   ]
  },
  {
   "cell_type": "markdown",
   "metadata": {},
   "source": [
    "Example: fetch name from a list of dictionaries"
   ]
  },
  {
   "cell_type": "code",
   "execution_count": 19,
   "metadata": {},
   "outputs": [],
   "source": [
    "user = [\n",
    "    {\n",
    "        'name' : 'Alice',\n",
    "        'age' : 30,\n",
    "        'gender' : 'female'\n",
    "        \n",
    "    },\n",
    "    {\n",
    "        'name' : 'bob',\n",
    "        'age' : 32,\n",
    "        'gender' : 'male'\n",
    "    },\n",
    "    {\n",
    "        'name' : 'harry',\n",
    "        'age' : 20,\n",
    "        'gender' : 'male'\n",
    "    }\n",
    "]"
   ]
  },
  {
   "cell_type": "code",
   "execution_count": 21,
   "metadata": {},
   "outputs": [
    {
     "data": {
      "text/plain": [
       "['Alice', 'bob', 'harry']"
      ]
     },
     "execution_count": 21,
     "metadata": {},
     "output_type": "execute_result"
    }
   ],
   "source": [
    "list(map(lambda u:u['name'],user))"
   ]
  },
  {
   "cell_type": "markdown",
   "metadata": {},
   "source": [
    "# Filter function\n",
    "\n",
    "The filter() function in Python is another built-in function that, similar to map(), operates on an iterable (e.g., a list, tuple, or string). The filter() function applies a specified filtering function to each element in the iterable and returns an iterator that produces only the elements for which the filtering function returns True.\n",
    "\n",
    "The filter() method filters the given sequence with the help of a function that tests each element in the sequence to be true or not. geeksforgeeks\n",
    "\n",
    "Syntax: filter(function, sequence)"
   ]
  },
  {
   "cell_type": "code",
   "execution_count": 25,
   "metadata": {},
   "outputs": [
    {
     "data": {
      "text/plain": [
       "[6, 7, 8, 9]"
      ]
     },
     "execution_count": 25,
     "metadata": {},
     "output_type": "execute_result"
    }
   ],
   "source": [
    "# numbers are greater than 5\n",
    "l = [4,5,6,7,8,9]\n",
    "list(filter(lambda x: x>5,l))"
   ]
  },
  {
   "cell_type": "markdown",
   "metadata": {},
   "source": [
    "Example: printing even numbers"
   ]
  },
  {
   "cell_type": "code",
   "execution_count": 31,
   "metadata": {},
   "outputs": [
    {
     "name": "stdout",
     "output_type": "stream",
     "text": [
      "[2, 4, 6, 8, 10]\n"
     ]
    }
   ],
   "source": [
    "# Define a filtering function for even numbers\n",
    "def is_even(x):\n",
    "    return x % 2 == 0\n",
    "\n",
    "# Create a list of numbers\n",
    "numbers = [1, 2, 3, 4, 5, 6, 7, 8, 9, 10]\n",
    "\n",
    "# Use filter() to keep only the even numbers in the list\n",
    "even_numbers = filter(is_even, numbers)\n",
    "\n",
    "# Convert the result to a list (since filter returns an iterator)\n",
    "result_list = list(even_numbers)\n",
    "\n",
    "print(result_list)"
   ]
  },
  {
   "cell_type": "markdown",
   "metadata": {},
   "source": [
    "Example: name of thr fruits start with 'a"
   ]
  },
  {
   "cell_type": "code",
   "execution_count": 28,
   "metadata": {},
   "outputs": [
    {
     "data": {
      "text/plain": [
       "['apple', 'apricot']"
      ]
     },
     "execution_count": 28,
     "metadata": {},
     "output_type": "execute_result"
    }
   ],
   "source": [
    "l = ['banana','apple','chery','orage','apricot']\n",
    "list(filter(lambda x: x[0]=='a',l))"
   ]
  },
  {
   "cell_type": "code",
   "execution_count": 29,
   "metadata": {},
   "outputs": [
    {
     "data": {
      "text/plain": [
       "['apple', 'apricot']"
      ]
     },
     "execution_count": 29,
     "metadata": {},
     "output_type": "execute_result"
    }
   ],
   "source": [
    "l = ['banana','apple','chery','orage','apricot']\n",
    "list(filter(lambda x: x.startswith('a'),l))"
   ]
  },
  {
   "cell_type": "markdown",
   "metadata": {},
   "source": [
    "# Reduce Function\n",
    "\n",
    "The reduce() function in Python is a built-in function that applies a specified binary function to the items of an iterable (e.g., a list, tuple) cumulatively, from left to right, so as to reduce the iterable to a single accumulated result. It's often used to perform cumulative operations on the elements of a sequence.\n",
    "\n",
    "The reduce(fun,seq) function is used to apply a particular function passed in its argument to all of the list elements mentioned in the sequence passed along.This function is defined in “functools” module.\n",
    "\n",
    "Working :  \n",
    "\n",
    "At first step, first two elements of sequence are picked and the result is obtained.\n",
    "Next step is to apply the same function to the previously attained result and the number just succeeding the second element and the result is again stored.\n",
    "This process continues till no more elements are left in the container.\n",
    "The final returned result is returned and printed on console."
   ]
  },
  {
   "cell_type": "code",
   "execution_count": 30,
   "metadata": {},
   "outputs": [
    {
     "name": "stdout",
     "output_type": "stream",
     "text": [
      "120\n"
     ]
    }
   ],
   "source": [
    "from functools import reduce\n",
    "\n",
    "# Define a binary function for multiplication\n",
    "def multiply(x, y):\n",
    "    return x * y\n",
    "\n",
    "# Create a list of numbers\n",
    "numbers = [1, 2, 3, 4, 5]\n",
    "\n",
    "# Use reduce() to find the product of all numbers in the list\n",
    "product = reduce(multiply, numbers)\n",
    "\n",
    "print(product) "
   ]
  },
  {
   "cell_type": "markdown",
   "metadata": {},
   "source": [
    "Example: sum of all item"
   ]
  },
  {
   "cell_type": "code",
   "execution_count": 33,
   "metadata": {},
   "outputs": [
    {
     "data": {
      "text/plain": [
       "15"
      ]
     },
     "execution_count": 33,
     "metadata": {},
     "output_type": "execute_result"
    }
   ],
   "source": [
    "from functools import reduce\n",
    "reduce(lambda x,y:x+y,[1,2,3,4,5])"
   ]
  },
  {
   "cell_type": "markdown",
   "metadata": {},
   "source": [
    "Example: find minimum number"
   ]
  },
  {
   "cell_type": "code",
   "execution_count": 35,
   "metadata": {},
   "outputs": [
    {
     "data": {
      "text/plain": [
       "15"
      ]
     },
     "execution_count": 35,
     "metadata": {},
     "output_type": "execute_result"
    }
   ],
   "source": [
    "from functools import reduce\n",
    "reduce(lambda x,y:x if x<y else y,[91,27,35,42,15])"
   ]
  },
  {
   "cell_type": "markdown",
   "metadata": {},
   "source": [
    "Example: find maximum number"
   ]
  },
  {
   "cell_type": "code",
   "execution_count": 36,
   "metadata": {},
   "outputs": [
    {
     "data": {
      "text/plain": [
       "91"
      ]
     },
     "execution_count": 36,
     "metadata": {},
     "output_type": "execute_result"
    }
   ],
   "source": [
    "from functools import reduce\n",
    "reduce(lambda x,y:x if x>y else y,[91,27,35,42,15])"
   ]
  },
  {
   "cell_type": "code",
   "execution_count": null,
   "metadata": {},
   "outputs": [],
   "source": []
  }
 ],
 "metadata": {
  "kernelspec": {
   "display_name": "Python 3",
   "language": "python",
   "name": "python3"
  },
  "language_info": {
   "codemirror_mode": {
    "name": "ipython",
    "version": 3
   },
   "file_extension": ".py",
   "mimetype": "text/x-python",
   "name": "python",
   "nbconvert_exporter": "python",
   "pygments_lexer": "ipython3",
   "version": "3.11.5"
  }
 },
 "nbformat": 4,
 "nbformat_minor": 2
}
