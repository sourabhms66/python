{
 "cells": [
  {
   "cell_type": "markdown",
   "metadata": {},
   "source": [
    "# Write a oop class to handle the following scenarios\n",
    "\n",
    "A user can create and view 2D coordinate\n",
    "\n",
    "A user can find out the distance between 2 coordinates\n",
    "\n",
    "A user can find out the distance of a coordinate from origin\n",
    "\n",
    "A user can check if a point lies on a given line\n",
    "\n",
    "A user can find the distance between a given 2D point and a given line\n",
    "\n",
    "First creating and showing the coordinates"
   ]
  },
  {
   "cell_type": "code",
   "execution_count": 4,
   "metadata": {},
   "outputs": [],
   "source": [
    "class Point:\n",
    "    def __init__(self,x,y):\n",
    "        self.x_cod = x\n",
    "        self.y_cod = y\n",
    "\n",
    "    def __str__(self):\n",
    "        return '<{},{}>'.format(self.x_cod,self.y_cod)"
   ]
  },
  {
   "cell_type": "code",
   "execution_count": 7,
   "metadata": {},
   "outputs": [],
   "source": [
    "p1 = Point(0,1)\n",
    "p2 = Point(-2,3)"
   ]
  },
  {
   "cell_type": "code",
   "execution_count": 8,
   "metadata": {},
   "outputs": [
    {
     "name": "stdout",
     "output_type": "stream",
     "text": [
      "<0,1>\n",
      "<-2,3>\n"
     ]
    }
   ],
   "source": [
    "print(p1)\n",
    "print(p2)"
   ]
  },
  {
   "cell_type": "markdown",
   "metadata": {},
   "source": [
    "Finding the distance between two points\n",
    "\n",
    "So we are goona create a method called uclidean_distance(): as we need tow point to claculate a uclidean distance this methjod need two instances as arguments."
   ]
  },
  {
   "cell_type": "code",
   "execution_count": 23,
   "metadata": {},
   "outputs": [],
   "source": [
    "class Point:\n",
    "    def __init__(self,x,y):\n",
    "        self.x_cod = x\n",
    "        self.y_cod = y\n",
    "\n",
    "    def __str__(self):\n",
    "        return '<{},{}>'.format(self.x_cod,self.y_cod)\n",
    "    \n",
    "    def uclidean_distance(self,other):\n",
    "        return ((other.x_cod-self.x_cod)**2 + (other.y_cod-self.y_cod)**2)**0.5\n",
    "        "
   ]
  },
  {
   "cell_type": "code",
   "execution_count": 24,
   "metadata": {},
   "outputs": [],
   "source": [
    "p1 = Point(0,2)\n",
    "p2 = Point(3,4)"
   ]
  },
  {
   "cell_type": "markdown",
   "metadata": {},
   "source": [
    "As the uclidean method takes 2 arguments as input"
   ]
  },
  {
   "cell_type": "code",
   "execution_count": 25,
   "metadata": {},
   "outputs": [
    {
     "data": {
      "text/plain": [
       "3.605551275463989"
      ]
     },
     "execution_count": 25,
     "metadata": {},
     "output_type": "execute_result"
    }
   ],
   "source": [
    "p1.uclidean_distance(p2)"
   ]
  },
  {
   "cell_type": "markdown",
   "metadata": {},
   "source": [
    "To calculate the distance of a coordinate from origin, we gonna create a new method and it only takes 1 input and we can write the formula again or we call call the previous uclidean_distance method and give it two arguments self and a Point(0,0) like we are creating a class object inside a class"
   ]
  },
  {
   "cell_type": "code",
   "execution_count": 29,
   "metadata": {},
   "outputs": [],
   "source": [
    "class Point:\n",
    "    def __init__(self,x,y):\n",
    "        self.x_cod = x\n",
    "        self.y_cod = y\n",
    "\n",
    "    def __str__(self):\n",
    "        return '<{},{}>'.format(self.x_cod,self.y_cod)\n",
    "    \n",
    "    def uclidean_distance(self,other):\n",
    "        return ((other.x_cod-self.x_cod)**2 + (other.y_cod-self.y_cod)**2)**0.5\n",
    "    \n",
    "    def distance_from_origin(self):\n",
    "        #return ((self.x_cod)**2 + (self.y_cod)**2)**0.5\n",
    "        return self.uclidean_distance(Point(0,0))"
   ]
  },
  {
   "cell_type": "code",
   "execution_count": 30,
   "metadata": {},
   "outputs": [],
   "source": [
    "p1 = Point(3,4)"
   ]
  },
  {
   "cell_type": "code",
   "execution_count": 31,
   "metadata": {},
   "outputs": [
    {
     "data": {
      "text/plain": [
       "5.0"
      ]
     },
     "execution_count": 31,
     "metadata": {},
     "output_type": "execute_result"
    }
   ],
   "source": [
    "p1.distance_from_origin()"
   ]
  },
  {
   "cell_type": "markdown",
   "metadata": {},
   "source": [
    "To check if a point lies on a given line\n",
    "\n",
    "First of all we have to create a line class which looks like Ax + By + C = 0; where A,B,C are coefficient that user can provide."
   ]
  },
  {
   "cell_type": "code",
   "execution_count": 51,
   "metadata": {},
   "outputs": [],
   "source": [
    "class Point:\n",
    "    def __init__(self,x,y):\n",
    "        self.x_cod = x\n",
    "        self.y_cod = y\n",
    "\n",
    "    def __str__(self):\n",
    "        return '<{},{}>'.format(self.x_cod,self.y_cod)\n",
    "    \n",
    "    def uclidean_distance(self,other):\n",
    "        return ((other.x_cod-self.x_cod)**2 + (other.y_cod-self.y_cod)**2)**0.5\n",
    "    \n",
    "    def distance_from_origin(self):\n",
    "        #return ((self.x_cod)**2 + (self.y_cod)**2)**0.5\n",
    "        return self.uclidean_distance(Point(0,0))\n",
    "    \n",
    "class Line:\n",
    "    def __init__(self,A,B,C):\n",
    "        self.A_coef = A\n",
    "        self.B_coef = B\n",
    "        self.C_coef = C\n",
    "\n",
    "    def __str__(self):\n",
    "        return '{}x + {}y + {} = 0'.format(self.A_coef,self.B_coef,self.C_coef)"
   ]
  },
  {
   "cell_type": "code",
   "execution_count": 52,
   "metadata": {},
   "outputs": [
    {
     "name": "stdout",
     "output_type": "stream",
     "text": [
      "4x + 3y + 5 = 0\n"
     ]
    }
   ],
   "source": [
    "l = Line(4,3,5)\n",
    "print(l)"
   ]
  },
  {
   "cell_type": "markdown",
   "metadata": {},
   "source": [
    "If the line class is inside of Point class"
   ]
  },
  {
   "cell_type": "code",
   "execution_count": 60,
   "metadata": {},
   "outputs": [],
   "source": [
    "class Point:\n",
    "    def __init__(self,x,y):\n",
    "        self.x_cod = x\n",
    "        self.y_cod = y\n",
    "\n",
    "    def __str__(self):\n",
    "        return '<{},{}>'.format(self.x_cod,self.y_cod)\n",
    "    \n",
    "    def uclidean_distance(self,other):\n",
    "        return ((other.x_cod-self.x_cod)**2 + (other.y_cod-self.y_cod)**2)**0.5\n",
    "    \n",
    "    def distance_from_origin(self):\n",
    "        #return ((self.x_cod)**2 + (self.y_cod)**2)**0.5\n",
    "        return self.uclidean_distance(Point(0,0))\n",
    "    \n",
    "    class Line:\n",
    "        def __init__(self,A,B,C):\n",
    "            self.A_coef = A\n",
    "            self.B_coef = B\n",
    "            self.C_coef = C\n",
    "\n",
    "        def __str__(self):\n",
    "            return '{}x + {}y + {} = 0'.format(self.A_coef,self.B_coef,self.C_coef)"
   ]
  },
  {
   "cell_type": "code",
   "execution_count": 61,
   "metadata": {},
   "outputs": [
    {
     "name": "stdout",
     "output_type": "stream",
     "text": [
      "4x + 3y + 5 = 0\n"
     ]
    }
   ],
   "source": [
    "p = Point(3,4)\n",
    "l = p.Line(4,3,5)\n",
    "print(l)"
   ]
  },
  {
   "cell_type": "markdown",
   "metadata": {},
   "source": [
    "Now to check if a piont in the line, we can replace the value of the point by x,y if LHS = RHS then the point is on the line\n",
    "\n",
    "To do that we can create one more method in line class called point_on_line(): and it take two inputs line and a point."
   ]
  },
  {
   "cell_type": "code",
   "execution_count": 14,
   "metadata": {},
   "outputs": [],
   "source": [
    "class Point:\n",
    "    def __init__(self,x,y):\n",
    "        self.x_cod = x\n",
    "        self.y_cod = y\n",
    "\n",
    "    def __str__(self):\n",
    "        return '<{},{}>'.format(self.x_cod,self.y_cod)\n",
    "    \n",
    "    def uclidean_distance(self,other):\n",
    "        return ((other.x_cod-self.x_cod)**2 + (other.y_cod-self.y_cod)**2)**0.5\n",
    "    \n",
    "    def distance_from_origin(self):\n",
    "        #return ((self.x_cod)**2 + (self.y_cod)**2)**0.5\n",
    "        return self.uclidean_distance(Point(0,0))\n",
    "    \n",
    "class Line:\n",
    "    def __init__(self,A,B,C):\n",
    "        self.A_coef = A\n",
    "        self.B_coef = B\n",
    "        self.C_coef = C\n",
    "\n",
    "    def __str__(self):\n",
    "        if self.A_coef<0:\n",
    "         return '{}x + {}y + {} = 0'.format(self.A_coef,self.B_coef,self.C_coef)\n",
    "\n",
    "    def point_on_line(line,point):\n",
    "        if line.A_coef*point.x_cod + line.B_coef*point.y_cod + line.C_coef == 0:\n",
    "            return \"The point is on the line\"\n",
    "        else:\n",
    "            return \"The point is not on the line\"\n",
    "\n"
   ]
  },
  {
   "cell_type": "code",
   "execution_count": 17,
   "metadata": {},
   "outputs": [],
   "source": [
    "p = Point(2,9)\n",
    "l = Line(-4,-3,-5)"
   ]
  },
  {
   "cell_type": "code",
   "execution_count": 18,
   "metadata": {},
   "outputs": [
    {
     "name": "stdout",
     "output_type": "stream",
     "text": [
      "<2,9>\n"
     ]
    },
    {
     "data": {
      "text/plain": [
       "'The point is not on the line'"
      ]
     },
     "execution_count": 18,
     "metadata": {},
     "output_type": "execute_result"
    }
   ],
   "source": [
    "print(p)\n",
    "#print(l)\n",
    "l.point_on_line(p)"
   ]
  },
  {
   "cell_type": "markdown",
   "metadata": {},
   "source": [
    "## To find the distance between a given 2D point and a given line.\n",
    "\n",
    "### When you have a line on the form Ax+By+C=0, and a point (x0,y0), then the distance between the point and the line is- |Ax0+By0+C| / sqrt(A^2+B^2)\n",
    "\n",
    "Similarly we will create a method that takes two input one line and a point, the method is gonna calculate the shortest distance between the point and the line"
   ]
  },
  {
   "cell_type": "code",
   "execution_count": 19,
   "metadata": {},
   "outputs": [],
   "source": [
    "class Point:\n",
    "    def __init__(self,x,y):\n",
    "        self.x_cod = x\n",
    "        self.y_cod = y\n",
    "\n",
    "    def __str__(self):\n",
    "        return '<{},{}>'.format(self.x_cod,self.y_cod)\n",
    "    \n",
    "    def uclidean_distance(self,other):\n",
    "        return ((other.x_cod-self.x_cod)**2 + (other.y_cod-self.y_cod)**2)**0.5\n",
    "    \n",
    "    def distance_from_origin(self):\n",
    "        #return ((self.x_cod)**2 + (self.y_cod)**2)**0.5\n",
    "        return self.uclidean_distance(Point(0,0))\n",
    "    \n",
    "class Line:\n",
    "    def __init__(self,A,B,C):\n",
    "        self.A_coef = A\n",
    "        self.B_coef = B\n",
    "        self.C_coef = C\n",
    "\n",
    "    def point_on_line(line,point):\n",
    "        if line.A_coef*point.x_cod + line.B_coef*point.y_cod + line.C_coef == 0:\n",
    "            return \"The point is on the line\"\n",
    "        else:\n",
    "            return \"The point is not on the line\"\n",
    "\n",
    "    def __str__(self):\n",
    "        if self.A_coef<0:\n",
    "         return '{}x + {}y + {} = 0'.format(self.A_coef,self.B_coef,self.C_coef)\n",
    "        \n",
    "    def sorted_distance(line,point):\n",
    "        return abs((line.A_coef*point.x_cod) + (line.B_coef*point.y_cod) + line.C_coef)/(line.A_coef**2 + line.B_coef**2)**0.5"
   ]
  },
  {
   "cell_type": "code",
   "execution_count": 22,
   "metadata": {},
   "outputs": [],
   "source": [
    "p = Point(2,1)\n",
    "l = Line(3,4,-10)"
   ]
  },
  {
   "cell_type": "markdown",
   "metadata": {},
   "source": [
    "As the point lies on the line"
   ]
  },
  {
   "cell_type": "code",
   "execution_count": 23,
   "metadata": {},
   "outputs": [
    {
     "data": {
      "text/plain": [
       "0.0"
      ]
     },
     "execution_count": 23,
     "metadata": {},
     "output_type": "execute_result"
    }
   ],
   "source": [
    "l.sorted_distance(p)"
   ]
  },
  {
   "cell_type": "markdown",
   "metadata": {},
   "source": [
    "Excersize: find out if two lines intersect each other"
   ]
  },
  {
   "cell_type": "code",
   "execution_count": null,
   "metadata": {},
   "outputs": [],
   "source": []
  },
  {
   "cell_type": "markdown",
   "metadata": {},
   "source": [
    "# How objects access attributes\n",
    "\n",
    "Let's look at the code"
   ]
  },
  {
   "cell_type": "code",
   "execution_count": 30,
   "metadata": {},
   "outputs": [],
   "source": [
    "class Person:\n",
    "    def __init__(self,name,country):\n",
    "        self.name = name\n",
    "        self.country = country\n",
    "\n",
    "    def greet(self):\n",
    "        if self.country == 'india':\n",
    "            return 'Namaste {}'.format(self.name)\n",
    "        else:\n",
    "            return 'Hello {}'.format(self.name)"
   ]
  },
  {
   "cell_type": "code",
   "execution_count": 31,
   "metadata": {},
   "outputs": [],
   "source": [
    "p = Person('Alice','US')"
   ]
  },
  {
   "cell_type": "code",
   "execution_count": 32,
   "metadata": {},
   "outputs": [
    {
     "data": {
      "text/plain": [
       "'Hello Alice'"
      ]
     },
     "execution_count": 32,
     "metadata": {},
     "output_type": "execute_result"
    }
   ],
   "source": [
    "p.greet()"
   ]
  },
  {
   "cell_type": "code",
   "execution_count": 33,
   "metadata": {},
   "outputs": [
    {
     "data": {
      "text/plain": [
       "'US'"
      ]
     },
     "execution_count": 33,
     "metadata": {},
     "output_type": "execute_result"
    }
   ],
   "source": [
    "p.country"
   ]
  },
  {
   "cell_type": "markdown",
   "metadata": {},
   "source": [
    "But if we try to access an attribute that is not present in the class it's gonna give us an error"
   ]
  },
  {
   "cell_type": "code",
   "execution_count": 34,
   "metadata": {},
   "outputs": [
    {
     "ename": "AttributeError",
     "evalue": "'Person' object has no attribute 'gender'",
     "output_type": "error",
     "traceback": [
      "\u001b[0;31m---------------------------------------------------------------------------\u001b[0m",
      "\u001b[0;31mAttributeError\u001b[0m                            Traceback (most recent call last)",
      "Cell \u001b[0;32mIn[34], line 1\u001b[0m\n\u001b[0;32m----> 1\u001b[0m \u001b[43mp\u001b[49m\u001b[38;5;241;43m.\u001b[39;49m\u001b[43mgender\u001b[49m\n",
      "\u001b[0;31mAttributeError\u001b[0m: 'Person' object has no attribute 'gender'"
     ]
    }
   ],
   "source": [
    "p.gender"
   ]
  },
  {
   "cell_type": "markdown",
   "metadata": {},
   "source": [
    "but if we assign it a value, it's not gonna give us any errors"
   ]
  },
  {
   "cell_type": "code",
   "execution_count": 35,
   "metadata": {},
   "outputs": [],
   "source": [
    "p.gender = 'Male'"
   ]
  },
  {
   "cell_type": "markdown",
   "metadata": {},
   "source": [
    "So that's how we can creat an attributes from outside of a class. So we can create attributes using the object outside of a class"
   ]
  },
  {
   "cell_type": "code",
   "execution_count": 36,
   "metadata": {},
   "outputs": [
    {
     "data": {
      "text/plain": [
       "'Male'"
      ]
     },
     "execution_count": 36,
     "metadata": {},
     "output_type": "execute_result"
    }
   ],
   "source": [
    "p.gender"
   ]
  },
  {
   "cell_type": "markdown",
   "metadata": {},
   "source": [
    "# Reference variable\n",
    "\n",
    "Reference variable holds the object's memory address\n",
    "\n",
    "We can create objects without reference variable as well\n",
    "\n",
    "An object can have multiple reference variables\n",
    "\n",
    "Assigning a new reference variable to an existing object does not create a new object"
   ]
  },
  {
   "cell_type": "code",
   "execution_count": 37,
   "metadata": {},
   "outputs": [],
   "source": [
    "class Person:\n",
    "    def __init__(self):\n",
    "        self.name = 'Alice'\n",
    "        self.country = 'US'"
   ]
  },
  {
   "cell_type": "markdown",
   "metadata": {},
   "source": [
    "Now if we just write this peice of code, Is there an object created in the memory somewhere?"
   ]
  },
  {
   "cell_type": "code",
   "execution_count": 38,
   "metadata": {},
   "outputs": [
    {
     "data": {
      "text/plain": [
       "<__main__.Person at 0x1071bc110>"
      ]
     },
     "execution_count": 38,
     "metadata": {},
     "output_type": "execute_result"
    }
   ],
   "source": [
    "Person()"
   ]
  },
  {
   "cell_type": "markdown",
   "metadata": {},
   "source": [
    "So this is the memory location Python refereing that the object ius stored at.\n",
    "\n",
    "So when we assign it to a variable, we are actually storing that memory address or the referece into the variable.\n",
    "\n",
    "So p is just a variable the contains the memory address of the object, that is why p is called the reference variable."
   ]
  },
  {
   "cell_type": "code",
   "execution_count": 39,
   "metadata": {},
   "outputs": [],
   "source": [
    "p = Person()"
   ]
  },
  {
   "cell_type": "markdown",
   "metadata": {},
   "source": [
    "Now when we write this (aliasing), P and q they both pointing the same object or memory location"
   ]
  },
  {
   "cell_type": "code",
   "execution_count": 40,
   "metadata": {},
   "outputs": [],
   "source": [
    "q = p"
   ]
  },
  {
   "cell_type": "code",
   "execution_count": 41,
   "metadata": {},
   "outputs": [
    {
     "name": "stdout",
     "output_type": "stream",
     "text": [
      "4414273424\n",
      "4414273424\n"
     ]
    }
   ],
   "source": [
    "print(id(p))\n",
    "print(id(q))"
   ]
  },
  {
   "cell_type": "markdown",
   "metadata": {},
   "source": [
    "We can actually proof this point by making changes in one reference variable will change the other one"
   ]
  },
  {
   "cell_type": "code",
   "execution_count": 42,
   "metadata": {},
   "outputs": [
    {
     "name": "stdout",
     "output_type": "stream",
     "text": [
      "Alice\n",
      "Alice\n"
     ]
    }
   ],
   "source": [
    "print(p.name)\n",
    "print(q.name)"
   ]
  },
  {
   "cell_type": "code",
   "execution_count": 43,
   "metadata": {},
   "outputs": [
    {
     "name": "stdout",
     "output_type": "stream",
     "text": [
      "Alice\n",
      "Alice\n",
      "bob\n",
      "bob\n"
     ]
    }
   ],
   "source": [
    "print(p.name)\n",
    "print(q.name)\n",
    "q.name = 'bob'\n",
    "print(p.name)\n",
    "print(q.name)"
   ]
  },
  {
   "cell_type": "markdown",
   "metadata": {},
   "source": [
    "So we have to very carefull while creating reference variable, if assign the same object to multiple variable and make changes in one that actually reflect on the others."
   ]
  },
  {
   "cell_type": "markdown",
   "metadata": {},
   "source": [
    "# Pass by reference\n",
    "\n",
    "If we create a function outside of the class that takes one argument we can acually pass that class object as an argument."
   ]
  },
  {
   "cell_type": "code",
   "execution_count": 46,
   "metadata": {},
   "outputs": [],
   "source": [
    "class Person:\n",
    "    def __init__(self,name,country):\n",
    "        self.name = name\n",
    "        self.country = country\n",
    "\n",
    "def greet(person):\n",
    "    print(\"Hi this is {}, I'm from {}\".format(person.name,person.country))"
   ]
  },
  {
   "cell_type": "code",
   "execution_count": 47,
   "metadata": {},
   "outputs": [],
   "source": [
    "p = Person('Alice','US')"
   ]
  },
  {
   "cell_type": "code",
   "execution_count": 49,
   "metadata": {},
   "outputs": [
    {
     "name": "stdout",
     "output_type": "stream",
     "text": [
      "Hi this is Alice, I'm from US\n"
     ]
    }
   ],
   "source": [
    "greet(p)"
   ]
  },
  {
   "cell_type": "markdown",
   "metadata": {},
   "source": [
    "We can also do vice versa the function outside can return a class as an object"
   ]
  },
  {
   "cell_type": "code",
   "execution_count": 50,
   "metadata": {},
   "outputs": [],
   "source": [
    "class Person:\n",
    "    def __init__(self,name,country):\n",
    "        self.name = name\n",
    "        self.country = country\n",
    "\n",
    "def greet(person):\n",
    "    print(\"Hi this is {}, I'm from {}\".format(person.name,person.country))\n",
    "    p1 = Person('Bob', 'Vermont')\n",
    "    return p1"
   ]
  },
  {
   "cell_type": "code",
   "execution_count": 53,
   "metadata": {},
   "outputs": [],
   "source": [
    "p = Person('Alice', 'US')"
   ]
  },
  {
   "cell_type": "code",
   "execution_count": 54,
   "metadata": {},
   "outputs": [
    {
     "name": "stdout",
     "output_type": "stream",
     "text": [
      "Hi this is Alice, I'm from US\n"
     ]
    },
    {
     "data": {
      "text/plain": [
       "<__main__.Person at 0x107196c50>"
      ]
     },
     "execution_count": 54,
     "metadata": {},
     "output_type": "execute_result"
    }
   ],
   "source": [
    "greet(p)"
   ]
  },
  {
   "cell_type": "code",
   "execution_count": 55,
   "metadata": {},
   "outputs": [
    {
     "name": "stdout",
     "output_type": "stream",
     "text": [
      "Hi this is Alice, I'm from US\n"
     ]
    }
   ],
   "source": [
    "p2 = greet(p)"
   ]
  },
  {
   "cell_type": "code",
   "execution_count": 56,
   "metadata": {},
   "outputs": [
    {
     "name": "stdout",
     "output_type": "stream",
     "text": [
      "Bob\n"
     ]
    }
   ],
   "source": [
    "print(p2.name)"
   ]
  },
  {
   "cell_type": "markdown",
   "metadata": {},
   "source": [
    "They always refer to the same memory location, don't create a new object"
   ]
  },
  {
   "cell_type": "code",
   "execution_count": 60,
   "metadata": {},
   "outputs": [],
   "source": [
    "class Person:\n",
    "    def __init__(self,name,country):\n",
    "        self.name = name\n",
    "        self.country = country\n",
    "\n",
    "def greet(person):\n",
    "    print(id(person))"
   ]
  },
  {
   "cell_type": "code",
   "execution_count": 61,
   "metadata": {},
   "outputs": [],
   "source": [
    "p = Person('Alice', 'US')"
   ]
  },
  {
   "cell_type": "code",
   "execution_count": 62,
   "metadata": {},
   "outputs": [
    {
     "name": "stdout",
     "output_type": "stream",
     "text": [
      "4414128208\n",
      "4414128208\n"
     ]
    }
   ],
   "source": [
    "print(id(p))\n",
    "greet(p)"
   ]
  },
  {
   "cell_type": "markdown",
   "metadata": {},
   "source": [
    "As they are refering to the same address even the function outside of a class make the changes in name the initial name will be changed as the function takes the class object as arguments"
   ]
  },
  {
   "cell_type": "code",
   "execution_count": 63,
   "metadata": {},
   "outputs": [],
   "source": [
    "class Person:\n",
    "    def __init__(self,name,country):\n",
    "        self.name = name\n",
    "        self.country = country\n",
    "\n",
    "def greet(person):\n",
    "    print(id(person))\n",
    "    person.name = 'Bob'\n",
    "    print(person.name)"
   ]
  },
  {
   "cell_type": "code",
   "execution_count": 64,
   "metadata": {},
   "outputs": [],
   "source": [
    "p = Person('Alice', 'US')"
   ]
  },
  {
   "cell_type": "code",
   "execution_count": 65,
   "metadata": {},
   "outputs": [
    {
     "name": "stdout",
     "output_type": "stream",
     "text": [
      "4419638992\n",
      "4419638992\n",
      "Bob\n",
      "Bob\n"
     ]
    }
   ],
   "source": [
    "print(id(p))\n",
    "greet(p)\n",
    "print(p.name)"
   ]
  },
  {
   "cell_type": "markdown",
   "metadata": {},
   "source": [
    "# Mutibility of an object"
   ]
  },
  {
   "cell_type": "markdown",
   "metadata": {},
   "source": [
    "As they are refering to the same memory location, even after the changes the ids are same, so the objects are mutable."
   ]
  },
  {
   "cell_type": "code",
   "execution_count": 66,
   "metadata": {},
   "outputs": [],
   "source": [
    "class Person:\n",
    "    def __init__(self,name,country):\n",
    "        self.name = name\n",
    "        self.country = country\n",
    "\n",
    "def greet(person):\n",
    "    person.name = 'Bob'\n",
    "    return person"
   ]
  },
  {
   "cell_type": "code",
   "execution_count": 67,
   "metadata": {},
   "outputs": [
    {
     "name": "stdout",
     "output_type": "stream",
     "text": [
      "4413736848\n",
      "4413736848\n"
     ]
    }
   ],
   "source": [
    "p = Person('Alice', 'US')\n",
    "print(id(p))\n",
    "p1 = greet(p)\n",
    "print(id(p1))"
   ]
  },
  {
   "cell_type": "markdown",
   "metadata": {},
   "source": [
    "# Encapsulation\n",
    "\n",
    "Instance variable: In object-oriented programming (OOP), an instance variable is a variable that is bound to an instance of a class. Each instance of the class has its own set of instance variables. These variables represent the attributes or properties of the object and store data that is specific to that instance. you define instance variables within the class definition. These variables are accessed using the instance of the class and can have different values for different instances of the class. For example in this code the same variable can store two different values."
   ]
  },
  {
   "cell_type": "code",
   "execution_count": 1,
   "metadata": {},
   "outputs": [
    {
     "name": "stdout",
     "output_type": "stream",
     "text": [
      "Toyota\n",
      "Accord\n"
     ]
    }
   ],
   "source": [
    "class Car:\n",
    "    def __init__(self, make, model):\n",
    "        # instance variables\n",
    "        self.make = make\n",
    "        self.model = model\n",
    "\n",
    "# Creating instances of the Car class\n",
    "car1 = Car(\"Toyota\", \"Camry\")\n",
    "car2 = Car(\"Honda\", \"Accord\")\n",
    "\n",
    "# Accessing instance variables\n",
    "print(car1.make)\n",
    "print(car2.model)"
   ]
  },
  {
   "cell_type": "markdown",
   "metadata": {},
   "source": [
    "To understand the encapsulation we can get the Atm class from the previous code OOP part1"
   ]
  },
  {
   "cell_type": "code",
   "execution_count": 3,
   "metadata": {},
   "outputs": [],
   "source": [
    "class Atm:\n",
    "    def __init__(self):\n",
    "        self.pin = ''\n",
    "        self.balance = 0\n",
    "        self.menu()\n",
    "\n",
    "    def menu(self):\n",
    "        user_input = int(input(\"\"\"\n",
    "                Hi how can i help you\n",
    "              1. Press 1 to create PIN\n",
    "              2. Press 2 to change PIN\n",
    "              3. Press 3 to check balance\n",
    "              4. Press 4 to withdraw\n",
    "              5. Press 5 to exit\n",
    "\"\"\"))\n",
    "        if user_input == 1:\n",
    "            self.create_pin()\n",
    "        elif user_input == 2:\n",
    "            self.change_pin()\n",
    "        elif user_input == 3:\n",
    "            self.check_balance()\n",
    "        elif user_input == 4:\n",
    "            self.balance_withdraw()\n",
    "        else:\n",
    "            #exit\n",
    "            pass\n",
    "\n",
    "    def create_pin(self):\n",
    "        user_pin = int(input(\"Enter your PIN\"))\n",
    "        self.pin = user_pin\n",
    "        print(\"PIN created successfully.\")\n",
    "        user_balance = int(input(\"Enter you balance\")) # as we don't have banking server attached here\n",
    "        self.balance = user_balance\n",
    "        print(\"Your balance has been updated\")\n",
    "        self.menu()\n",
    "\n",
    "    def change_pin(self):\n",
    "        old_pin = int(input(\"Enter your PIN\"))\n",
    "        if old_pin==self.pin:\n",
    "            new_pin = int(input(\"Enter your new PIN\"))\n",
    "            self.pin = new_pin\n",
    "            print(\"PIN updated successfully.\")\n",
    "            self.menu()\n",
    "        else:\n",
    "            print(\"You have entered wrong PIN, try again\")\n",
    "            self.menu()\n",
    "\n",
    "    def check_balance(self):\n",
    "        check_pin = int(input(\"Enter your PIN\"))\n",
    "        if check_pin==self.pin:\n",
    "            print(\"Your balance is:\",self.balance)\n",
    "            self.menu()\n",
    "        else:\n",
    "            print(\"You have entered wrong PIN, try again\")\n",
    "            self.menu()\n",
    "    \n",
    "    def balance_withdraw(self):\n",
    "        withdraw_pin = int(input(\"Enter your PIN\"))\n",
    "        if withdraw_pin==self.pin:\n",
    "            amount = int(input(\"Enter the amount:\"))\n",
    "            if amount<=self.balance:\n",
    "                print(\"Dispancing cash now....\")\n",
    "                print(\"Collect your money\")\n",
    "                self.balance = self.balance - amount\n",
    "                print(\"Your available balance is:\",self.balance)\n",
    "            else:\n",
    "                print(\"Insufficient funds!\")\n",
    "        else:\n",
    "            print(\"You have entered wrong PIN, try again\")\n",
    "        self.menu()"
   ]
  },
  {
   "cell_type": "markdown",
   "metadata": {},
   "source": [
    "In this code any one can access any method and change the value."
   ]
  },
  {
   "cell_type": "code",
   "execution_count": 4,
   "metadata": {},
   "outputs": [],
   "source": [
    "atm = Atm()"
   ]
  },
  {
   "cell_type": "code",
   "execution_count": 5,
   "metadata": {},
   "outputs": [
    {
     "name": "stdout",
     "output_type": "stream",
     "text": [
      "PIN created successfully.\n",
      "Your balance has been updated\n"
     ]
    }
   ],
   "source": [
    "atm.create_pin()"
   ]
  },
  {
   "cell_type": "markdown",
   "metadata": {},
   "source": [
    "if some one put some string inside balance variable "
   ]
  },
  {
   "cell_type": "code",
   "execution_count": 7,
   "metadata": {},
   "outputs": [],
   "source": [
    "atm.balance = 'some string'"
   ]
  },
  {
   "cell_type": "markdown",
   "metadata": {},
   "source": [
    "The code will through an error for balance witdrawl as int to str not possible"
   ]
  },
  {
   "cell_type": "code",
   "execution_count": 8,
   "metadata": {},
   "outputs": [
    {
     "ename": "TypeError",
     "evalue": "'<=' not supported between instances of 'int' and 'str'",
     "output_type": "error",
     "traceback": [
      "\u001b[0;31m---------------------------------------------------------------------------\u001b[0m",
      "\u001b[0;31mTypeError\u001b[0m                                 Traceback (most recent call last)",
      "Cell \u001b[0;32mIn[8], line 1\u001b[0m\n\u001b[0;32m----> 1\u001b[0m \u001b[43matm\u001b[49m\u001b[38;5;241;43m.\u001b[39;49m\u001b[43mbalance_withdraw\u001b[49m\u001b[43m(\u001b[49m\u001b[43m)\u001b[49m\n",
      "Cell \u001b[0;32mIn[3], line 61\u001b[0m, in \u001b[0;36mAtm.balance_withdraw\u001b[0;34m(self)\u001b[0m\n\u001b[1;32m     59\u001b[0m \u001b[38;5;28;01mif\u001b[39;00m withdraw_pin\u001b[38;5;241m==\u001b[39m\u001b[38;5;28mself\u001b[39m\u001b[38;5;241m.\u001b[39mpin:\n\u001b[1;32m     60\u001b[0m     amount \u001b[38;5;241m=\u001b[39m \u001b[38;5;28mint\u001b[39m(\u001b[38;5;28minput\u001b[39m(\u001b[38;5;124m\"\u001b[39m\u001b[38;5;124mEnter the amount:\u001b[39m\u001b[38;5;124m\"\u001b[39m))\n\u001b[0;32m---> 61\u001b[0m     \u001b[38;5;28;01mif\u001b[39;00m \u001b[43mamount\u001b[49m\u001b[38;5;241;43m<\u001b[39;49m\u001b[38;5;241;43m=\u001b[39;49m\u001b[38;5;28;43mself\u001b[39;49m\u001b[38;5;241;43m.\u001b[39;49m\u001b[43mbalance\u001b[49m:\n\u001b[1;32m     62\u001b[0m         \u001b[38;5;28mprint\u001b[39m(\u001b[38;5;124m\"\u001b[39m\u001b[38;5;124mDispancing cash now....\u001b[39m\u001b[38;5;124m\"\u001b[39m)\n\u001b[1;32m     63\u001b[0m         \u001b[38;5;28mprint\u001b[39m(\u001b[38;5;124m\"\u001b[39m\u001b[38;5;124mCollect your money\u001b[39m\u001b[38;5;124m\"\u001b[39m)\n",
      "\u001b[0;31mTypeError\u001b[0m: '<=' not supported between instances of 'int' and 'str'"
     ]
    }
   ],
   "source": [
    "atm.balance_withdraw()"
   ]
  },
  {
   "cell_type": "markdown",
   "metadata": {},
   "source": [
    "Here come private attributes or private variable using a double underscore'__' before the variable. not only variable we can also do this for methods. like we did for balance and menu."
   ]
  },
  {
   "cell_type": "code",
   "execution_count": 11,
   "metadata": {},
   "outputs": [],
   "source": [
    "class Atm:\n",
    "    def __init__(self):\n",
    "        self.pin = ''\n",
    "        self.__balance = 0\n",
    "        self.menu()\n",
    "\n",
    "    def __menu(self):\n",
    "        user_input = int(input(\"\"\"\n",
    "                Hi how can i help you\n",
    "              1. Press 1 to create PIN\n",
    "              2. Press 2 to change PIN\n",
    "              3. Press 3 to check balance\n",
    "              4. Press 4 to withdraw\n",
    "              5. Press 5 to exit\n",
    "\"\"\"))\n",
    "        if user_input == 1:\n",
    "            self.create_pin()\n",
    "        elif user_input == 2:\n",
    "            self.change_pin()\n",
    "        elif user_input == 3:\n",
    "            self.check_balance()\n",
    "        elif user_input == 4:\n",
    "            self.balance_withdraw()\n",
    "        else:\n",
    "            #exit\n",
    "            pass\n",
    "\n",
    "    def create_pin(self):\n",
    "        user_pin = int(input(\"Enter your PIN\"))\n",
    "        self.pin = user_pin\n",
    "        print(\"PIN created successfully.\")\n",
    "        user_balance = int(input(\"Enter you balance\")) # as we don't have banking server attached here\n",
    "        self.__balance = user_balance\n",
    "        print(\"Your balance has been updated\")\n",
    "        self.menu()\n",
    "\n",
    "    def change_pin(self):\n",
    "        old_pin = int(input(\"Enter your PIN\"))\n",
    "        if old_pin==self.pin:\n",
    "            new_pin = int(input(\"Enter your new PIN\"))\n",
    "            self.pin = new_pin\n",
    "            print(\"PIN updated successfully.\")\n",
    "            self.menu()\n",
    "        else:\n",
    "            print(\"You have entered wrong PIN, try again\")\n",
    "            self.menu()\n",
    "\n",
    "    def check_balance(self):\n",
    "        check_pin = int(input(\"Enter your PIN\"))\n",
    "        if check_pin==self.pin:\n",
    "            print(\"Your balance is:\",self.__balance)\n",
    "            self.menu()\n",
    "        else:\n",
    "            print(\"You have entered wrong PIN, try again\")\n",
    "            self.menu()\n",
    "    \n",
    "    def balance_withdraw(self):\n",
    "        withdraw_pin = int(input(\"Enter your PIN\"))\n",
    "        if withdraw_pin==self.pin:\n",
    "            amount = int(input(\"Enter the amount:\"))\n",
    "            if amount<=self.__balance:\n",
    "                print(\"Dispancing cash now....\")\n",
    "                print(\"Collect your money\")\n",
    "                self.__balance = self.__balance - amount\n",
    "                print(\"Your available balance is:\",self.__balance)\n",
    "            else:\n",
    "                print(\"Insufficient funds!\")\n",
    "        else:\n",
    "            print(\"You have entered wrong PIN, try again\")\n",
    "        self.menu()"
   ]
  },
  {
   "cell_type": "code",
   "execution_count": 12,
   "metadata": {},
   "outputs": [],
   "source": [
    "atm = Atm"
   ]
  },
  {
   "cell_type": "markdown",
   "metadata": {},
   "source": [
    "now if we type atm. and wait we won't see the balance and menu accessible anymore."
   ]
  },
  {
   "cell_type": "code",
   "execution_count": null,
   "metadata": {},
   "outputs": [],
   "source": [
    "atm."
   ]
  },
  {
   "cell_type": "markdown",
   "metadata": {},
   "source": [
    "But someone might look at the code see those name of the variable that become self.__balance and try exactly the same name to change the values."
   ]
  },
  {
   "cell_type": "code",
   "execution_count": 18,
   "metadata": {},
   "outputs": [],
   "source": [
    "class Atm:\n",
    "    def __init__(self):\n",
    "        self.pin = ''\n",
    "        self.__balance = 0\n",
    "        self.__menu()\n",
    "\n",
    "    def __menu(self):\n",
    "        user_input = int(input(\"\"\"\n",
    "                Hi how can i help you\n",
    "              1. Press 1 to create PIN\n",
    "              2. Press 2 to change PIN\n",
    "              3. Press 3 to check balance\n",
    "              4. Press 4 to withdraw\n",
    "              5. Press 5 to exit\n",
    "\"\"\"))\n",
    "        if user_input == 1:\n",
    "            self.create_pin()\n",
    "        elif user_input == 2:\n",
    "            self.change_pin()\n",
    "        elif user_input == 3:\n",
    "            self.check_balance()\n",
    "        elif user_input == 4:\n",
    "            self.balance_withdraw()\n",
    "        else:\n",
    "            #exit\n",
    "            pass\n",
    "\n",
    "    def create_pin(self):\n",
    "        user_pin = int(input(\"Enter your PIN\"))\n",
    "        self.pin = user_pin\n",
    "        print(\"PIN created successfully.\")\n",
    "        user_balance = int(input(\"Enter you balance\")) # as we don't have banking server attached here\n",
    "        self.__balance = user_balance\n",
    "        print(\"Your balance has been updated\")\n",
    "        self.__menu()\n",
    "\n",
    "    def change_pin(self):\n",
    "        old_pin = int(input(\"Enter your PIN\"))\n",
    "        if old_pin==self.pin:\n",
    "            new_pin = int(input(\"Enter your new PIN\"))\n",
    "            self.pin = new_pin\n",
    "            print(\"PIN updated successfully.\")\n",
    "            self.__menu()\n",
    "        else:\n",
    "            print(\"You have entered wrong PIN, try again\")\n",
    "            self.__menu()\n",
    "\n",
    "    def check_balance(self):\n",
    "        check_pin = int(input(\"Enter your PIN\"))\n",
    "        if check_pin==self.pin:\n",
    "            print(\"Your balance is:\",self.__balance)\n",
    "            self.__menu()\n",
    "        else:\n",
    "            print(\"You have entered wrong PIN, try again\")\n",
    "            self.__menu()\n",
    "    \n",
    "    def balance_withdraw(self):\n",
    "        withdraw_pin = int(input(\"Enter your PIN\"))\n",
    "        if withdraw_pin==self.pin:\n",
    "            amount = int(input(\"Enter the amount:\"))\n",
    "            if amount<=self.__balance:\n",
    "                print(\"Dispancing cash now....\")\n",
    "                print(\"Collect your money\")\n",
    "                self.__balance = self.__balance - amount\n",
    "                print(\"Your available balance is:\",self.__balance)\n",
    "            else:\n",
    "                print(\"Insufficient funds!\")\n",
    "        else:\n",
    "            print(\"You have entered wrong PIN, try again\")\n",
    "        self.__menu()"
   ]
  },
  {
   "cell_type": "code",
   "execution_count": 19,
   "metadata": {},
   "outputs": [],
   "source": [
    "atm = Atm()"
   ]
  },
  {
   "cell_type": "code",
   "execution_count": 20,
   "metadata": {},
   "outputs": [
    {
     "name": "stdout",
     "output_type": "stream",
     "text": [
      "PIN created successfully.\n",
      "Your balance has been updated\n"
     ]
    }
   ],
   "source": [
    "atm.create_pin()"
   ]
  },
  {
   "cell_type": "code",
   "execution_count": 21,
   "metadata": {},
   "outputs": [],
   "source": [
    "atm.__balance = 'some string'"
   ]
  },
  {
   "cell_type": "code",
   "execution_count": 22,
   "metadata": {},
   "outputs": [
    {
     "name": "stdout",
     "output_type": "stream",
     "text": [
      "Dispancing cash now....\n",
      "Collect your money\n",
      "Your available balance is: 734\n"
     ]
    }
   ],
   "source": [
    "atm.balance_withdraw()"
   ]
  },
  {
   "cell_type": "markdown",
   "metadata": {},
   "source": [
    "Now as wee see even after trying __balance the code is gonna run perfect because when python see a double underscore at the starting of a variable it's gonna think that its a private variable and internally change its name to _classname__variablename. \n",
    "\n",
    "But if someone using the same syntax to change the code the code will be changed and error will orrcured. So in Python nothing is private.\n",
    "\n",
    "For example try running this code in pythontutor for visualizing"
   ]
  },
  {
   "cell_type": "code",
   "execution_count": 26,
   "metadata": {},
   "outputs": [
    {
     "name": "stdout",
     "output_type": "stream",
     "text": [
      "Alice\n"
     ]
    }
   ],
   "source": [
    "class Name:\n",
    "    def __init__(self):\n",
    "        self.__name = 'Alice'\n",
    "\n",
    "    def __str__(self):\n",
    "        return self.__name\n",
    "\n",
    "name = Name()\n",
    "print(name)"
   ]
  },
  {
   "cell_type": "markdown",
   "metadata": {},
   "source": [
    "But what if you want to keep your variable private and also let other people to access the variable.\n",
    "\n",
    "Here comes getter and setter, to get the value and set a new value creat two new functions in side the class. as inside a class one function can access others"
   ]
  },
  {
   "cell_type": "code",
   "execution_count": 27,
   "metadata": {},
   "outputs": [],
   "source": [
    "class Atm:\n",
    "    def __init__(self):\n",
    "        self.pin = ''\n",
    "        self.__balance = 0\n",
    "        self.__menu()\n",
    "\n",
    "    def get_balance(self):\n",
    "        return self.__balance\n",
    "    \n",
    "    def set_balance(self,new_value):\n",
    "        self.__balance = new_value\n",
    "\n",
    "    def __menu(self):\n",
    "        user_input = int(input(\"\"\"\n",
    "                Hi how can i help you\n",
    "              1. Press 1 to create PIN\n",
    "              2. Press 2 to change PIN\n",
    "              3. Press 3 to check balance\n",
    "              4. Press 4 to withdraw\n",
    "              5. Press 5 to exit\n",
    "\"\"\"))\n",
    "        if user_input == 1:\n",
    "            self.create_pin()\n",
    "        elif user_input == 2:\n",
    "            self.change_pin()\n",
    "        elif user_input == 3:\n",
    "            self.check_balance()\n",
    "        elif user_input == 4:\n",
    "            self.balance_withdraw()\n",
    "        else:\n",
    "            #exit\n",
    "            pass\n",
    "\n",
    "    def create_pin(self):\n",
    "        user_pin = int(input(\"Enter your PIN\"))\n",
    "        self.pin = user_pin\n",
    "        print(\"PIN created successfully.\")\n",
    "        user_balance = int(input(\"Enter you balance\")) # as we don't have banking server attached here\n",
    "        self.__balance = user_balance\n",
    "        print(\"Your balance has been updated\")\n",
    "        self.__menu()\n",
    "\n",
    "    def change_pin(self):\n",
    "        old_pin = int(input(\"Enter your PIN\"))\n",
    "        if old_pin==self.pin:\n",
    "            new_pin = int(input(\"Enter your new PIN\"))\n",
    "            self.pin = new_pin\n",
    "            print(\"PIN updated successfully.\")\n",
    "            self.__menu()\n",
    "        else:\n",
    "            print(\"You have entered wrong PIN, try again\")\n",
    "            self.__menu()\n",
    "\n",
    "    def check_balance(self):\n",
    "        check_pin = int(input(\"Enter your PIN\"))\n",
    "        if check_pin==self.pin:\n",
    "            print(\"Your balance is:\",self.__balance)\n",
    "            self.__menu()\n",
    "        else:\n",
    "            print(\"You have entered wrong PIN, try again\")\n",
    "            self.__menu()\n",
    "    \n",
    "    def balance_withdraw(self):\n",
    "        withdraw_pin = int(input(\"Enter your PIN\"))\n",
    "        if withdraw_pin==self.pin:\n",
    "            amount = int(input(\"Enter the amount:\"))\n",
    "            if amount<=self.__balance:\n",
    "                print(\"Dispancing cash now....\")\n",
    "                print(\"Collect your money\")\n",
    "                self.__balance = self.__balance - amount\n",
    "                print(\"Your available balance is:\",self.__balance)\n",
    "            else:\n",
    "                print(\"Insufficient funds!\")\n",
    "        else:\n",
    "            print(\"You have entered wrong PIN, try again\")\n",
    "        self.__menu()"
   ]
  },
  {
   "cell_type": "code",
   "execution_count": 28,
   "metadata": {},
   "outputs": [],
   "source": [
    "atm = Atm()"
   ]
  },
  {
   "cell_type": "markdown",
   "metadata": {},
   "source": [
    "Not if we type atm. and wait get_balance and set_balance is available to use."
   ]
  },
  {
   "cell_type": "code",
   "execution_count": 29,
   "metadata": {},
   "outputs": [
    {
     "data": {
      "text/plain": [
       "0"
      ]
     },
     "execution_count": 29,
     "metadata": {},
     "output_type": "execute_result"
    }
   ],
   "source": [
    "atm.get_balance()"
   ]
  },
  {
   "cell_type": "code",
   "execution_count": 30,
   "metadata": {},
   "outputs": [],
   "source": [
    "atm.set_balance(1000)"
   ]
  },
  {
   "cell_type": "code",
   "execution_count": 31,
   "metadata": {},
   "outputs": [
    {
     "data": {
      "text/plain": [
       "1000"
      ]
     },
     "execution_count": 31,
     "metadata": {},
     "output_type": "execute_result"
    }
   ],
   "source": [
    "atm.get_balance()"
   ]
  },
  {
   "cell_type": "markdown",
   "metadata": {},
   "source": [
    "But someone can still input a string value in balance useing setter. To prevent that you set a logic in the setter."
   ]
  },
  {
   "cell_type": "code",
   "execution_count": 32,
   "metadata": {},
   "outputs": [],
   "source": [
    "class Atm:\n",
    "    def __init__(self):\n",
    "        self.pin = ''\n",
    "        self.__balance = 0\n",
    "        self.__menu()\n",
    "\n",
    "    def get_balance(self):\n",
    "        return self.__balance\n",
    "    \n",
    "    def set_balance(self,new_value):\n",
    "        if new_value == int:\n",
    "            self.__balance = new_value\n",
    "        else:\n",
    "            print(\"you're macking a mistake\")\n",
    "\n",
    "    def __menu(self):\n",
    "        user_input = int(input(\"\"\"\n",
    "                Hi how can i help you\n",
    "              1. Press 1 to create PIN\n",
    "              2. Press 2 to change PIN\n",
    "              3. Press 3 to check balance\n",
    "              4. Press 4 to withdraw\n",
    "              5. Press 5 to exit\n",
    "\"\"\"))\n",
    "        if user_input == 1:\n",
    "            self.create_pin()\n",
    "        elif user_input == 2:\n",
    "            self.change_pin()\n",
    "        elif user_input == 3:\n",
    "            self.check_balance()\n",
    "        elif user_input == 4:\n",
    "            self.balance_withdraw()\n",
    "        else:\n",
    "            #exit\n",
    "            pass\n",
    "\n",
    "    def create_pin(self):\n",
    "        user_pin = int(input(\"Enter your PIN\"))\n",
    "        self.pin = user_pin\n",
    "        print(\"PIN created successfully.\")\n",
    "        user_balance = int(input(\"Enter you balance\")) # as we don't have banking server attached here\n",
    "        self.__balance = user_balance\n",
    "        print(\"Your balance has been updated\")\n",
    "        self.__menu()\n",
    "\n",
    "    def change_pin(self):\n",
    "        old_pin = int(input(\"Enter your PIN\"))\n",
    "        if old_pin==self.pin:\n",
    "            new_pin = int(input(\"Enter your new PIN\"))\n",
    "            self.pin = new_pin\n",
    "            print(\"PIN updated successfully.\")\n",
    "            self.__menu()\n",
    "        else:\n",
    "            print(\"You have entered wrong PIN, try again\")\n",
    "            self.__menu()\n",
    "\n",
    "    def check_balance(self):\n",
    "        check_pin = int(input(\"Enter your PIN\"))\n",
    "        if check_pin==self.pin:\n",
    "            print(\"Your balance is:\",self.__balance)\n",
    "            self.__menu()\n",
    "        else:\n",
    "            print(\"You have entered wrong PIN, try again\")\n",
    "            self.__menu()\n",
    "    \n",
    "    def balance_withdraw(self):\n",
    "        withdraw_pin = int(input(\"Enter your PIN\"))\n",
    "        if withdraw_pin==self.pin:\n",
    "            amount = int(input(\"Enter the amount:\"))\n",
    "            if amount<=self.__balance:\n",
    "                print(\"Dispancing cash now....\")\n",
    "                print(\"Collect your money\")\n",
    "                self.__balance = self.__balance - amount\n",
    "                print(\"Your available balance is:\",self.__balance)\n",
    "            else:\n",
    "                print(\"Insufficient funds!\")\n",
    "        else:\n",
    "            print(\"You have entered wrong PIN, try again\")\n",
    "        self.__menu()"
   ]
  },
  {
   "cell_type": "code",
   "execution_count": 33,
   "metadata": {},
   "outputs": [],
   "source": [
    "atm = Atm()"
   ]
  },
  {
   "cell_type": "code",
   "execution_count": 35,
   "metadata": {},
   "outputs": [
    {
     "name": "stdout",
     "output_type": "stream",
     "text": [
      "you're macking a mistake\n"
     ]
    }
   ],
   "source": [
    "atm.set_balance('ghg')"
   ]
  },
  {
   "cell_type": "markdown",
   "metadata": {},
   "source": [
    "This was Encapsulation. It refers to the bundling of data (attributes or properties) and the methods (functions or procedures) that operate on that data into a single unit known as a class. Encapsulation helps in hiding the internal implementation details or hiding some imporatant logic of an object and exposing only what is necessary.\n",
    "\n",
    "# Collection of objects\n",
    "\n",
    "We can store objects inside of list, set. This is called collection of object\n",
    "\n",
    "A collection of objects in the context of programming refers to a group or container that holds multiple instances of objects. Objects are instances of classes in object-oriented programming (OOP), and a collection is a data structure or container that allows you to store, organize, and manipulate multiple objects."
   ]
  },
  {
   "cell_type": "code",
   "execution_count": 54,
   "metadata": {},
   "outputs": [],
   "source": [
    "class Person:\n",
    "    def __init__(self,name,country):\n",
    "        self.name = name\n",
    "        self.country = country\n",
    "\n",
    "p1 = Person('Alice', 'US')\n",
    "p2 = Person('Ankita', 'Bharat')\n",
    "p3 = Person('Bob', 'Txas')"
   ]
  },
  {
   "cell_type": "markdown",
   "metadata": {},
   "source": [
    "Now if we make a list of three objects"
   ]
  },
  {
   "cell_type": "code",
   "execution_count": 56,
   "metadata": {},
   "outputs": [],
   "source": [
    "l = [p1,p2,p3]"
   ]
  },
  {
   "cell_type": "code",
   "execution_count": 40,
   "metadata": {},
   "outputs": [
    {
     "name": "stdout",
     "output_type": "stream",
     "text": [
      "[<__main__.Person object at 0x1060fba10>, <__main__.Person object at 0x11c9fa250>, <__main__.Person object at 0x1060f8550>]\n"
     ]
    }
   ],
   "source": [
    "print(l)"
   ]
  },
  {
   "cell_type": "markdown",
   "metadata": {},
   "source": [
    "Since it a list we can perfor list operations"
   ]
  },
  {
   "cell_type": "code",
   "execution_count": 57,
   "metadata": {},
   "outputs": [
    {
     "name": "stdout",
     "output_type": "stream",
     "text": [
      "Alice US\n",
      "Ankita Bharat\n",
      "Bob Txas\n"
     ]
    }
   ],
   "source": [
    "for i in l:\n",
    "    print(i.name,i.country)"
   ]
  },
  {
   "cell_type": "markdown",
   "metadata": {},
   "source": [
    "We can also create a dictionary"
   ]
  },
  {
   "cell_type": "code",
   "execution_count": 58,
   "metadata": {},
   "outputs": [],
   "source": [
    "d = {'key1':p1,'key2':p2,'key3':p3}"
   ]
  },
  {
   "cell_type": "code",
   "execution_count": 59,
   "metadata": {},
   "outputs": [
    {
     "name": "stdout",
     "output_type": "stream",
     "text": [
      "key1\n",
      "key2\n",
      "key3\n"
     ]
    }
   ],
   "source": [
    "for i in d:\n",
    "    print(i)"
   ]
  },
  {
   "cell_type": "code",
   "execution_count": 60,
   "metadata": {},
   "outputs": [
    {
     "name": "stdout",
     "output_type": "stream",
     "text": [
      "<__main__.Person object at 0x11cad16d0>\n",
      "<__main__.Person object at 0x11cad3090>\n",
      "<__main__.Person object at 0x11cad0b50>\n"
     ]
    }
   ],
   "source": [
    "for i in d:\n",
    "    print(d[i])"
   ]
  },
  {
   "cell_type": "code",
   "execution_count": 61,
   "metadata": {},
   "outputs": [
    {
     "name": "stdout",
     "output_type": "stream",
     "text": [
      "Alice\n",
      "Ankita\n",
      "Bob\n"
     ]
    }
   ],
   "source": [
    "for i in d:\n",
    "    print(d[i].name)"
   ]
  },
  {
   "cell_type": "code",
   "execution_count": 62,
   "metadata": {},
   "outputs": [
    {
     "name": "stdout",
     "output_type": "stream",
     "text": [
      "US\n",
      "Bharat\n",
      "Txas\n"
     ]
    }
   ],
   "source": [
    "for i in d:\n",
    "    print(d[i].country)"
   ]
  },
  {
   "cell_type": "markdown",
   "metadata": {},
   "source": [
    "# Static variable\n",
    "\n",
    "Instance Variables:\n",
    "\n",
    "Scope: Instance variables are specific to an instance of a class. Each instance of the class has its own copy of the instance variables.\n",
    "\n",
    "Declaration: They are defined inside the constructor (__init__ method) using the self keyword.\n",
    "\n",
    "Access: Accessed using the instance of the class (self).\n",
    "\n",
    "Usage: Instance variables are used to store data that is unique to each object created from the class."
   ]
  },
  {
   "cell_type": "code",
   "execution_count": null,
   "metadata": {},
   "outputs": [],
   "source": [
    "class MyClass:\n",
    "    def __init__(self, value):\n",
    "        self.instance_variable = value\n",
    "\n",
    "obj1 = MyClass(10)\n",
    "obj2 = MyClass(20)\n",
    "\n",
    "print(obj1.instance_variable)  # Output: 10\n",
    "print(obj2.instance_variable)  # Output: 20"
   ]
  },
  {
   "cell_type": "markdown",
   "metadata": {},
   "source": [
    "Static (Class) Variables:\n",
    "\n",
    "Scope: Static variables are associated with the class rather than instances. There is only one copy of a static variable shared among all instances of the class.\n",
    "\n",
    "Declaration: They are declared outside any method in the class and typically at the class level.\n",
    "\n",
    "Access: Accessed using the class name or the instance of the class.\n",
    "\n",
    "Usage: Static variables are used when you want to store data that is shared among all instances of the class."
   ]
  },
  {
   "cell_type": "code",
   "execution_count": null,
   "metadata": {},
   "outputs": [],
   "source": [
    "class MyClass:\n",
    "    static_variable = 0\n",
    "\n",
    "    def __init__(self, value):\n",
    "        self.instance_variable = value\n",
    "        MyClass.static_variable += 1\n",
    "\n",
    "obj1 = MyClass(10)\n",
    "obj2 = MyClass(20)\n",
    "\n",
    "print(obj1.instance_variable)        # Output: 10\n",
    "print(obj2.instance_variable)        # Output: 20\n",
    "print(MyClass.static_variable)       # Output: 2\n",
    "print(obj1.static_variable)          # Output: 2\n",
    "print(obj2.static_variable)          # Output: 2"
   ]
  },
  {
   "cell_type": "markdown",
   "metadata": {},
   "source": [
    "like if we try to create a customer id for every user"
   ]
  },
  {
   "cell_type": "code",
   "execution_count": 67,
   "metadata": {},
   "outputs": [],
   "source": [
    "class Atm:\n",
    "\n",
    "    # static variable\n",
    "    counter = 1\n",
    "\n",
    "    # constructor special function superpower\n",
    "    def __init__(self):\n",
    "        # instance variable\n",
    "        self.pin = ''\n",
    "        self.__balance = 0\n",
    "        self.cid = Atm.counter # always classname.staticvariablename\n",
    "        Atm.counter = Atm.counter + 1\n",
    "        self.__menu()\n",
    "\n",
    "    def get_balance(self):\n",
    "        return self.__balance\n",
    "    \n",
    "    def set_balance(self,new_value):\n",
    "        if new_value == int:\n",
    "            self.__balance = new_value\n",
    "        else:\n",
    "            print(\"you're macking a mistake\")\n",
    "\n",
    "    def __menu(self):\n",
    "        user_input = int(input(\"\"\"\n",
    "                Hi how can i help you\n",
    "              1. Press 1 to create PIN\n",
    "              2. Press 2 to change PIN\n",
    "              3. Press 3 to check balance\n",
    "              4. Press 4 to withdraw\n",
    "              5. Press 5 to exit\n",
    "\"\"\"))\n",
    "        if user_input == 1:\n",
    "            self.create_pin()\n",
    "        elif user_input == 2:\n",
    "            self.change_pin()\n",
    "        elif user_input == 3:\n",
    "            self.check_balance()\n",
    "        elif user_input == 4:\n",
    "            self.balance_withdraw()\n",
    "        else:\n",
    "            #exit\n",
    "            pass\n",
    "\n",
    "    def create_pin(self):\n",
    "        user_pin = int(input(\"Enter your PIN\"))\n",
    "        self.pin = user_pin\n",
    "        print(\"PIN created successfully.\")\n",
    "        user_balance = int(input(\"Enter you balance\")) # as we don't have banking server attached here\n",
    "        self.__balance = user_balance\n",
    "        print(\"Your balance has been updated\")\n",
    "        self.__menu()\n",
    "\n",
    "    def change_pin(self):\n",
    "        old_pin = int(input(\"Enter your PIN\"))\n",
    "        if old_pin==self.pin:\n",
    "            new_pin = int(input(\"Enter your new PIN\"))\n",
    "            self.pin = new_pin\n",
    "            print(\"PIN updated successfully.\")\n",
    "            self.__menu()\n",
    "        else:\n",
    "            print(\"You have entered wrong PIN, try again\")\n",
    "            self.__menu()\n",
    "\n",
    "    def check_balance(self):\n",
    "        check_pin = int(input(\"Enter your PIN\"))\n",
    "        if check_pin==self.pin:\n",
    "            print(\"Your balance is:\",self.__balance)\n",
    "            self.__menu()\n",
    "        else:\n",
    "            print(\"You have entered wrong PIN, try again\")\n",
    "            self.__menu()\n",
    "    \n",
    "    def balance_withdraw(self):\n",
    "        withdraw_pin = int(input(\"Enter your PIN\"))\n",
    "        if withdraw_pin==self.pin:\n",
    "            amount = int(input(\"Enter the amount:\"))\n",
    "            if amount<=self.__balance:\n",
    "                print(\"Dispancing cash now....\")\n",
    "                print(\"Collect your money\")\n",
    "                self.__balance = self.__balance - amount\n",
    "                print(\"Your available balance is:\",self.__balance)\n",
    "            else:\n",
    "                print(\"Insufficient funds!\")\n",
    "        else:\n",
    "            print(\"You have entered wrong PIN, try again\")\n",
    "        self.__menu()"
   ]
  },
  {
   "cell_type": "code",
   "execution_count": 68,
   "metadata": {},
   "outputs": [],
   "source": [
    "atm1 = Atm()\n",
    "atm2 = Atm()\n",
    "atm3 = Atm()"
   ]
  },
  {
   "cell_type": "code",
   "execution_count": 69,
   "metadata": {},
   "outputs": [
    {
     "data": {
      "text/plain": [
       "1"
      ]
     },
     "execution_count": 69,
     "metadata": {},
     "output_type": "execute_result"
    }
   ],
   "source": [
    "atm1.cid"
   ]
  },
  {
   "cell_type": "code",
   "execution_count": 70,
   "metadata": {},
   "outputs": [
    {
     "data": {
      "text/plain": [
       "2"
      ]
     },
     "execution_count": 70,
     "metadata": {},
     "output_type": "execute_result"
    }
   ],
   "source": [
    "atm2.cid"
   ]
  },
  {
   "cell_type": "code",
   "execution_count": 71,
   "metadata": {},
   "outputs": [
    {
     "data": {
      "text/plain": [
       "3"
      ]
     },
     "execution_count": 71,
     "metadata": {},
     "output_type": "execute_result"
    }
   ],
   "source": [
    "atm3.cid"
   ]
  },
  {
   "cell_type": "markdown",
   "metadata": {},
   "source": [
    "But some can misuse this like"
   ]
  },
  {
   "cell_type": "code",
   "execution_count": null,
   "metadata": {},
   "outputs": [],
   "source": [
    "Atm.counter = 'abcd'"
   ]
  },
  {
   "cell_type": "markdown",
   "metadata": {},
   "source": [
    "to solve this issue we can make it private in introduca geter setter even if it's a static variabe"
   ]
  },
  {
   "cell_type": "code",
   "execution_count": 72,
   "metadata": {},
   "outputs": [],
   "source": [
    "class Atm:\n",
    "\n",
    "    # static variable\n",
    "    __counter = 1\n",
    "\n",
    "    # constructor special function superpower\n",
    "    def __init__(self):\n",
    "        # instance variable\n",
    "        self.pin = ''\n",
    "        self.__balance = 0\n",
    "        self.cid = Atm.__counter # always classname.staticvariablename\n",
    "        Atm.__counter = Atm.__counter + 1\n",
    "        self.__menu()\n",
    "\n",
    "    def get_counter(self):\n",
    "        return Atm.__counter\n",
    "\n",
    "    def get_balance(self):\n",
    "        return self.__balance\n",
    "    \n",
    "    def set_balance(self,new_value):\n",
    "        if new_value == int:\n",
    "            self.__balance = new_value\n",
    "        else:\n",
    "            print(\"you're macking a mistake\")\n",
    "\n",
    "    def __menu(self):\n",
    "        user_input = int(input(\"\"\"\n",
    "                Hi how can i help you\n",
    "              1. Press 1 to create PIN\n",
    "              2. Press 2 to change PIN\n",
    "              3. Press 3 to check balance\n",
    "              4. Press 4 to withdraw\n",
    "              5. Press 5 to exit\n",
    "\"\"\"))\n",
    "        if user_input == 1:\n",
    "            self.create_pin()\n",
    "        elif user_input == 2:\n",
    "            self.change_pin()\n",
    "        elif user_input == 3:\n",
    "            self.check_balance()\n",
    "        elif user_input == 4:\n",
    "            self.balance_withdraw()\n",
    "        else:\n",
    "            #exit\n",
    "            pass\n",
    "\n",
    "    def create_pin(self):\n",
    "        user_pin = int(input(\"Enter your PIN\"))\n",
    "        self.pin = user_pin\n",
    "        print(\"PIN created successfully.\")\n",
    "        user_balance = int(input(\"Enter you balance\")) # as we don't have banking server attached here\n",
    "        self.__balance = user_balance\n",
    "        print(\"Your balance has been updated\")\n",
    "        self.__menu()\n",
    "\n",
    "    def change_pin(self):\n",
    "        old_pin = int(input(\"Enter your PIN\"))\n",
    "        if old_pin==self.pin:\n",
    "            new_pin = int(input(\"Enter your new PIN\"))\n",
    "            self.pin = new_pin\n",
    "            print(\"PIN updated successfully.\")\n",
    "            self.__menu()\n",
    "        else:\n",
    "            print(\"You have entered wrong PIN, try again\")\n",
    "            self.__menu()\n",
    "\n",
    "    def check_balance(self):\n",
    "        check_pin = int(input(\"Enter your PIN\"))\n",
    "        if check_pin==self.pin:\n",
    "            print(\"Your balance is:\",self.__balance)\n",
    "            self.__menu()\n",
    "        else:\n",
    "            print(\"You have entered wrong PIN, try again\")\n",
    "            self.__menu()\n",
    "    \n",
    "    def balance_withdraw(self):\n",
    "        withdraw_pin = int(input(\"Enter your PIN\"))\n",
    "        if withdraw_pin==self.pin:\n",
    "            amount = int(input(\"Enter the amount:\"))\n",
    "            if amount<=self.__balance:\n",
    "                print(\"Dispancing cash now....\")\n",
    "                print(\"Collect your money\")\n",
    "                self.__balance = self.__balance - amount\n",
    "                print(\"Your available balance is:\",self.__balance)\n",
    "            else:\n",
    "                print(\"Insufficient funds!\")\n",
    "        else:\n",
    "            print(\"You have entered wrong PIN, try again\")\n",
    "        self.__menu()"
   ]
  },
  {
   "cell_type": "markdown",
   "metadata": {},
   "source": [
    "Since the get_counter, our geter not returning any value that is accociated with self, we do not need to use self"
   ]
  },
  {
   "cell_type": "code",
   "execution_count": 73,
   "metadata": {},
   "outputs": [],
   "source": [
    "class Atm:\n",
    "\n",
    "    # static variable\n",
    "    __counter = 1\n",
    "\n",
    "    # constructor special function superpower\n",
    "    def __init__(self):\n",
    "        # instance variable\n",
    "        self.pin = ''\n",
    "        self.__balance = 0\n",
    "        self.cid = Atm.__counter # always classname.staticvariablename\n",
    "        Atm.__counter = Atm.__counter + 1\n",
    "        self.__menu()\n",
    "\n",
    "    def get_counter():\n",
    "        return Atm.__counter\n",
    "\n",
    "    def get_balance(self):\n",
    "        return self.__balance\n",
    "    \n",
    "    def set_balance(self,new_value):\n",
    "        if new_value == int:\n",
    "            self.__balance = new_value\n",
    "        else:\n",
    "            print(\"you're macking a mistake\")\n",
    "\n",
    "    def __menu(self):\n",
    "        user_input = int(input(\"\"\"\n",
    "                Hi how can i help you\n",
    "              1. Press 1 to create PIN\n",
    "              2. Press 2 to change PIN\n",
    "              3. Press 3 to check balance\n",
    "              4. Press 4 to withdraw\n",
    "              5. Press 5 to exit\n",
    "\"\"\"))\n",
    "        if user_input == 1:\n",
    "            self.create_pin()\n",
    "        elif user_input == 2:\n",
    "            self.change_pin()\n",
    "        elif user_input == 3:\n",
    "            self.check_balance()\n",
    "        elif user_input == 4:\n",
    "            self.balance_withdraw()\n",
    "        else:\n",
    "            #exit\n",
    "            pass\n",
    "\n",
    "    def create_pin(self):\n",
    "        user_pin = int(input(\"Enter your PIN\"))\n",
    "        self.pin = user_pin\n",
    "        print(\"PIN created successfully.\")\n",
    "        user_balance = int(input(\"Enter you balance\")) # as we don't have banking server attached here\n",
    "        self.__balance = user_balance\n",
    "        print(\"Your balance has been updated\")\n",
    "        self.__menu()\n",
    "\n",
    "    def change_pin(self):\n",
    "        old_pin = int(input(\"Enter your PIN\"))\n",
    "        if old_pin==self.pin:\n",
    "            new_pin = int(input(\"Enter your new PIN\"))\n",
    "            self.pin = new_pin\n",
    "            print(\"PIN updated successfully.\")\n",
    "            self.__menu()\n",
    "        else:\n",
    "            print(\"You have entered wrong PIN, try again\")\n",
    "            self.__menu()\n",
    "\n",
    "    def check_balance(self):\n",
    "        check_pin = int(input(\"Enter your PIN\"))\n",
    "        if check_pin==self.pin:\n",
    "            print(\"Your balance is:\",self.__balance)\n",
    "            self.__menu()\n",
    "        else:\n",
    "            print(\"You have entered wrong PIN, try again\")\n",
    "            self.__menu()\n",
    "    \n",
    "    def balance_withdraw(self):\n",
    "        withdraw_pin = int(input(\"Enter your PIN\"))\n",
    "        if withdraw_pin==self.pin:\n",
    "            amount = int(input(\"Enter the amount:\"))\n",
    "            if amount<=self.__balance:\n",
    "                print(\"Dispancing cash now....\")\n",
    "                print(\"Collect your money\")\n",
    "                self.__balance = self.__balance - amount\n",
    "                print(\"Your available balance is:\",self.__balance)\n",
    "            else:\n",
    "                print(\"Insufficient funds!\")\n",
    "        else:\n",
    "            print(\"You have entered wrong PIN, try again\")\n",
    "        self.__menu()"
   ]
  },
  {
   "cell_type": "code",
   "execution_count": 74,
   "metadata": {},
   "outputs": [],
   "source": [
    "atm = Atm()"
   ]
  },
  {
   "cell_type": "markdown",
   "metadata": {},
   "source": [
    "Since its not using self we can't access it using object name"
   ]
  },
  {
   "cell_type": "code",
   "execution_count": 75,
   "metadata": {},
   "outputs": [
    {
     "ename": "TypeError",
     "evalue": "Atm.get_counter() takes 0 positional arguments but 1 was given",
     "output_type": "error",
     "traceback": [
      "\u001b[0;31m---------------------------------------------------------------------------\u001b[0m",
      "\u001b[0;31mTypeError\u001b[0m                                 Traceback (most recent call last)",
      "Cell \u001b[0;32mIn[75], line 1\u001b[0m\n\u001b[0;32m----> 1\u001b[0m \u001b[43matm\u001b[49m\u001b[38;5;241;43m.\u001b[39;49m\u001b[43mget_counter\u001b[49m\u001b[43m(\u001b[49m\u001b[43m)\u001b[49m\n",
      "\u001b[0;31mTypeError\u001b[0m: Atm.get_counter() takes 0 positional arguments but 1 was given"
     ]
    }
   ],
   "source": [
    "atm.get_counter()"
   ]
  },
  {
   "cell_type": "markdown",
   "metadata": {},
   "source": [
    "we can access it using class name since it's now belong to the class"
   ]
  },
  {
   "cell_type": "code",
   "execution_count": 77,
   "metadata": {},
   "outputs": [
    {
     "data": {
      "text/plain": [
       "2"
      ]
     },
     "execution_count": 77,
     "metadata": {},
     "output_type": "execute_result"
    }
   ],
   "source": [
    "Atm.get_counter()"
   ]
  },
  {
   "cell_type": "markdown",
   "metadata": {},
   "source": [
    "This type of method is called static method it is denoted using an @ decorator. This type of function doesn't need object to function"
   ]
  },
  {
   "cell_type": "code",
   "execution_count": 78,
   "metadata": {},
   "outputs": [],
   "source": [
    "class Atm:\n",
    "\n",
    "    # static variable\n",
    "    __counter = 1\n",
    "\n",
    "    # constructor special function superpower\n",
    "    def __init__(self):\n",
    "        # instance variable\n",
    "        self.pin = ''\n",
    "        self.__balance = 0\n",
    "        self.cid = Atm.__counter # always classname.static_variable_name\n",
    "        Atm.__counter = Atm.__counter + 1\n",
    "        self.__menu()\n",
    "    # utility functions\n",
    "    @staticmethod\n",
    "    def get_counter():\n",
    "        return Atm.__counter\n",
    "\n",
    "    def get_balance(self):\n",
    "        return self.__balance\n",
    "    \n",
    "    def set_balance(self,new_value):\n",
    "        if new_value == int:\n",
    "            self.__balance = new_value\n",
    "        else:\n",
    "            print(\"you're macking a mistake\")\n",
    "\n",
    "    def __menu(self):\n",
    "        user_input = int(input(\"\"\"\n",
    "                Hi how can i help you\n",
    "              1. Press 1 to create PIN\n",
    "              2. Press 2 to change PIN\n",
    "              3. Press 3 to check balance\n",
    "              4. Press 4 to withdraw\n",
    "              5. Press 5 to exit\n",
    "\"\"\"))\n",
    "        if user_input == 1:\n",
    "            self.create_pin()\n",
    "        elif user_input == 2:\n",
    "            self.change_pin()\n",
    "        elif user_input == 3:\n",
    "            self.check_balance()\n",
    "        elif user_input == 4:\n",
    "            self.balance_withdraw()\n",
    "        else:\n",
    "            #exit\n",
    "            pass\n",
    "\n",
    "    def create_pin(self):\n",
    "        user_pin = int(input(\"Enter your PIN\"))\n",
    "        self.pin = user_pin\n",
    "        print(\"PIN created successfully.\")\n",
    "        user_balance = int(input(\"Enter you balance\")) # as we don't have banking server attached here\n",
    "        self.__balance = user_balance\n",
    "        print(\"Your balance has been updated\")\n",
    "        self.__menu()\n",
    "\n",
    "    def change_pin(self):\n",
    "        old_pin = int(input(\"Enter your PIN\"))\n",
    "        if old_pin==self.pin:\n",
    "            new_pin = int(input(\"Enter your new PIN\"))\n",
    "            self.pin = new_pin\n",
    "            print(\"PIN updated successfully.\")\n",
    "            self.__menu()\n",
    "        else:\n",
    "            print(\"You have entered wrong PIN, try again\")\n",
    "            self.__menu()\n",
    "\n",
    "    def check_balance(self):\n",
    "        check_pin = int(input(\"Enter your PIN\"))\n",
    "        if check_pin==self.pin:\n",
    "            print(\"Your balance is:\",self.__balance)\n",
    "            self.__menu()\n",
    "        else:\n",
    "            print(\"You have entered wrong PIN, try again\")\n",
    "            self.__menu()\n",
    "    \n",
    "    def balance_withdraw(self):\n",
    "        withdraw_pin = int(input(\"Enter your PIN\"))\n",
    "        if withdraw_pin==self.pin:\n",
    "            amount = int(input(\"Enter the amount:\"))\n",
    "            if amount<=self.__balance:\n",
    "                print(\"Dispancing cash now....\")\n",
    "                print(\"Collect your money\")\n",
    "                self.__balance = self.__balance - amount\n",
    "                print(\"Your available balance is:\",self.__balance)\n",
    "            else:\n",
    "                print(\"Insufficient funds!\")\n",
    "        else:\n",
    "            print(\"You have entered wrong PIN, try again\")\n",
    "        self.__menu()"
   ]
  },
  {
   "cell_type": "code",
   "execution_count": null,
   "metadata": {},
   "outputs": [],
   "source": []
  }
 ],
 "metadata": {
  "kernelspec": {
   "display_name": "Python 3",
   "language": "python",
   "name": "python3"
  },
  "language_info": {
   "codemirror_mode": {
    "name": "ipython",
    "version": 3
   },
   "file_extension": ".py",
   "mimetype": "text/x-python",
   "name": "python",
   "nbconvert_exporter": "python",
   "pygments_lexer": "ipython3",
   "version": "3.11.5"
  }
 },
 "nbformat": 4,
 "nbformat_minor": 2
}
