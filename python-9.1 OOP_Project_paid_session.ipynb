{
 "cells": [
  {
   "cell_type": "code",
   "execution_count": 1,
   "metadata": {},
   "outputs": [
    {
     "name": "stdout",
     "output_type": "stream",
     "text": [
      "Collecting nlpcloud\n",
      "  Downloading nlpcloud-1.1.46-py3-none-any.whl.metadata (1.1 kB)\n",
      "Requirement already satisfied: requests in /Library/Frameworks/Python.framework/Versions/3.11/lib/python3.11/site-packages (from nlpcloud) (2.31.0)\n",
      "Requirement already satisfied: charset-normalizer<4,>=2 in /Library/Frameworks/Python.framework/Versions/3.11/lib/python3.11/site-packages (from requests->nlpcloud) (3.2.0)\n",
      "Requirement already satisfied: idna<4,>=2.5 in /Library/Frameworks/Python.framework/Versions/3.11/lib/python3.11/site-packages (from requests->nlpcloud) (3.4)\n",
      "Requirement already satisfied: urllib3<3,>=1.21.1 in /Library/Frameworks/Python.framework/Versions/3.11/lib/python3.11/site-packages (from requests->nlpcloud) (2.0.4)\n",
      "Requirement already satisfied: certifi>=2017.4.17 in /Library/Frameworks/Python.framework/Versions/3.11/lib/python3.11/site-packages (from requests->nlpcloud) (2023.7.22)\n",
      "Downloading nlpcloud-1.1.46-py3-none-any.whl (3.9 kB)\n",
      "Installing collected packages: nlpcloud\n",
      "Successfully installed nlpcloud-1.1.46\n",
      "\n",
      "\u001b[1m[\u001b[0m\u001b[34;49mnotice\u001b[0m\u001b[1;39;49m]\u001b[0m\u001b[39;49m A new release of pip is available: \u001b[0m\u001b[31;49m23.3.2\u001b[0m\u001b[39;49m -> \u001b[0m\u001b[32;49m24.0\u001b[0m\n",
      "\u001b[1m[\u001b[0m\u001b[34;49mnotice\u001b[0m\u001b[1;39;49m]\u001b[0m\u001b[39;49m To update, run: \u001b[0m\u001b[32;49mpip3 install --upgrade pip\u001b[0m\n",
      "Note: you may need to restart the kernel to use updated packages.\n"
     ]
    }
   ],
   "source": [
    "%pip install nlpcloud\n",
    "# https://nlpcloud.com/home/playground/language-detection"
   ]
  },
  {
   "cell_type": "code",
   "execution_count": 4,
   "metadata": {},
   "outputs": [
    {
     "data": {
      "text/plain": [
       "{'entities': [{'start': 26,\n",
       "   'end': 36,\n",
       "   'type': 'programming languages',\n",
       "   'text': 'Javascript'},\n",
       "  {'start': 102,\n",
       "   'end': 108,\n",
       "   'type': 'programming languages',\n",
       "   'text': 'Python'},\n",
       "  {'start': 165, 'end': 167, 'type': 'programming languages', 'text': 'Go'}]}"
      ]
     },
     "execution_count": 4,
     "metadata": {},
     "output_type": "execute_result"
    }
   ],
   "source": [
    "import nlpcloud\n",
    "\n",
    "client = nlpcloud.Client(\"finetuned-gpt-neox-20b\", \"a4974d66cd0a32da8e8a32299d23ddd035a12f15\", gpu=True, lang=\"en\")\n",
    "client.entities(\"\"\"John Doe started learning Javascript when he was 15 years old. After a couple of years he switched to Python and starter learning low level programming. He is now a Go expert at Google.\"\"\", searched_entity=\"programming languages\")"
   ]
  },
  {
   "cell_type": "code",
   "execution_count": 58,
   "metadata": {},
   "outputs": [
    {
     "name": "stdout",
     "output_type": "stream",
     "text": [
      "Registration sucessful!\n",
      "{'aa': ['a', '1']}\n",
      "Login successful\n",
      "{'languages': [{'fr': 0.9999956436070836}]}\n"
     ]
    }
   ],
   "source": [
    "import nlpcloud\n",
    "from functools import reduce\n",
    "\n",
    "class NLPApp:\n",
    "    def __init__(self):\n",
    "        self.__database = {}\n",
    "        self.__first_menu()\n",
    "\n",
    "    def __first_menu(self):\n",
    "        first_input = int(input(\"\"\"\n",
    "Hi! Welcome, how would you like to proceed?\n",
    "                                1. Not a member? Register yourself\n",
    "                                2. Already a member? Login\n",
    "                                3. Exit\n",
    "\"\"\"))\n",
    "        if first_input == 1:\n",
    "            self.__register()\n",
    "        elif first_input == 2:\n",
    "            self.__login()\n",
    "        else:\n",
    "            exit()\n",
    "        \n",
    "    def __register(self):\n",
    "        name = input(\"Enter your name\")\n",
    "        email = input(\"Enter your email\")\n",
    "        password = input(\"Enter your password\")\n",
    "        if email in self.__database:\n",
    "            print(\"The email that you provided already registered!\")\n",
    "        else:\n",
    "            self.__database[email] = [name,password]\n",
    "            print(\"Registration sucessful!\")\n",
    "            print(self.__database)\n",
    "            self.__login()\n",
    "\n",
    "    def __login(self):\n",
    "        email = input(\"Enter your email\")\n",
    "        password = input(\"Enter your password\")\n",
    "        if email in self.__database:\n",
    "            if self.__database[email][1] == password:\n",
    "                print(\"Login successful\")\n",
    "                self.__second_menu()\n",
    "            else:\n",
    "                print(\"Wrong password!\")\n",
    "                self.__login()\n",
    "        else:\n",
    "            print(\"This user doesn't exit\")\n",
    "            self.__first_menu()\n",
    "\n",
    "    def __second_menu(self):\n",
    "        second_input = int(input(\"\"\"\n",
    "Hey there!, so what do you wanna do today?\n",
    "                                1. NER\n",
    "                                2. Language Detection\n",
    "                                3. Sentiment Detection\n",
    "                                4. Logout\n",
    "\"\"\"))\n",
    "        if second_input == 1:\n",
    "            self.__ner()\n",
    "        elif second_input == 2:\n",
    "            self.__language_detection()\n",
    "        elif second_input == 3:\n",
    "            self.__sentiment_detection()\n",
    "        else:\n",
    "            exit() \n",
    "\n",
    "    def __ner(self):\n",
    "        para = input(\"Enter the paragraph\")\n",
    "        search_word = input(\"Enter the word that you'd like to search: \")\n",
    "\n",
    "        client = nlpcloud.Client(\"finetuned-gpt-neox-20b\", \"a4974d66cd0a32da8e8a32299d23ddd035a12f15\", gpu=True, lang=\"en\")\n",
    "        response = client.entities(para, searched_entity=search_word)\n",
    "        print(response)\n",
    "\n",
    "    def __language_detection(self):\n",
    "        para = input(\"Enter the paragraph\")\n",
    "        client = nlpcloud.Client(\"python-langdetect\", \"a4974d66cd0a32da8e8a32299d23ddd035a12f15\")\n",
    "        response = client.langdetection(para)\n",
    "        print(response)\n",
    "    \n",
    "    def __sentiment_detection(self):\n",
    "        para = input(\"Enter the paragraph\")\n",
    "        client = nlpcloud.Client(\"distilbert-base-uncased-emotion\", \"a4974d66cd0a32da8e8a32299d23ddd035a12f15\", gpu=False, lang=\"en\")\n",
    "        response = client.sentiment(para)\n",
    "        l = []\n",
    "        for i in response['scored_labels']:\n",
    "            l.append(i['score'])\n",
    "        max_pred = reduce(lambda x,y:x if x>y else y,l)\n",
    "        for i in response['scored_labels']:\n",
    "            if i['score'] == max_pred:\n",
    "                print(\"The sentiment of the provided paragrap is:\",i['label'])\n",
    "\n",
    "object = NLPApp()"
   ]
  },
  {
   "cell_type": "markdown",
   "metadata": {},
   "source": [
    "## Here's the steps how I calculated the maximum score label from the api response"
   ]
  },
  {
   "cell_type": "code",
   "execution_count": 59,
   "metadata": {},
   "outputs": [],
   "source": [
    "d = {'languages': [{'fr': 0.9999956436070836}]}"
   ]
  },
  {
   "cell_type": "code",
   "execution_count": 68,
   "metadata": {},
   "outputs": [
    {
     "name": "stdout",
     "output_type": "stream",
     "text": [
      "The key is: fr\n"
     ]
    }
   ],
   "source": [
    "data = [{'fr': 0.9999956436070836}]\n",
    "\n",
    "# Access the first dictionary in the list\n",
    "first_dict = data[0]\n",
    "\n",
    "# Extract the key from the dictionary\n",
    "key = list(first_dict.keys())[0]\n",
    "\n",
    "print(f\"The key is: {key}\")"
   ]
  },
  {
   "cell_type": "code",
   "execution_count": 46,
   "metadata": {},
   "outputs": [],
   "source": [
    "#d = response\n",
    "d = {'scored_labels': [{'label': 'sadness', 'score': 0.98093181848526}, {'label': 'anger', 'score': 0.016494987532496452}, {'label': 'joy', 'score': 0.001407245290465653}, {'label': 'love', 'score': 0.000415731716202572}, {'label': 'fear', 'score': 0.00039679306792095304}, {'label': 'surprise', 'score': 0.0003534728311933577}]}"
   ]
  },
  {
   "cell_type": "code",
   "execution_count": 47,
   "metadata": {},
   "outputs": [],
   "source": [
    "l = []\n",
    "for i in d['scored_labels']:\n",
    "    l.append(i['score'])\n",
    "from functools import reduce\n",
    "max_pred = reduce(lambda x,y:x if x>y else y,l)"
   ]
  },
  {
   "cell_type": "code",
   "execution_count": 42,
   "metadata": {},
   "outputs": [
    {
     "data": {
      "text/plain": [
       "[0.98093181848526,\n",
       " 0.016494987532496452,\n",
       " 0.001407245290465653,\n",
       " 0.000415731716202572,\n",
       " 0.00039679306792095304,\n",
       " 0.0003534728311933577]"
      ]
     },
     "execution_count": 42,
     "metadata": {},
     "output_type": "execute_result"
    }
   ],
   "source": [
    "l"
   ]
  },
  {
   "cell_type": "code",
   "execution_count": 48,
   "metadata": {},
   "outputs": [
    {
     "data": {
      "text/plain": [
       "0.98093181848526"
      ]
     },
     "execution_count": 48,
     "metadata": {},
     "output_type": "execute_result"
    }
   ],
   "source": [
    "max_pred"
   ]
  },
  {
   "cell_type": "code",
   "execution_count": 54,
   "metadata": {},
   "outputs": [
    {
     "name": "stdout",
     "output_type": "stream",
     "text": [
      "The sentiment of the provided paragrap is: sadness\n"
     ]
    }
   ],
   "source": [
    "for i in d['scored_labels']:\n",
    "    if i['score'] == max_pred:\n",
    "        print(\"The sentiment of the provided paragrap is:\",i['label'])"
   ]
  },
  {
   "cell_type": "code",
   "execution_count": null,
   "metadata": {},
   "outputs": [],
   "source": []
  }
 ],
 "metadata": {
  "kernelspec": {
   "display_name": "Python 3",
   "language": "python",
   "name": "python3"
  },
  "language_info": {
   "codemirror_mode": {
    "name": "ipython",
    "version": 3
   },
   "file_extension": ".py",
   "mimetype": "text/x-python",
   "name": "python",
   "nbconvert_exporter": "python",
   "pygments_lexer": "ipython3",
   "version": "3.11.5"
  }
 },
 "nbformat": 4,
 "nbformat_minor": 2
}
